{
  "nbformat": 4,
  "nbformat_minor": 0,
  "metadata": {
    "colab": {
      "provenance": []
    },
    "kernelspec": {
      "name": "python3",
      "display_name": "Python 3"
    },
    "language_info": {
      "name": "python"
    }
  },
  "cells": [
    {
      "cell_type": "code",
      "execution_count": null,
      "metadata": {
        "id": "zudP3ifBItpa"
      },
      "outputs": [],
      "source": [
        "import math\n",
        "from keras.models import Sequential\n",
        "from keras.layers import Dense, Dropout\n",
        "from keras.layers import LSTM\n",
        "from sklearn.preprocessing import MinMaxScaler\n",
        "from sklearn.metrics import mean_squared_error\n",
        "import numpy as np\n",
        "import pandas as pd\n",
        "import matplotlib.pyplot as plt\n",
        "import seaborn as sns\n",
        "from sklearn.model_selection import KFold, cross_val_predict, train_test_split,GridSearchCV,cross_val_score\n",
        "from sklearn.preprocessing import StandardScaler, PolynomialFeatures, OneHotEncoder,StandardScaler,PowerTransformer, MinMaxScaler, RobustScaler\n"
      ]
    },
    {
      "cell_type": "code",
      "source": [
        "from google.colab import drive\n",
        "drive.mount('/content/drive')"
      ],
      "metadata": {
        "colab": {
          "base_uri": "https://localhost:8080/"
        },
        "id": "py5ReC6rJVDZ",
        "outputId": "4d234ca8-1fa7-4a8c-c8d2-7621db7266c7"
      },
      "execution_count": null,
      "outputs": [
        {
          "output_type": "stream",
          "name": "stdout",
          "text": [
            "Mounted at /content/drive\n"
          ]
        }
      ]
    },
    {
      "cell_type": "code",
      "source": [
        "df = pd.read_csv('/content/drive/MyDrive/Final project PTTK/SVN Historical Data.csv')\n",
        "df.head()\n",
        "df = df[::-1]\n",
        "df['Date'] = pd.to_datetime(df['Date'])\n",
        "train_dates = pd.to_datetime(df['Date'])\n",
        "\n",
        "df = df.dropna()\n",
        "df.info()\n",
        "df.head()\n"
      ],
      "metadata": {
        "colab": {
          "base_uri": "https://localhost:8080/",
          "height": 449
        },
        "id": "nJ3nxDrXJHhY",
        "outputId": "4caae419-2f19-4068-93e5-c9f728a481eb"
      },
      "execution_count": null,
      "outputs": [
        {
          "output_type": "stream",
          "name": "stdout",
          "text": [
            "<class 'pandas.core.frame.DataFrame'>\n",
            "Int64Index: 1360 entries, 1360 to 0\n",
            "Data columns (total 7 columns):\n",
            " #   Column  Non-Null Count  Dtype         \n",
            "---  ------  --------------  -----         \n",
            " 0   Date    1360 non-null   datetime64[ns]\n",
            " 1   Price   1360 non-null   int64         \n",
            " 2   Open    1360 non-null   int64         \n",
            " 3   High    1360 non-null   int64         \n",
            " 4   Low     1360 non-null   int64         \n",
            " 5   Vol.    1360 non-null   float64       \n",
            " 6   Change  1360 non-null   float64       \n",
            "dtypes: datetime64[ns](1), float64(2), int64(4)\n",
            "memory usage: 85.0 KB\n"
          ]
        },
        {
          "output_type": "execute_result",
          "data": {
            "text/plain": [
              "           Date  Price  Open  High   Low     Vol.  Change\n",
              "1360 2016-01-04   4500  4500  4500  4400   3000.0  0.0000\n",
              "1359 2016-01-05   4500  4500  4600  4300  17200.0  0.0000\n",
              "1358 2016-01-06   4700  4400  4700  4300  24400.0  0.0444\n",
              "1357 2016-01-07   4400  4600  4600  4300  18300.0 -0.0638\n",
              "1356 2016-01-08   4800  4500  4800  4300  51000.0  0.0909"
            ],
            "text/html": [
              "\n",
              "  <div id=\"df-d91ce12f-1a8d-498c-9508-e7636bc9a81b\" class=\"colab-df-container\">\n",
              "    <div>\n",
              "<style scoped>\n",
              "    .dataframe tbody tr th:only-of-type {\n",
              "        vertical-align: middle;\n",
              "    }\n",
              "\n",
              "    .dataframe tbody tr th {\n",
              "        vertical-align: top;\n",
              "    }\n",
              "\n",
              "    .dataframe thead th {\n",
              "        text-align: right;\n",
              "    }\n",
              "</style>\n",
              "<table border=\"1\" class=\"dataframe\">\n",
              "  <thead>\n",
              "    <tr style=\"text-align: right;\">\n",
              "      <th></th>\n",
              "      <th>Date</th>\n",
              "      <th>Price</th>\n",
              "      <th>Open</th>\n",
              "      <th>High</th>\n",
              "      <th>Low</th>\n",
              "      <th>Vol.</th>\n",
              "      <th>Change</th>\n",
              "    </tr>\n",
              "  </thead>\n",
              "  <tbody>\n",
              "    <tr>\n",
              "      <th>1360</th>\n",
              "      <td>2016-01-04</td>\n",
              "      <td>4500</td>\n",
              "      <td>4500</td>\n",
              "      <td>4500</td>\n",
              "      <td>4400</td>\n",
              "      <td>3000.0</td>\n",
              "      <td>0.0000</td>\n",
              "    </tr>\n",
              "    <tr>\n",
              "      <th>1359</th>\n",
              "      <td>2016-01-05</td>\n",
              "      <td>4500</td>\n",
              "      <td>4500</td>\n",
              "      <td>4600</td>\n",
              "      <td>4300</td>\n",
              "      <td>17200.0</td>\n",
              "      <td>0.0000</td>\n",
              "    </tr>\n",
              "    <tr>\n",
              "      <th>1358</th>\n",
              "      <td>2016-01-06</td>\n",
              "      <td>4700</td>\n",
              "      <td>4400</td>\n",
              "      <td>4700</td>\n",
              "      <td>4300</td>\n",
              "      <td>24400.0</td>\n",
              "      <td>0.0444</td>\n",
              "    </tr>\n",
              "    <tr>\n",
              "      <th>1357</th>\n",
              "      <td>2016-01-07</td>\n",
              "      <td>4400</td>\n",
              "      <td>4600</td>\n",
              "      <td>4600</td>\n",
              "      <td>4300</td>\n",
              "      <td>18300.0</td>\n",
              "      <td>-0.0638</td>\n",
              "    </tr>\n",
              "    <tr>\n",
              "      <th>1356</th>\n",
              "      <td>2016-01-08</td>\n",
              "      <td>4800</td>\n",
              "      <td>4500</td>\n",
              "      <td>4800</td>\n",
              "      <td>4300</td>\n",
              "      <td>51000.0</td>\n",
              "      <td>0.0909</td>\n",
              "    </tr>\n",
              "  </tbody>\n",
              "</table>\n",
              "</div>\n",
              "    <div class=\"colab-df-buttons\">\n",
              "\n",
              "  <div class=\"colab-df-container\">\n",
              "    <button class=\"colab-df-convert\" onclick=\"convertToInteractive('df-d91ce12f-1a8d-498c-9508-e7636bc9a81b')\"\n",
              "            title=\"Convert this dataframe to an interactive table.\"\n",
              "            style=\"display:none;\">\n",
              "\n",
              "  <svg xmlns=\"http://www.w3.org/2000/svg\" height=\"24px\" viewBox=\"0 -960 960 960\">\n",
              "    <path d=\"M120-120v-720h720v720H120Zm60-500h600v-160H180v160Zm220 220h160v-160H400v160Zm0 220h160v-160H400v160ZM180-400h160v-160H180v160Zm440 0h160v-160H620v160ZM180-180h160v-160H180v160Zm440 0h160v-160H620v160Z\"/>\n",
              "  </svg>\n",
              "    </button>\n",
              "\n",
              "  <style>\n",
              "    .colab-df-container {\n",
              "      display:flex;\n",
              "      gap: 12px;\n",
              "    }\n",
              "\n",
              "    .colab-df-convert {\n",
              "      background-color: #E8F0FE;\n",
              "      border: none;\n",
              "      border-radius: 50%;\n",
              "      cursor: pointer;\n",
              "      display: none;\n",
              "      fill: #1967D2;\n",
              "      height: 32px;\n",
              "      padding: 0 0 0 0;\n",
              "      width: 32px;\n",
              "    }\n",
              "\n",
              "    .colab-df-convert:hover {\n",
              "      background-color: #E2EBFA;\n",
              "      box-shadow: 0px 1px 2px rgba(60, 64, 67, 0.3), 0px 1px 3px 1px rgba(60, 64, 67, 0.15);\n",
              "      fill: #174EA6;\n",
              "    }\n",
              "\n",
              "    .colab-df-buttons div {\n",
              "      margin-bottom: 4px;\n",
              "    }\n",
              "\n",
              "    [theme=dark] .colab-df-convert {\n",
              "      background-color: #3B4455;\n",
              "      fill: #D2E3FC;\n",
              "    }\n",
              "\n",
              "    [theme=dark] .colab-df-convert:hover {\n",
              "      background-color: #434B5C;\n",
              "      box-shadow: 0px 1px 3px 1px rgba(0, 0, 0, 0.15);\n",
              "      filter: drop-shadow(0px 1px 2px rgba(0, 0, 0, 0.3));\n",
              "      fill: #FFFFFF;\n",
              "    }\n",
              "  </style>\n",
              "\n",
              "    <script>\n",
              "      const buttonEl =\n",
              "        document.querySelector('#df-d91ce12f-1a8d-498c-9508-e7636bc9a81b button.colab-df-convert');\n",
              "      buttonEl.style.display =\n",
              "        google.colab.kernel.accessAllowed ? 'block' : 'none';\n",
              "\n",
              "      async function convertToInteractive(key) {\n",
              "        const element = document.querySelector('#df-d91ce12f-1a8d-498c-9508-e7636bc9a81b');\n",
              "        const dataTable =\n",
              "          await google.colab.kernel.invokeFunction('convertToInteractive',\n",
              "                                                    [key], {});\n",
              "        if (!dataTable) return;\n",
              "\n",
              "        const docLinkHtml = 'Like what you see? Visit the ' +\n",
              "          '<a target=\"_blank\" href=https://colab.research.google.com/notebooks/data_table.ipynb>data table notebook</a>'\n",
              "          + ' to learn more about interactive tables.';\n",
              "        element.innerHTML = '';\n",
              "        dataTable['output_type'] = 'display_data';\n",
              "        await google.colab.output.renderOutput(dataTable, element);\n",
              "        const docLink = document.createElement('div');\n",
              "        docLink.innerHTML = docLinkHtml;\n",
              "        element.appendChild(docLink);\n",
              "      }\n",
              "    </script>\n",
              "  </div>\n",
              "\n",
              "\n",
              "<div id=\"df-d13f8aac-dfd9-4580-a3d7-4dc33cfef8ac\">\n",
              "  <button class=\"colab-df-quickchart\" onclick=\"quickchart('df-d13f8aac-dfd9-4580-a3d7-4dc33cfef8ac')\"\n",
              "            title=\"Suggest charts\"\n",
              "            style=\"display:none;\">\n",
              "\n",
              "<svg xmlns=\"http://www.w3.org/2000/svg\" height=\"24px\"viewBox=\"0 0 24 24\"\n",
              "     width=\"24px\">\n",
              "    <g>\n",
              "        <path d=\"M19 3H5c-1.1 0-2 .9-2 2v14c0 1.1.9 2 2 2h14c1.1 0 2-.9 2-2V5c0-1.1-.9-2-2-2zM9 17H7v-7h2v7zm4 0h-2V7h2v10zm4 0h-2v-4h2v4z\"/>\n",
              "    </g>\n",
              "</svg>\n",
              "  </button>\n",
              "\n",
              "<style>\n",
              "  .colab-df-quickchart {\n",
              "      --bg-color: #E8F0FE;\n",
              "      --fill-color: #1967D2;\n",
              "      --hover-bg-color: #E2EBFA;\n",
              "      --hover-fill-color: #174EA6;\n",
              "      --disabled-fill-color: #AAA;\n",
              "      --disabled-bg-color: #DDD;\n",
              "  }\n",
              "\n",
              "  [theme=dark] .colab-df-quickchart {\n",
              "      --bg-color: #3B4455;\n",
              "      --fill-color: #D2E3FC;\n",
              "      --hover-bg-color: #434B5C;\n",
              "      --hover-fill-color: #FFFFFF;\n",
              "      --disabled-bg-color: #3B4455;\n",
              "      --disabled-fill-color: #666;\n",
              "  }\n",
              "\n",
              "  .colab-df-quickchart {\n",
              "    background-color: var(--bg-color);\n",
              "    border: none;\n",
              "    border-radius: 50%;\n",
              "    cursor: pointer;\n",
              "    display: none;\n",
              "    fill: var(--fill-color);\n",
              "    height: 32px;\n",
              "    padding: 0;\n",
              "    width: 32px;\n",
              "  }\n",
              "\n",
              "  .colab-df-quickchart:hover {\n",
              "    background-color: var(--hover-bg-color);\n",
              "    box-shadow: 0 1px 2px rgba(60, 64, 67, 0.3), 0 1px 3px 1px rgba(60, 64, 67, 0.15);\n",
              "    fill: var(--button-hover-fill-color);\n",
              "  }\n",
              "\n",
              "  .colab-df-quickchart-complete:disabled,\n",
              "  .colab-df-quickchart-complete:disabled:hover {\n",
              "    background-color: var(--disabled-bg-color);\n",
              "    fill: var(--disabled-fill-color);\n",
              "    box-shadow: none;\n",
              "  }\n",
              "\n",
              "  .colab-df-spinner {\n",
              "    border: 2px solid var(--fill-color);\n",
              "    border-color: transparent;\n",
              "    border-bottom-color: var(--fill-color);\n",
              "    animation:\n",
              "      spin 1s steps(1) infinite;\n",
              "  }\n",
              "\n",
              "  @keyframes spin {\n",
              "    0% {\n",
              "      border-color: transparent;\n",
              "      border-bottom-color: var(--fill-color);\n",
              "      border-left-color: var(--fill-color);\n",
              "    }\n",
              "    20% {\n",
              "      border-color: transparent;\n",
              "      border-left-color: var(--fill-color);\n",
              "      border-top-color: var(--fill-color);\n",
              "    }\n",
              "    30% {\n",
              "      border-color: transparent;\n",
              "      border-left-color: var(--fill-color);\n",
              "      border-top-color: var(--fill-color);\n",
              "      border-right-color: var(--fill-color);\n",
              "    }\n",
              "    40% {\n",
              "      border-color: transparent;\n",
              "      border-right-color: var(--fill-color);\n",
              "      border-top-color: var(--fill-color);\n",
              "    }\n",
              "    60% {\n",
              "      border-color: transparent;\n",
              "      border-right-color: var(--fill-color);\n",
              "    }\n",
              "    80% {\n",
              "      border-color: transparent;\n",
              "      border-right-color: var(--fill-color);\n",
              "      border-bottom-color: var(--fill-color);\n",
              "    }\n",
              "    90% {\n",
              "      border-color: transparent;\n",
              "      border-bottom-color: var(--fill-color);\n",
              "    }\n",
              "  }\n",
              "</style>\n",
              "\n",
              "  <script>\n",
              "    async function quickchart(key) {\n",
              "      const quickchartButtonEl =\n",
              "        document.querySelector('#' + key + ' button');\n",
              "      quickchartButtonEl.disabled = true;  // To prevent multiple clicks.\n",
              "      quickchartButtonEl.classList.add('colab-df-spinner');\n",
              "      try {\n",
              "        const charts = await google.colab.kernel.invokeFunction(\n",
              "            'suggestCharts', [key], {});\n",
              "      } catch (error) {\n",
              "        console.error('Error during call to suggestCharts:', error);\n",
              "      }\n",
              "      quickchartButtonEl.classList.remove('colab-df-spinner');\n",
              "      quickchartButtonEl.classList.add('colab-df-quickchart-complete');\n",
              "    }\n",
              "    (() => {\n",
              "      let quickchartButtonEl =\n",
              "        document.querySelector('#df-d13f8aac-dfd9-4580-a3d7-4dc33cfef8ac button');\n",
              "      quickchartButtonEl.style.display =\n",
              "        google.colab.kernel.accessAllowed ? 'block' : 'none';\n",
              "    })();\n",
              "  </script>\n",
              "</div>\n",
              "\n",
              "    </div>\n",
              "  </div>\n"
            ]
          },
          "metadata": {},
          "execution_count": 3
        }
      ]
    },
    {
      "cell_type": "code",
      "source": [
        "# Split data into training (70%) and test (20%)\n",
        "train_data, test_data = train_test_split(df, test_size=0.2, shuffle=False)\n",
        "\n",
        "Train_data = train_data\n",
        "Test_data = test_data\n",
        "# Plotting both training and test data on the same chart\n",
        "plt.figure(figsize=(8, 4))\n",
        "\n",
        "plt.plot(test_data['Date'], test_data['Price'], linestyle='-',  color='r', label='Test Data')\n",
        "plt.plot(train_data['Date'], train_data['Price'], linestyle='-', color='b', label='Training Data')\n",
        "\n",
        "plt.title('Stock Price Over Time')\n",
        "plt.xlabel('Date')\n",
        "plt.ylabel('Price')\n",
        "plt.legend()\n",
        "plt.grid(True)\n",
        "plt.show()\n"
      ],
      "metadata": {
        "colab": {
          "base_uri": "https://localhost:8080/",
          "height": 410
        },
        "id": "nQ8J0xi2JnIp",
        "outputId": "1936e350-6e79-440f-fcb4-bd6abbf766e1"
      },
      "execution_count": null,
      "outputs": [
        {
          "output_type": "display_data",
          "data": {
            "text/plain": [
              "<Figure size 800x400 with 1 Axes>"
            ],
            "image/png": "[encoded data removed]"
          },
          "metadata": {}
        }
      ]
    },
    {
      "cell_type": "code",
      "source": [
        "cols = list(df)[1:6]\n",
        "train_data = train_data[cols].astype(float)\n",
        "test_data = test_data[cols].astype(float)\n",
        "\n",
        "\n",
        "scaler = StandardScaler()\n",
        "scaler = scaler.fit(train_data)\n",
        "df_for_training_scalered = scaler.transform(train_data)\n",
        "\n",
        "\n",
        "trainX = []\n",
        "trainY = []\n",
        "\n",
        "n_past = 14\n",
        "n_future = 1\n",
        "\n",
        "\n",
        "for i in range(n_past, len(df_for_training_scalered) - n_future + 1):\n",
        "    past_sequence = df_for_training_scalered[i - n_past:i, 0:df_for_training_scalered.shape[1]]\n",
        "\n",
        "    future_sequence = df_for_training_scalered[i + n_future - 1: i + n_future, 0]\n",
        "\n",
        "    trainX.append(past_sequence)\n",
        "    trainY.append(future_sequence)\n",
        "\n",
        "trainX, trainY = np.array(trainX), np.array(trainY)\n"
      ],
      "metadata": {
        "id": "wIjaV8DCM3of"
      },
      "execution_count": null,
      "outputs": []
    },
    {
      "cell_type": "code",
      "source": [
        "print(trainX)"
      ],
      "metadata": {
        "colab": {
          "base_uri": "https://localhost:8080/"
        },
        "id": "gHsB41YRkLTE",
        "outputId": "2e030061-fa8d-45cd-9151-7b5cfc9b9bd7"
      },
      "execution_count": null,
      "outputs": [
        {
          "output_type": "stream",
          "name": "stdout",
          "text": [
            "[[[ 1.28584916  1.28386344  1.17343243  1.35438124 -0.54466171]\n",
            "  [ 1.28584916  1.28386344  1.25155116  1.26934651 -0.50537579]\n",
            "  [ 1.44783652  1.203065    1.3296699   1.26934651 -0.48545616]\n",
            "  ...\n",
            "  [ 1.04286811  1.203065    1.0953137   1.01424233 -0.24337739]\n",
            "  [ 0.88088074  1.04146812  1.01719496  0.9292076  -0.1277329 ]\n",
            "  [ 0.88088074  0.7990728   0.78283876  0.84417287 -0.20602809]]\n",
            "\n",
            " [[ 1.28584916  1.28386344  1.25155116  1.26934651 -0.50537579]\n",
            "  [ 1.44783652  1.203065    1.3296699   1.26934651 -0.48545616]\n",
            "  [ 1.20485547  1.36466188  1.25155116  1.26934651 -0.50233251]\n",
            "  ...\n",
            "  [ 0.88088074  1.04146812  1.01719496  0.9292076  -0.1277329 ]\n",
            "  [ 0.88088074  0.7990728   0.78283876  0.84417287 -0.20602809]\n",
            "  [ 0.88088074  0.71827436  0.78283876  0.84417287 -0.086787  ]]\n",
            "\n",
            " [[ 1.44783652  1.203065    1.3296699   1.26934651 -0.48545616]\n",
            "  [ 1.20485547  1.36466188  1.25155116  1.26934651 -0.50233251]\n",
            "  [ 1.5288302   1.28386344  1.40778863  1.26934651 -0.41186421]\n",
            "  ...\n",
            "  [ 0.88088074  0.7990728   0.78283876  0.84417287 -0.20602809]\n",
            "  [ 0.88088074  0.71827436  0.78283876  0.84417287 -0.086787  ]\n",
            "  [ 0.79988706  0.7990728   0.78283876  0.84417287 -0.21128466]]\n",
            "\n",
            " ...\n",
            "\n",
            " [[ 2.09578598  2.09184784  2.03273851  2.11969378  0.27397954]\n",
            "  [ 2.5007544   2.17264628  2.34521345  2.28976324  1.07934104]\n",
            "  [ 2.98671649  2.98063068  2.81392586  2.71493687  0.12679564]\n",
            "  ...\n",
            "  [ 4.20162173  3.6270182   3.98570689  3.7353536   1.12944443]\n",
            "  [ 4.20162173  4.19260727  4.61065676  4.50066614  0.34120827]\n",
            "  [ 4.3636091   4.11180883  4.14194435  3.90542305  0.21947723]]\n",
            "\n",
            " [[ 2.5007544   2.17264628  2.34521345  2.28976324  1.07934104]\n",
            "  [ 2.98671649  2.98063068  2.81392586  2.71493687  0.12679564]\n",
            "  [ 3.31069122  3.46542132  3.28263827  3.39521469  2.76697593]\n",
            "  ...\n",
            "  [ 4.20162173  4.19260727  4.61065676  4.50066614  0.34120827]\n",
            "  [ 4.3636091   4.11180883  4.14194435  3.90542305  0.21947723]\n",
            "  [ 4.52559647  4.35420415  4.29818182  4.33059669  0.0828618 ]]\n",
            "\n",
            " [[ 2.98671649  2.98063068  2.81392586  2.71493687  0.12679564]\n",
            "  [ 3.31069122  3.46542132  3.28263827  3.39521469  2.76697593]\n",
            "  [ 3.31069122  3.30382444  3.51699448  2.97004105  0.30109236]\n",
            "  ...\n",
            "  [ 4.3636091   4.11180883  4.14194435  3.90542305  0.21947723]\n",
            "  [ 4.52559647  4.35420415  4.29818182  4.33059669  0.0828618 ]\n",
            "  [ 4.03963437  4.51580103  4.29818182  4.16052723  0.12900893]]]\n"
          ]
        }
      ]
    },
    {
      "cell_type": "code",
      "source": [
        "scaler = StandardScaler()\n",
        "scaler = scaler.fit(train_data)\n",
        "df_for_testing_scalered = scaler.transform(test_data)\n",
        "\n",
        "testX = []\n",
        "testY = []\n",
        "\n",
        "for i in range(n_past, len(df_for_testing_scalered) - n_future + 1):\n",
        "    past_sequence = df_for_testing_scalered[i - n_past:i, 0:df_for_testing_scalered.shape[1]]\n",
        "\n",
        "    future_sequence = df_for_testing_scalered[i + n_future - 1: i + n_future, 0]\n",
        "\n",
        "    testX.append(past_sequence)\n",
        "    testY.append(future_sequence)\n",
        "\n",
        "testX, testY = np.array(testX), np.array(testY)\n"
      ],
      "metadata": {
        "id": "6ZagVsH1EQ_U"
      },
      "execution_count": null,
      "outputs": []
    },
    {
      "cell_type": "code",
      "source": [
        "print('trainX shape == {}.'.format(trainX.shape))\n",
        "print('trainY shape == {}.'.format(trainY.shape))\n",
        "\n",
        "print('trainX shape == {}.'.format(testX.shape))\n",
        "print('trainY shape == {}.'.format(testY.shape))\n"
      ],
      "metadata": {
        "colab": {
          "base_uri": "https://localhost:8080/"
        },
        "id": "vl7y88kuMZxn",
        "outputId": "2dd6529c-7286-4318-a6f9-7dc45e8ec55e"
      },
      "execution_count": null,
      "outputs": [
        {
          "output_type": "stream",
          "name": "stdout",
          "text": [
            "trainX shape == (1074, 14, 5).\n",
            "trainY shape == (1074, 1).\n",
            "trainX shape == (258, 14, 5).\n",
            "trainY shape == (258, 1).\n"
          ]
        }
      ]
    },
    {
      "cell_type": "code",
      "source": [
        "# ------------------------- MODEL LSTM ---------------------\n",
        "\n",
        "# Tạo model lstm cho việc training\n",
        "# model = Sequential()\n",
        "# model.add(LSTM(64, activation='relu', input_shape=(trainX.shape[1], trainX.shape[2]), return_sequences=True))\n",
        "# model.add(LSTM(32, activation='relu', return_sequences=False))\n",
        "# model.add(Dropout(0.2))\n",
        "# model.add(Dense(trainY.shape[1]))\n",
        "# model.compile(optimizer='adam', loss='mse')\n",
        "# model.summary()\n",
        "\n",
        "\n",
        "# # ----------------------MODEL CNN LSTM --------------------\n",
        "from keras.models import Sequential\n",
        "from keras.layers import ConvLSTM2D, LSTM, Dense, Dropout, Flatten\n",
        "from keras.models import Sequential\n",
        "from keras.layers import Conv1D, LSTM, Dropout, Dense\n",
        "\n",
        "model = Sequential()\n",
        "model.add(Conv1D(filters=32, kernel_size=3, activation='relu', input_shape=(trainX.shape[1], trainX.shape[2])))\n",
        "model.add(LSTM(64, activation='relu', return_sequences=True))\n",
        "model.add(LSTM(32, activation='relu', return_sequences=False))\n",
        "model.add(Dropout(0.2))\n",
        "model.add(Dense(trainY.shape[1]))\n",
        "model.compile(optimizer='adam', loss='mse')\n",
        "model.summary()\n"
      ],
      "metadata": {
        "colab": {
          "base_uri": "https://localhost:8080/"
        },
        "id": "DF88P2-ZNI_N",
        "outputId": "10ee50ef-8379-49f2-b991-704413a25871"
      },
      "execution_count": null,
      "outputs": [
        {
          "output_type": "stream",
          "name": "stdout",
          "text": [
            "Model: \"sequential\"\n",
            "_________________________________________________________________\n",
            " Layer (type)                Output Shape              Param #   \n",
            "=================================================================\n",
            " conv1d (Conv1D)             (None, 12, 32)            512       \n",
            "                                                                 \n",
            " lstm (LSTM)                 (None, 12, 64)            24832     \n",
            "                                                                 \n",
            " lstm_1 (LSTM)               (None, 32)                12416     \n",
            "                                                                 \n",
            " dropout (Dropout)           (None, 32)                0         \n",
            "                                                                 \n",
            " dense (Dense)               (None, 1)                 33        \n",
            "                                                                 \n",
            "=================================================================\n",
            "Total params: 37793 (147.63 KB)\n",
            "Trainable params: 37793 (147.63 KB)\n",
            "Non-trainable params: 0 (0.00 Byte)\n",
            "_________________________________________________________________\n"
          ]
        }
      ]
    },
    {
      "cell_type": "code",
      "source": [
        "# fit the model\n",
        "history = model.fit(trainX, trainY, epochs=10, batch_size=4, validation_split=0.1, verbose=1)"
      ],
      "metadata": {
        "colab": {
          "base_uri": "https://localhost:8080/"
        },
        "id": "Ta4ibtvbNNQJ",
        "outputId": "31ee1d5e-80a1-4117-a47b-54e711eb4c2c"
      },
      "execution_count": null,
      "outputs": [
        {
          "output_type": "stream",
          "name": "stdout",
          "text": [
            "Epoch 1/10\n",
            "242/242 [==============================] - 7s 15ms/step - loss: 0.1752 - val_loss: 0.7570\n",
            "Epoch 2/10\n",
            "242/242 [==============================] - 4s 15ms/step - loss: 0.0936 - val_loss: 0.1865\n",
            "Epoch 3/10\n",
            "242/242 [==============================] - 3s 12ms/step - loss: 0.0719 - val_loss: 0.1844\n",
            "Epoch 4/10\n",
            "242/242 [==============================] - 3s 10ms/step - loss: 0.0649 - val_loss: 0.2302\n",
            "Epoch 5/10\n",
            "242/242 [==============================] - 3s 10ms/step - loss: 0.0629 - val_loss: 0.2304\n",
            "Epoch 6/10\n",
            "242/242 [==============================] - 3s 13ms/step - loss: 0.0495 - val_loss: 0.0882\n",
            "Epoch 7/10\n",
            "242/242 [==============================] - 4s 17ms/step - loss: 0.0472 - val_loss: 0.1128\n",
            "Epoch 8/10\n",
            "242/242 [==============================] - 2s 10ms/step - loss: 0.0425 - val_loss: 0.0975\n",
            "Epoch 9/10\n",
            "242/242 [==============================] - 3s 11ms/step - loss: 0.0467 - val_loss: 0.0760\n",
            "Epoch 10/10\n",
            "242/242 [==============================] - 3s 10ms/step - loss: 0.0403 - val_loss: 0.0892\n"
          ]
        }
      ]
    },
    {
      "cell_type": "code",
      "source": [
        "prediction = model.predict(testX)\n",
        "\n",
        "prediction_copies = np.repeat(prediction, train_data.shape[1], axis=-1)\n",
        "y_pred_future = scaler.inverse_transform(prediction_copies)[:,0]\n"
      ],
      "metadata": {
        "colab": {
          "base_uri": "https://localhost:8080/"
        },
        "id": "jglpn6XJzyq0",
        "outputId": "2b801424-d65c-4d02-d196-3a0e13996d24"
      },
      "execution_count": null,
      "outputs": [
        {
          "output_type": "stream",
          "name": "stdout",
          "text": [
            "9/9 [==============================] - 0s 4ms/step\n"
          ]
        }
      ]
    },
    {
      "cell_type": "code",
      "source": [
        "from pandas.tseries.holiday import USFederalHolidayCalendar\n",
        "from pandas.tseries.offsets import CustomBusinessDay\n",
        "#us_bd = CustomBusinessDay(calendar=USFederalHolidayCalendar())\n",
        "\n",
        "n_past = 15\n",
        "n_days_for_prediction= 60\n",
        "\n",
        "predict_period_dates = pd.date_range(list(train_dates)[-1], periods=n_days_for_prediction).tolist()\n",
        "print(predict_period_dates)\n",
        "\n",
        "#Make prediction\n",
        "prediction1 = model.predict(testX[-n_days_for_prediction:])\n",
        "df_for_training = df[cols].astype(float)\n",
        "\n",
        "prediction_copies1 = np.repeat(prediction1, df_for_training.shape[1], axis=-1)\n",
        "y_pred_future1 = scaler.inverse_transform(prediction_copies1)[:,0]\n",
        "\n",
        "print(len(y_pred_future1))"
      ],
      "metadata": {
        "colab": {
          "base_uri": "https://localhost:8080/"
        },
        "id": "MPqL6D8vjGZD",
        "outputId": "ae0543d2-c2ca-4a53-a527-74fa20277231"
      },
      "execution_count": null,
      "outputs": [
        {
          "output_type": "stream",
          "name": "stdout",
          "text": [
            "[Timestamp('2022-12-30 00:00:00', freq='D'), Timestamp('2022-12-31 00:00:00', freq='D'), Timestamp('2023-01-01 00:00:00', freq='D'), Timestamp('2023-01-02 00:00:00', freq='D'), Timestamp('2023-01-03 00:00:00', freq='D'), Timestamp('2023-01-04 00:00:00', freq='D'), Timestamp('2023-01-05 00:00:00', freq='D'), Timestamp('2023-01-06 00:00:00', freq='D'), Timestamp('2023-01-07 00:00:00', freq='D'), Timestamp('2023-01-08 00:00:00', freq='D'), Timestamp('2023-01-09 00:00:00', freq='D'), Timestamp('2023-01-10 00:00:00', freq='D'), Timestamp('2023-01-11 00:00:00', freq='D'), Timestamp('2023-01-12 00:00:00', freq='D'), Timestamp('2023-01-13 00:00:00', freq='D'), Timestamp('2023-01-14 00:00:00', freq='D'), Timestamp('2023-01-15 00:00:00', freq='D'), Timestamp('2023-01-16 00:00:00', freq='D'), Timestamp('2023-01-17 00:00:00', freq='D'), Timestamp('2023-01-18 00:00:00', freq='D'), Timestamp('2023-01-19 00:00:00', freq='D'), Timestamp('2023-01-20 00:00:00', freq='D'), Timestamp('2023-01-21 00:00:00', freq='D'), Timestamp('2023-01-22 00:00:00', freq='D'), Timestamp('2023-01-23 00:00:00', freq='D'), Timestamp('2023-01-24 00:00:00', freq='D'), Timestamp('2023-01-25 00:00:00', freq='D'), Timestamp('2023-01-26 00:00:00', freq='D'), Timestamp('2023-01-27 00:00:00', freq='D'), Timestamp('2023-01-28 00:00:00', freq='D'), Timestamp('2023-01-29 00:00:00', freq='D'), Timestamp('2023-01-30 00:00:00', freq='D'), Timestamp('2023-01-31 00:00:00', freq='D'), Timestamp('2023-02-01 00:00:00', freq='D'), Timestamp('2023-02-02 00:00:00', freq='D'), Timestamp('2023-02-03 00:00:00', freq='D'), Timestamp('2023-02-04 00:00:00', freq='D'), Timestamp('2023-02-05 00:00:00', freq='D'), Timestamp('2023-02-06 00:00:00', freq='D'), Timestamp('2023-02-07 00:00:00', freq='D'), Timestamp('2023-02-08 00:00:00', freq='D'), Timestamp('2023-02-09 00:00:00', freq='D'), Timestamp('2023-02-10 00:00:00', freq='D'), Timestamp('2023-02-11 00:00:00', freq='D'), Timestamp('2023-02-12 00:00:00', freq='D'), Timestamp('2023-02-13 00:00:00', freq='D'), Timestamp('2023-02-14 00:00:00', freq='D'), Timestamp('2023-02-15 00:00:00', freq='D'), Timestamp('2023-02-16 00:00:00', freq='D'), Timestamp('2023-02-17 00:00:00', freq='D'), Timestamp('2023-02-18 00:00:00', freq='D'), Timestamp('2023-02-19 00:00:00', freq='D'), Timestamp('2023-02-20 00:00:00', freq='D'), Timestamp('2023-02-21 00:00:00', freq='D'), Timestamp('2023-02-22 00:00:00', freq='D'), Timestamp('2023-02-23 00:00:00', freq='D'), Timestamp('2023-02-24 00:00:00', freq='D'), Timestamp('2023-02-25 00:00:00', freq='D'), Timestamp('2023-02-26 00:00:00', freq='D'), Timestamp('2023-02-27 00:00:00', freq='D')]\n",
            "2/2 [==============================] - 0s 7ms/step\n",
            "60\n"
          ]
        }
      ]
    },
    {
      "cell_type": "code",
      "source": [
        "#y_pred = model.predict(testX)\n",
        "\n",
        "plt.figure(figsize=(12, 6))\n",
        "\n",
        "# Plot actual values\n",
        "plt.plot(Test_data['Date'],Test_data['Price'], linestyle='-',  color='r', label='Test Data')\n",
        "plt.plot(Train_data['Date'], Train_data['Price'], linestyle='-', color='b', label='Training Data')\n",
        "predict_date = Test_data['Date'];\n",
        "plt.plot(predict_date[14:],  y_pred_future, label='Predict', linestyle='-',  color='orange')\n",
        "plt.plot(predict_period_dates, y_pred_future1, label='Predict future 30 days', linestyle='-',  color='green')\n",
        "\n",
        "plt.title('SVN Stock Price Over time')\n",
        "plt.xlabel('Date')\n",
        "plt.ylabel('Close Price')\n",
        "plt.legend()\n",
        "plt.grid(True)\n",
        "plt.show()"
      ],
      "metadata": {
        "colab": {
          "base_uri": "https://localhost:8080/",
          "height": 564
        },
        "id": "UhchWMyWXCf2",
        "outputId": "2185c0ad-e354-49ec-acb4-4e1f674f6388"
      },
      "execution_count": null,
      "outputs": [
        {
          "output_type": "display_data",
          "data": {
            "text/plain": [
              "<Figure size 1200x600 with 1 Axes>"
            ],
            "image/png": "[encoded data removed]"
          },
          "metadata": {}
        }
      ]
    },
    {
      "cell_type": "code",
      "source": [
        "from sklearn.metrics import mean_squared_error, mean_absolute_error\n",
        "\n",
        "y_pred_future_flat = y_pred_future.flatten()\n",
        "\n",
        "rmse = np.sqrt(mean_squared_error(Test_data['Price'].iloc[14:], y_pred_future_flat))\n",
        "\n",
        "mae = mean_absolute_error(Test_data['Price'].iloc[14:], y_pred_future_flat)\n",
        "\n",
        "mape = np.mean(np.abs((Test_data['Price'].iloc[14:] - y_pred_future_flat) / Test_data['Price'].iloc[14:]))*100\n",
        "\n",
        "print(f\"RMSE: {rmse}\")\n",
        "print(f\"MAE: {mae}\")\n",
        "print(f\"MAPE: {mape}\")\n"
      ],
      "metadata": {
        "colab": {
          "base_uri": "https://localhost:8080/"
        },
        "id": "OuJlqdVqH7QV",
        "outputId": "1d15c8b9-b2fc-44cd-d2cb-8509869fcc4b"
      },
      "execution_count": null,
      "outputs": [
        {
          "output_type": "stream",
          "name": "stdout",
          "text": [
            "RMSE: 766.7849114601377\n",
            "MAE: 606.1625844083092\n",
            "MAPE: 8.764149675108987\n"
          ]
        }
      ]
    }
  ]
}