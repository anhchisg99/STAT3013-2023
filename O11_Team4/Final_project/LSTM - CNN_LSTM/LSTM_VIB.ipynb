{
  "nbformat": 4,
  "nbformat_minor": 0,
  "metadata": {
    "colab": {
      "provenance": []
    },
    "kernelspec": {
      "name": "python3",
      "display_name": "Python 3"
    },
    "language_info": {
      "name": "python"
    }
  },
  "cells": [
    {
      "cell_type": "code",
      "execution_count": null,
      "metadata": {
        "id": "zudP3ifBItpa"
      },
      "outputs": [],
      "source": [
        "import math\n",
        "from keras.models import Sequential\n",
        "from keras.layers import Dense, Dropout\n",
        "from keras.layers import LSTM\n",
        "from sklearn.preprocessing import MinMaxScaler\n",
        "from sklearn.metrics import mean_squared_error\n",
        "import numpy as np\n",
        "import pandas as pd\n",
        "import matplotlib.pyplot as plt\n",
        "import seaborn as sns\n",
        "from sklearn.model_selection import KFold, cross_val_predict, train_test_split,GridSearchCV,cross_val_score\n",
        "from sklearn.preprocessing import StandardScaler, PolynomialFeatures, OneHotEncoder,StandardScaler,PowerTransformer, MinMaxScaler, RobustScaler\n"
      ]
    },
    {
      "cell_type": "code",
      "source": [
        "from google.colab import drive\n",
        "drive.mount('/content/drive')"
      ],
      "metadata": {
        "colab": {
          "base_uri": "https://localhost:8080/"
        },
        "id": "py5ReC6rJVDZ",
        "outputId": "55e03b13-1e10-4f97-dedd-d7e540ac0dc7"
      },
      "execution_count": null,
      "outputs": [
        {
          "output_type": "stream",
          "name": "stdout",
          "text": [
            "Drive already mounted at /content/drive; to attempt to forcibly remount, call drive.mount(\"/content/drive\", force_remount=True).\n"
          ]
        }
      ]
    },
    {
      "cell_type": "code",
      "source": [
        "df = pd.read_csv('/content/drive/MyDrive/Final project PTTK/VIB Historical Data.csv')\n",
        "df.head()\n",
        "df['Date'] = pd.to_datetime(df['Date'])\n",
        "train_dates = pd.to_datetime(df['Date'])\n",
        "\n",
        "df = df.dropna()\n",
        "df.info()\n",
        "df.head()\n"
      ],
      "metadata": {
        "colab": {
          "base_uri": "https://localhost:8080/",
          "height": 449
        },
        "id": "nJ3nxDrXJHhY",
        "outputId": "2de1ad7f-c27f-45c6-dccb-9b9dffc0fa06"
      },
      "execution_count": null,
      "outputs": [
        {
          "output_type": "stream",
          "name": "stdout",
          "text": [
            "<class 'pandas.core.frame.DataFrame'>\n",
            "RangeIndex: 1488 entries, 0 to 1487\n",
            "Data columns (total 7 columns):\n",
            " #   Column  Non-Null Count  Dtype         \n",
            "---  ------  --------------  -----         \n",
            " 0   Date    1488 non-null   datetime64[ns]\n",
            " 1   Price   1488 non-null   int64         \n",
            " 2   Open    1488 non-null   int64         \n",
            " 3   High    1488 non-null   int64         \n",
            " 4   Low     1488 non-null   int64         \n",
            " 5   Vol.    1488 non-null   float64       \n",
            " 6   Change  1488 non-null   float64       \n",
            "dtypes: datetime64[ns](1), float64(2), int64(4)\n",
            "memory usage: 81.5 KB\n"
          ]
        },
        {
          "output_type": "execute_result",
          "data": {
            "text/plain": [
              "        Date  Price  Open  High   Low      Vol.  Change\n",
              "0 2017-01-10   8419  8599  8599  8329  484450.0  0.0108\n",
              "1 2017-01-11   8329  8419  8419  8239  357630.0 -0.0107\n",
              "2 2017-01-12   7564  8104  8104  7564  107940.0 -0.0918\n",
              "3 2017-01-13   6843  7339  7339  6798  145860.0 -0.0953\n",
              "4 2017-01-16   6888  6933  6933  6708  277200.0  0.0066"
            ],
            "text/html": [
              "\n",
              "  <div id=\"df-f6b2292b-b4b4-47f7-bd8c-039a44f2a001\" class=\"colab-df-container\">\n",
              "    <div>\n",
              "<style scoped>\n",
              "    .dataframe tbody tr th:only-of-type {\n",
              "        vertical-align: middle;\n",
              "    }\n",
              "\n",
              "    .dataframe tbody tr th {\n",
              "        vertical-align: top;\n",
              "    }\n",
              "\n",
              "    .dataframe thead th {\n",
              "        text-align: right;\n",
              "    }\n",
              "</style>\n",
              "<table border=\"1\" class=\"dataframe\">\n",
              "  <thead>\n",
              "    <tr style=\"text-align: right;\">\n",
              "      <th></th>\n",
              "      <th>Date</th>\n",
              "      <th>Price</th>\n",
              "      <th>Open</th>\n",
              "      <th>High</th>\n",
              "      <th>Low</th>\n",
              "      <th>Vol.</th>\n",
              "      <th>Change</th>\n",
              "    </tr>\n",
              "  </thead>\n",
              "  <tbody>\n",
              "    <tr>\n",
              "      <th>0</th>\n",
              "      <td>2017-01-10</td>\n",
              "      <td>8419</td>\n",
              "      <td>8599</td>\n",
              "      <td>8599</td>\n",
              "      <td>8329</td>\n",
              "      <td>484450.0</td>\n",
              "      <td>0.0108</td>\n",
              "    </tr>\n",
              "    <tr>\n",
              "      <th>1</th>\n",
              "      <td>2017-01-11</td>\n",
              "      <td>8329</td>\n",
              "      <td>8419</td>\n",
              "      <td>8419</td>\n",
              "      <td>8239</td>\n",
              "      <td>357630.0</td>\n",
              "      <td>-0.0107</td>\n",
              "    </tr>\n",
              "    <tr>\n",
              "      <th>2</th>\n",
              "      <td>2017-01-12</td>\n",
              "      <td>7564</td>\n",
              "      <td>8104</td>\n",
              "      <td>8104</td>\n",
              "      <td>7564</td>\n",
              "      <td>107940.0</td>\n",
              "      <td>-0.0918</td>\n",
              "    </tr>\n",
              "    <tr>\n",
              "      <th>3</th>\n",
              "      <td>2017-01-13</td>\n",
              "      <td>6843</td>\n",
              "      <td>7339</td>\n",
              "      <td>7339</td>\n",
              "      <td>6798</td>\n",
              "      <td>145860.0</td>\n",
              "      <td>-0.0953</td>\n",
              "    </tr>\n",
              "    <tr>\n",
              "      <th>4</th>\n",
              "      <td>2017-01-16</td>\n",
              "      <td>6888</td>\n",
              "      <td>6933</td>\n",
              "      <td>6933</td>\n",
              "      <td>6708</td>\n",
              "      <td>277200.0</td>\n",
              "      <td>0.0066</td>\n",
              "    </tr>\n",
              "  </tbody>\n",
              "</table>\n",
              "</div>\n",
              "    <div class=\"colab-df-buttons\">\n",
              "\n",
              "  <div class=\"colab-df-container\">\n",
              "    <button class=\"colab-df-convert\" onclick=\"convertToInteractive('df-f6b2292b-b4b4-47f7-bd8c-039a44f2a001')\"\n",
              "            title=\"Convert this dataframe to an interactive table.\"\n",
              "            style=\"display:none;\">\n",
              "\n",
              "  <svg xmlns=\"http://www.w3.org/2000/svg\" height=\"24px\" viewBox=\"0 -960 960 960\">\n",
              "    <path d=\"M120-120v-720h720v720H120Zm60-500h600v-160H180v160Zm220 220h160v-160H400v160Zm0 220h160v-160H400v160ZM180-400h160v-160H180v160Zm440 0h160v-160H620v160ZM180-180h160v-160H180v160Zm440 0h160v-160H620v160Z\"/>\n",
              "  </svg>\n",
              "    </button>\n",
              "\n",
              "  <style>\n",
              "    .colab-df-container {\n",
              "      display:flex;\n",
              "      gap: 12px;\n",
              "    }\n",
              "\n",
              "    .colab-df-convert {\n",
              "      background-color: #E8F0FE;\n",
              "      border: none;\n",
              "      border-radius: 50%;\n",
              "      cursor: pointer;\n",
              "      display: none;\n",
              "      fill: #1967D2;\n",
              "      height: 32px;\n",
              "      padding: 0 0 0 0;\n",
              "      width: 32px;\n",
              "    }\n",
              "\n",
              "    .colab-df-convert:hover {\n",
              "      background-color: #E2EBFA;\n",
              "      box-shadow: 0px 1px 2px rgba(60, 64, 67, 0.3), 0px 1px 3px 1px rgba(60, 64, 67, 0.15);\n",
              "      fill: #174EA6;\n",
              "    }\n",
              "\n",
              "    .colab-df-buttons div {\n",
              "      margin-bottom: 4px;\n",
              "    }\n",
              "\n",
              "    [theme=dark] .colab-df-convert {\n",
              "      background-color: #3B4455;\n",
              "      fill: #D2E3FC;\n",
              "    }\n",
              "\n",
              "    [theme=dark] .colab-df-convert:hover {\n",
              "      background-color: #434B5C;\n",
              "      box-shadow: 0px 1px 3px 1px rgba(0, 0, 0, 0.15);\n",
              "      filter: drop-shadow(0px 1px 2px rgba(0, 0, 0, 0.3));\n",
              "      fill: #FFFFFF;\n",
              "    }\n",
              "  </style>\n",
              "\n",
              "    <script>\n",
              "      const buttonEl =\n",
              "        document.querySelector('#df-f6b2292b-b4b4-47f7-bd8c-039a44f2a001 button.colab-df-convert');\n",
              "      buttonEl.style.display =\n",
              "        google.colab.kernel.accessAllowed ? 'block' : 'none';\n",
              "\n",
              "      async function convertToInteractive(key) {\n",
              "        const element = document.querySelector('#df-f6b2292b-b4b4-47f7-bd8c-039a44f2a001');\n",
              "        const dataTable =\n",
              "          await google.colab.kernel.invokeFunction('convertToInteractive',\n",
              "                                                    [key], {});\n",
              "        if (!dataTable) return;\n",
              "\n",
              "        const docLinkHtml = 'Like what you see? Visit the ' +\n",
              "          '<a target=\"_blank\" href=https://colab.research.google.com/notebooks/data_table.ipynb>data table notebook</a>'\n",
              "          + ' to learn more about interactive tables.';\n",
              "        element.innerHTML = '';\n",
              "        dataTable['output_type'] = 'display_data';\n",
              "        await google.colab.output.renderOutput(dataTable, element);\n",
              "        const docLink = document.createElement('div');\n",
              "        docLink.innerHTML = docLinkHtml;\n",
              "        element.appendChild(docLink);\n",
              "      }\n",
              "    </script>\n",
              "  </div>\n",
              "\n",
              "\n",
              "<div id=\"df-f9b70f91-2c3a-4e88-9dc8-2b2ae185373d\">\n",
              "  <button class=\"colab-df-quickchart\" onclick=\"quickchart('df-f9b70f91-2c3a-4e88-9dc8-2b2ae185373d')\"\n",
              "            title=\"Suggest charts\"\n",
              "            style=\"display:none;\">\n",
              "\n",
              "<svg xmlns=\"http://www.w3.org/2000/svg\" height=\"24px\"viewBox=\"0 0 24 24\"\n",
              "     width=\"24px\">\n",
              "    <g>\n",
              "        <path d=\"M19 3H5c-1.1 0-2 .9-2 2v14c0 1.1.9 2 2 2h14c1.1 0 2-.9 2-2V5c0-1.1-.9-2-2-2zM9 17H7v-7h2v7zm4 0h-2V7h2v10zm4 0h-2v-4h2v4z\"/>\n",
              "    </g>\n",
              "</svg>\n",
              "  </button>\n",
              "\n",
              "<style>\n",
              "  .colab-df-quickchart {\n",
              "      --bg-color: #E8F0FE;\n",
              "      --fill-color: #1967D2;\n",
              "      --hover-bg-color: #E2EBFA;\n",
              "      --hover-fill-color: #174EA6;\n",
              "      --disabled-fill-color: #AAA;\n",
              "      --disabled-bg-color: #DDD;\n",
              "  }\n",
              "\n",
              "  [theme=dark] .colab-df-quickchart {\n",
              "      --bg-color: #3B4455;\n",
              "      --fill-color: #D2E3FC;\n",
              "      --hover-bg-color: #434B5C;\n",
              "      --hover-fill-color: #FFFFFF;\n",
              "      --disabled-bg-color: #3B4455;\n",
              "      --disabled-fill-color: #666;\n",
              "  }\n",
              "\n",
              "  .colab-df-quickchart {\n",
              "    background-color: var(--bg-color);\n",
              "    border: none;\n",
              "    border-radius: 50%;\n",
              "    cursor: pointer;\n",
              "    display: none;\n",
              "    fill: var(--fill-color);\n",
              "    height: 32px;\n",
              "    padding: 0;\n",
              "    width: 32px;\n",
              "  }\n",
              "\n",
              "  .colab-df-quickchart:hover {\n",
              "    background-color: var(--hover-bg-color);\n",
              "    box-shadow: 0 1px 2px rgba(60, 64, 67, 0.3), 0 1px 3px 1px rgba(60, 64, 67, 0.15);\n",
              "    fill: var(--button-hover-fill-color);\n",
              "  }\n",
              "\n",
              "  .colab-df-quickchart-complete:disabled,\n",
              "  .colab-df-quickchart-complete:disabled:hover {\n",
              "    background-color: var(--disabled-bg-color);\n",
              "    fill: var(--disabled-fill-color);\n",
              "    box-shadow: none;\n",
              "  }\n",
              "\n",
              "  .colab-df-spinner {\n",
              "    border: 2px solid var(--fill-color);\n",
              "    border-color: transparent;\n",
              "    border-bottom-color: var(--fill-color);\n",
              "    animation:\n",
              "      spin 1s steps(1) infinite;\n",
              "  }\n",
              "\n",
              "  @keyframes spin {\n",
              "    0% {\n",
              "      border-color: transparent;\n",
              "      border-bottom-color: var(--fill-color);\n",
              "      border-left-color: var(--fill-color);\n",
              "    }\n",
              "    20% {\n",
              "      border-color: transparent;\n",
              "      border-left-color: var(--fill-color);\n",
              "      border-top-color: var(--fill-color);\n",
              "    }\n",
              "    30% {\n",
              "      border-color: transparent;\n",
              "      border-left-color: var(--fill-color);\n",
              "      border-top-color: var(--fill-color);\n",
              "      border-right-color: var(--fill-color);\n",
              "    }\n",
              "    40% {\n",
              "      border-color: transparent;\n",
              "      border-right-color: var(--fill-color);\n",
              "      border-top-color: var(--fill-color);\n",
              "    }\n",
              "    60% {\n",
              "      border-color: transparent;\n",
              "      border-right-color: var(--fill-color);\n",
              "    }\n",
              "    80% {\n",
              "      border-color: transparent;\n",
              "      border-right-color: var(--fill-color);\n",
              "      border-bottom-color: var(--fill-color);\n",
              "    }\n",
              "    90% {\n",
              "      border-color: transparent;\n",
              "      border-bottom-color: var(--fill-color);\n",
              "    }\n",
              "  }\n",
              "</style>\n",
              "\n",
              "  <script>\n",
              "    async function quickchart(key) {\n",
              "      const quickchartButtonEl =\n",
              "        document.querySelector('#' + key + ' button');\n",
              "      quickchartButtonEl.disabled = true;  // To prevent multiple clicks.\n",
              "      quickchartButtonEl.classList.add('colab-df-spinner');\n",
              "      try {\n",
              "        const charts = await google.colab.kernel.invokeFunction(\n",
              "            'suggestCharts', [key], {});\n",
              "      } catch (error) {\n",
              "        console.error('Error during call to suggestCharts:', error);\n",
              "      }\n",
              "      quickchartButtonEl.classList.remove('colab-df-spinner');\n",
              "      quickchartButtonEl.classList.add('colab-df-quickchart-complete');\n",
              "    }\n",
              "    (() => {\n",
              "      let quickchartButtonEl =\n",
              "        document.querySelector('#df-f9b70f91-2c3a-4e88-9dc8-2b2ae185373d button');\n",
              "      quickchartButtonEl.style.display =\n",
              "        google.colab.kernel.accessAllowed ? 'block' : 'none';\n",
              "    })();\n",
              "  </script>\n",
              "</div>\n",
              "\n",
              "    </div>\n",
              "  </div>\n"
            ]
          },
          "metadata": {},
          "execution_count": 89
        }
      ]
    },
    {
      "cell_type": "code",
      "source": [
        "# Split data into training (80%) and test (20%)\n",
        "np.random.seed(42)\n",
        "train_data, test_data = train_test_split(df, test_size=0.2, shuffle=False)\n",
        "\n",
        "Train_data = train_data\n",
        "Test_data = test_data\n",
        "# Plotting both training and test data on the same chart\n",
        "plt.figure(figsize=(8, 4))\n",
        "\n",
        "plt.plot(test_data['Date'], test_data['Price'], linestyle='-',  color='r', label='Test Data')\n",
        "plt.plot(train_data['Date'], train_data['Price'], linestyle='-', color='b', label='Training Data')\n",
        "\n",
        "plt.title('Stock Price Over Time')\n",
        "plt.xlabel('Date')\n",
        "plt.ylabel('Price')\n",
        "plt.legend()\n",
        "plt.grid(True)\n",
        "plt.show()\n"
      ],
      "metadata": {
        "colab": {
          "base_uri": "https://localhost:8080/",
          "height": 410
        },
        "id": "nQ8J0xi2JnIp",
        "outputId": "b90c2926-65f8-449a-f6d1-6c2250471dfe"
      },
      "execution_count": null,
      "outputs": [
        {
          "output_type": "display_data",
          "data": {
            "text/plain": [
              "<Figure size 800x400 with 1 Axes>"
            ],
            "image/png": "[encoded data removed]"
          },
          "metadata": {}
        }
      ]
    },
    {
      "cell_type": "code",
      "source": [
        "cols = list(df)[1:6]\n",
        "train_data = train_data[cols].astype(float)\n",
        "test_data = test_data[cols].astype(float)\n",
        "\n",
        "\n",
        "scaler = StandardScaler()\n",
        "scaler = scaler.fit(train_data)\n",
        "df_for_training_scalered = scaler.transform(train_data)\n",
        "\n",
        "\n",
        "trainX = []\n",
        "trainY = []\n",
        "\n",
        "n_past = 14\n",
        "n_future = 1\n",
        "\n",
        "\n",
        "for i in range(n_past, len(df_for_training_scalered) - n_future + 1):\n",
        "    past_sequence = df_for_training_scalered[i - n_past:i, 0:df_for_training_scalered.shape[1]]\n",
        "\n",
        "    future_sequence = df_for_training_scalered[i + n_future - 1: i + n_future, 0]\n",
        "\n",
        "    trainX.append(past_sequence)\n",
        "    trainY.append(future_sequence)\n",
        "\n",
        "trainX, trainY = np.array(trainX), np.array(trainY)\n"
      ],
      "metadata": {
        "id": "wIjaV8DCM3of"
      },
      "execution_count": null,
      "outputs": []
    },
    {
      "cell_type": "code",
      "source": [
        "print(trainX)"
      ],
      "metadata": {
        "colab": {
          "base_uri": "https://localhost:8080/"
        },
        "id": "gHsB41YRkLTE",
        "outputId": "1261105b-251b-4a0a-83c4-2ea11a4fc04a"
      },
      "execution_count": null,
      "outputs": [
        {
          "output_type": "stream",
          "name": "stdout",
          "text": [
            "[[[-0.77254753 -0.7463857  -0.76145201 -0.77027177 -0.47080558]\n",
            "  [-0.78508491 -0.77144087 -0.78603404 -0.78305603 -0.5612044 ]\n",
            "  [-0.89165269 -0.81528743 -0.82905259 -0.87893794 -0.73918643]\n",
            "  ...\n",
            "  [-0.885384   -0.88418916 -0.89665317 -0.87254581 -0.81376082]\n",
            "  [-0.92299616 -0.88418916 -0.89665317 -0.92382488 -0.80170717]\n",
            "  [-0.89792139 -0.9344387  -0.89665317 -0.92382488 -0.8045299 ]]\n",
            "\n",
            " [[-0.78508491 -0.77144087 -0.78603404 -0.78305603 -0.5612044 ]\n",
            "  [-0.89165269 -0.81528743 -0.82905259 -0.87893794 -0.73918643]\n",
            "  [-0.99209109 -0.92177192 -0.93352621 -0.98774615 -0.7121566 ]\n",
            "  ...\n",
            "  [-0.92299616 -0.88418916 -0.89665317 -0.92382488 -0.80170717]\n",
            "  [-0.89792139 -0.9344387  -0.89665317 -0.92382488 -0.8045299 ]\n",
            "  [-0.91045877 -0.90298054 -0.91508969 -0.89811432 -0.70587672]]\n",
            "\n",
            " [[-0.89165269 -0.81528743 -0.82905259 -0.87893794 -0.73918643]\n",
            "  [-0.99209109 -0.92177192 -0.93352621 -0.98774615 -0.7121566 ]\n",
            "  [-0.98582239 -0.97828526 -0.98897235 -1.00053041 -0.61853587]\n",
            "  ...\n",
            "  [-0.89792139 -0.9344387  -0.89665317 -0.92382488 -0.8045299 ]\n",
            "  [-0.91045877 -0.90298054 -0.91508969 -0.89811432 -0.70587672]\n",
            "  [-0.91045877 -0.90924433 -0.9212352  -0.89811432 -0.78099998]]\n",
            "\n",
            " ...\n",
            "\n",
            " [[ 1.59395375  1.70150486  1.66042417  1.65561163  0.78769963]\n",
            "  [ 1.48571431  1.60365048  1.59473553  1.54524089  1.36507735]\n",
            "  [ 1.60955583  1.50050668  1.54925877  1.56100814  0.56672791]\n",
            "  ...\n",
            "  [ 1.826174    1.84070027  1.796991    1.8345912   0.01786268]\n",
            "  [ 1.81071122  1.83555004  1.77172614  1.8240797  -0.06054664]\n",
            "  [ 1.83132826  1.78919797  1.80709695  1.81882395  0.39565303]]\n",
            "\n",
            " [[ 1.48571431  1.60365048  1.59473553  1.54524089  1.36507735]\n",
            "  [ 1.60955583  1.50050668  1.54925877  1.56100814  0.56672791]\n",
            "  [ 1.61471009  1.60880071  1.58462958  1.65561163  0.00360644]\n",
            "  ...\n",
            "  [ 1.81071122  1.83555004  1.77172614  1.8240797  -0.06054664]\n",
            "  [ 1.83132826  1.78919797  1.80709695  1.81882395  0.39565303]\n",
            "  [ 1.86225381  1.84070027  1.83755135  1.87663719  0.78769963]]\n",
            "\n",
            " [[ 1.60955583  1.50050668  1.54925877  1.56100814  0.56672791]\n",
            "  [ 1.61471009  1.60880071  1.58462958  1.65561163  0.00360644]\n",
            "  [ 1.59924731  1.60365048  1.57957661  1.60305414  0.14616884]\n",
            "  ...\n",
            "  [ 1.83132826  1.78919797  1.80709695  1.81882395  0.39565303]\n",
            "  [ 1.86225381  1.84070027  1.83755135  1.87663719  0.78769963]\n",
            "  [ 1.86225381  1.86645143  1.83249838  1.88189294  0.07488764]]]\n"
          ]
        }
      ]
    },
    {
      "cell_type": "code",
      "source": [
        "scaler = StandardScaler()\n",
        "scaler = scaler.fit(train_data)\n",
        "df_for_testing_scalered = scaler.transform(test_data)\n",
        "\n",
        "testX = []\n",
        "testY = []\n",
        "\n",
        "for i in range(n_past, len(df_for_testing_scalered) - n_future + 1):\n",
        "    past_sequence = df_for_testing_scalered[i - n_past:i, 0:df_for_testing_scalered.shape[1]]\n",
        "\n",
        "    future_sequence = df_for_testing_scalered[i + n_future - 1: i + n_future, 0]\n",
        "\n",
        "    testX.append(past_sequence)\n",
        "    testY.append(future_sequence)\n",
        "\n",
        "testX, testY = np.array(testX), np.array(testY)\n"
      ],
      "metadata": {
        "id": "6ZagVsH1EQ_U"
      },
      "execution_count": null,
      "outputs": []
    },
    {
      "cell_type": "code",
      "source": [
        "print('trainX shape == {}.'.format(trainX.shape))\n",
        "print('trainY shape == {}.'.format(trainY.shape))\n",
        "\n",
        "print('trainX shape == {}.'.format(testX.shape))\n",
        "print('trainY shape == {}.'.format(testY.shape))\n"
      ],
      "metadata": {
        "colab": {
          "base_uri": "https://localhost:8080/"
        },
        "id": "vl7y88kuMZxn",
        "outputId": "c837795d-18f7-43d5-cc7f-9db71b927523"
      },
      "execution_count": null,
      "outputs": [
        {
          "output_type": "stream",
          "name": "stdout",
          "text": [
            "trainX shape == (1176, 14, 5).\n",
            "trainY shape == (1176, 1).\n",
            "trainX shape == (284, 14, 5).\n",
            "trainY shape == (284, 1).\n"
          ]
        }
      ]
    },
    {
      "cell_type": "code",
      "source": [
        "# ------------------------- MODEL LSTM ---------------------\n",
        "\n",
        "#Tạo model lstm cho việc training\n",
        "# model = Sequential()\n",
        "# model.add(LSTM(64, activation='relu', input_shape=(trainX.shape[1], trainX.shape[2]), return_sequences=True))\n",
        "# model.add(LSTM(32, activation='relu', return_sequences=False))\n",
        "# model.add(Dropout(0.2))\n",
        "# model.add(Dense(trainY.shape[1]))\n",
        "# model.compile(optimizer='adam', loss='mse')\n",
        "# model.summary()\n",
        "\n",
        "\n",
        "# # ----------------------MODEL CNN LSTM --------------------\n",
        "from keras.models import Sequential\n",
        "from keras.layers import ConvLSTM2D, LSTM, Dense, Dropout, Flatten\n",
        "from keras.models import Sequential\n",
        "from keras.layers import Conv1D, LSTM, Dropout, Dense\n",
        "\n",
        "model = Sequential()\n",
        "model.add(Conv1D(filters=32, kernel_size=3, activation='relu', input_shape=(trainX.shape[1], trainX.shape[2])))\n",
        "model.add(LSTM(64, activation='relu', return_sequences=True))\n",
        "model.add(LSTM(32, activation='relu', return_sequences=False))\n",
        "model.add(Dropout(0.2))\n",
        "model.add(Dense(trainY.shape[1]))\n",
        "model.compile(optimizer='adam', loss='mse')\n",
        "model.summary()\n"
      ],
      "metadata": {
        "colab": {
          "base_uri": "https://localhost:8080/"
        },
        "id": "DF88P2-ZNI_N",
        "outputId": "9ce78745-0556-4260-bf40-4bdfe461b0bc"
      },
      "execution_count": null,
      "outputs": [
        {
          "output_type": "stream",
          "name": "stdout",
          "text": [
            "Model: \"sequential_4\"\n",
            "_________________________________________________________________\n",
            " Layer (type)                Output Shape              Param #   \n",
            "=================================================================\n",
            " conv1d_2 (Conv1D)           (None, 12, 32)            512       \n",
            "                                                                 \n",
            " lstm_8 (LSTM)               (None, 12, 64)            24832     \n",
            "                                                                 \n",
            " lstm_9 (LSTM)               (None, 32)                12416     \n",
            "                                                                 \n",
            " dropout_4 (Dropout)         (None, 32)                0         \n",
            "                                                                 \n",
            " dense_4 (Dense)             (None, 1)                 33        \n",
            "                                                                 \n",
            "=================================================================\n",
            "Total params: 37793 (147.63 KB)\n",
            "Trainable params: 37793 (147.63 KB)\n",
            "Non-trainable params: 0 (0.00 Byte)\n",
            "_________________________________________________________________\n"
          ]
        }
      ]
    },
    {
      "cell_type": "code",
      "source": [
        "# fit the model\n",
        "history = model.fit(trainX, trainY, epochs=50, batch_size=4, validation_split=0.1, verbose=1)"
      ],
      "metadata": {
        "colab": {
          "base_uri": "https://localhost:8080/"
        },
        "id": "Ta4ibtvbNNQJ",
        "outputId": "22373c84-d72b-4007-aa9b-4eacfb5a2e7a"
      },
      "execution_count": null,
      "outputs": [
        {
          "output_type": "stream",
          "name": "stdout",
          "text": [
            "Epoch 1/50\n",
            "265/265 [==============================] - 17s 27ms/step - loss: 0.0762 - val_loss: 0.5266\n",
            "Epoch 2/50\n",
            "265/265 [==============================] - 5s 18ms/step - loss: 0.0393 - val_loss: 0.2420\n",
            "Epoch 3/50\n",
            "265/265 [==============================] - 4s 14ms/step - loss: 0.0384 - val_loss: 0.1257\n",
            "Epoch 4/50\n",
            "265/265 [==============================] - 3s 11ms/step - loss: 0.0343 - val_loss: 0.1142\n",
            "Epoch 5/50\n",
            "265/265 [==============================] - 3s 11ms/step - loss: 0.0348 - val_loss: 0.2183\n",
            "Epoch 6/50\n",
            "265/265 [==============================] - 3s 13ms/step - loss: 0.0315 - val_loss: 0.8442\n",
            "Epoch 7/50\n",
            "265/265 [==============================] - 5s 19ms/step - loss: 0.0354 - val_loss: 0.5254\n",
            "Epoch 8/50\n",
            "265/265 [==============================] - 3s 12ms/step - loss: 0.0318 - val_loss: 1.6991\n",
            "Epoch 9/50\n",
            "265/265 [==============================] - 3s 11ms/step - loss: 0.0320 - val_loss: 0.2832\n",
            "Epoch 10/50\n",
            "265/265 [==============================] - 3s 11ms/step - loss: 0.0239 - val_loss: 0.2356\n",
            "Epoch 11/50\n",
            "265/265 [==============================] - 4s 16ms/step - loss: 0.0258 - val_loss: 0.3479\n",
            "Epoch 12/50\n",
            "265/265 [==============================] - 4s 16ms/step - loss: 0.0279 - val_loss: 0.1757\n",
            "Epoch 13/50\n",
            "265/265 [==============================] - 3s 11ms/step - loss: 0.0304 - val_loss: 0.1709\n",
            "Epoch 14/50\n",
            "265/265 [==============================] - 3s 11ms/step - loss: 0.0269 - val_loss: 0.5056\n",
            "Epoch 15/50\n",
            "265/265 [==============================] - 3s 11ms/step - loss: 0.0256 - val_loss: 0.2438\n",
            "Epoch 16/50\n",
            "265/265 [==============================] - 5s 19ms/step - loss: 0.0246 - val_loss: 0.1551\n",
            "Epoch 17/50\n",
            "265/265 [==============================] - 3s 12ms/step - loss: 0.0247 - val_loss: 0.2082\n",
            "Epoch 18/50\n",
            "265/265 [==============================] - 3s 11ms/step - loss: 0.0255 - val_loss: 0.1539\n",
            "Epoch 19/50\n",
            "265/265 [==============================] - 3s 11ms/step - loss: 0.0256 - val_loss: 0.2007\n",
            "Epoch 20/50\n",
            "265/265 [==============================] - 4s 14ms/step - loss: 0.0240 - val_loss: 0.1255\n",
            "Epoch 21/50\n",
            "265/265 [==============================] - 5s 17ms/step - loss: 0.0228 - val_loss: 0.3685\n",
            "Epoch 22/50\n",
            "265/265 [==============================] - 3s 11ms/step - loss: 0.0255 - val_loss: 0.1311\n",
            "Epoch 23/50\n",
            "265/265 [==============================] - 3s 11ms/step - loss: 0.0211 - val_loss: 0.2079\n",
            "Epoch 24/50\n",
            "265/265 [==============================] - 3s 11ms/step - loss: 0.0210 - val_loss: 0.0872\n",
            "Epoch 25/50\n",
            "265/265 [==============================] - 4s 17ms/step - loss: 0.0188 - val_loss: 0.4397\n",
            "Epoch 26/50\n",
            "265/265 [==============================] - 4s 16ms/step - loss: 0.0206 - val_loss: 0.2784\n",
            "Epoch 27/50\n",
            "265/265 [==============================] - 5s 18ms/step - loss: 0.0229 - val_loss: 0.1213\n",
            "Epoch 28/50\n",
            "265/265 [==============================] - 5s 20ms/step - loss: 0.0210 - val_loss: 0.1242\n",
            "Epoch 29/50\n",
            "265/265 [==============================] - 5s 17ms/step - loss: 0.0241 - val_loss: 0.1953\n",
            "Epoch 30/50\n",
            "265/265 [==============================] - 3s 11ms/step - loss: 0.0224 - val_loss: 0.9971\n",
            "Epoch 31/50\n",
            "265/265 [==============================] - 3s 11ms/step - loss: 0.0213 - val_loss: 0.3340\n",
            "Epoch 32/50\n",
            "265/265 [==============================] - 3s 11ms/step - loss: 0.0220 - val_loss: 0.2644\n",
            "Epoch 33/50\n",
            "265/265 [==============================] - 5s 18ms/step - loss: 0.0226 - val_loss: 0.1055\n",
            "Epoch 34/50\n",
            "265/265 [==============================] - 4s 14ms/step - loss: 0.0198 - val_loss: 0.1190\n",
            "Epoch 35/50\n",
            "265/265 [==============================] - 4s 14ms/step - loss: 0.0187 - val_loss: 0.0798\n",
            "Epoch 36/50\n",
            "265/265 [==============================] - 4s 14ms/step - loss: 0.0194 - val_loss: 0.0557\n",
            "Epoch 37/50\n",
            "265/265 [==============================] - 4s 16ms/step - loss: 0.0196 - val_loss: 0.1483\n",
            "Epoch 38/50\n",
            "265/265 [==============================] - 4s 15ms/step - loss: 0.0191 - val_loss: 0.0930\n",
            "Epoch 39/50\n",
            "265/265 [==============================] - 3s 11ms/step - loss: 0.0189 - val_loss: 0.3831\n",
            "Epoch 40/50\n",
            "265/265 [==============================] - 3s 11ms/step - loss: 0.0203 - val_loss: 0.2847\n",
            "Epoch 41/50\n",
            "265/265 [==============================] - 3s 11ms/step - loss: 0.0212 - val_loss: 0.2386\n",
            "Epoch 42/50\n",
            "265/265 [==============================] - 5s 18ms/step - loss: 0.0190 - val_loss: 0.1744\n",
            "Epoch 43/50\n",
            "265/265 [==============================] - 3s 13ms/step - loss: 0.0215 - val_loss: 0.0803\n",
            "Epoch 44/50\n",
            "265/265 [==============================] - 3s 11ms/step - loss: 0.0200 - val_loss: 0.2973\n",
            "Epoch 45/50\n",
            "265/265 [==============================] - 3s 11ms/step - loss: 0.0185 - val_loss: 0.0595\n",
            "Epoch 46/50\n",
            "265/265 [==============================] - 4s 14ms/step - loss: 0.0211 - val_loss: 0.2566\n",
            "Epoch 47/50\n",
            "265/265 [==============================] - 5s 17ms/step - loss: 0.0205 - val_loss: 0.1007\n",
            "Epoch 48/50\n",
            "265/265 [==============================] - 3s 11ms/step - loss: 0.0181 - val_loss: 0.0601\n",
            "Epoch 49/50\n",
            "265/265 [==============================] - 3s 11ms/step - loss: 0.0180 - val_loss: 0.2309\n",
            "Epoch 50/50\n",
            "265/265 [==============================] - 3s 11ms/step - loss: 0.0166 - val_loss: 0.0663\n"
          ]
        }
      ]
    },
    {
      "cell_type": "code",
      "source": [
        "prediction = model.predict(testX)\n",
        "\n",
        "prediction_copies = np.repeat(prediction, train_data.shape[1], axis=-1)\n",
        "y_pred_future = scaler.inverse_transform(prediction_copies)[:,0]\n"
      ],
      "metadata": {
        "colab": {
          "base_uri": "https://localhost:8080/"
        },
        "id": "jglpn6XJzyq0",
        "outputId": "bebab3ca-05a2-416b-94f4-523fbf27535a"
      },
      "execution_count": null,
      "outputs": [
        {
          "output_type": "stream",
          "name": "stdout",
          "text": [
            "9/9 [==============================] - 0s 5ms/step\n"
          ]
        }
      ]
    },
    {
      "cell_type": "code",
      "source": [
        "from pandas.tseries.holiday import USFederalHolidayCalendar\n",
        "from pandas.tseries.offsets import CustomBusinessDay\n",
        "#us_bd = CustomBusinessDay(calendar=USFederalHolidayCalendar())\n",
        "\n",
        "n_past = 15\n",
        "n_days_for_prediction= 30\n",
        "\n",
        "predict_period_dates = pd.date_range(list(train_dates)[-1], periods=n_days_for_prediction).tolist()\n",
        "print(predict_period_dates)\n",
        "\n",
        "#Make prediction\n",
        "prediction1 = model.predict(testX[-n_days_for_prediction:])\n",
        "df_for_training = df[cols].astype(float)\n",
        "\n",
        "prediction_copies1 = np.repeat(prediction1, df_for_training.shape[1], axis=-1)\n",
        "y_pred_future1 = scaler.inverse_transform(prediction_copies1)[:,0]\n",
        "\n",
        "print(len(y_pred_future1))"
      ],
      "metadata": {
        "colab": {
          "base_uri": "https://localhost:8080/"
        },
        "id": "MPqL6D8vjGZD",
        "outputId": "c1db29ea-eea2-452c-ed40-b06af999cf1f"
      },
      "execution_count": null,
      "outputs": [
        {
          "output_type": "stream",
          "name": "stdout",
          "text": [
            "[Timestamp('2022-12-30 00:00:00', freq='D'), Timestamp('2022-12-31 00:00:00', freq='D'), Timestamp('2023-01-01 00:00:00', freq='D'), Timestamp('2023-01-02 00:00:00', freq='D'), Timestamp('2023-01-03 00:00:00', freq='D'), Timestamp('2023-01-04 00:00:00', freq='D'), Timestamp('2023-01-05 00:00:00', freq='D'), Timestamp('2023-01-06 00:00:00', freq='D'), Timestamp('2023-01-07 00:00:00', freq='D'), Timestamp('2023-01-08 00:00:00', freq='D'), Timestamp('2023-01-09 00:00:00', freq='D'), Timestamp('2023-01-10 00:00:00', freq='D'), Timestamp('2023-01-11 00:00:00', freq='D'), Timestamp('2023-01-12 00:00:00', freq='D'), Timestamp('2023-01-13 00:00:00', freq='D'), Timestamp('2023-01-14 00:00:00', freq='D'), Timestamp('2023-01-15 00:00:00', freq='D'), Timestamp('2023-01-16 00:00:00', freq='D'), Timestamp('2023-01-17 00:00:00', freq='D'), Timestamp('2023-01-18 00:00:00', freq='D'), Timestamp('2023-01-19 00:00:00', freq='D'), Timestamp('2023-01-20 00:00:00', freq='D'), Timestamp('2023-01-21 00:00:00', freq='D'), Timestamp('2023-01-22 00:00:00', freq='D'), Timestamp('2023-01-23 00:00:00', freq='D'), Timestamp('2023-01-24 00:00:00', freq='D'), Timestamp('2023-01-25 00:00:00', freq='D'), Timestamp('2023-01-26 00:00:00', freq='D'), Timestamp('2023-01-27 00:00:00', freq='D'), Timestamp('2023-01-28 00:00:00', freq='D')]\n",
            "1/1 [==============================] - 0s 25ms/step\n",
            "30\n"
          ]
        }
      ]
    },
    {
      "cell_type": "code",
      "source": [
        "#y_pred = model.predict(testX)\n",
        "\n",
        "plt.figure(figsize=(12, 6))\n",
        "\n",
        "# Plot actual values\n",
        "plt.plot(Test_data['Date'],Test_data['Price'], linestyle='-',  color='r', label='Test Data')\n",
        "plt.plot(Train_data['Date'], Train_data['Price'], linestyle='-', color='b', label='Train Data')\n",
        "predict_date = Test_data['Date'];\n",
        "plt.plot(predict_date[14:],  y_pred_future, label='Predict', linestyle='-',  color='orange')\n",
        "plt.plot(predict_period_dates, y_pred_future1, label='Predict future 30 days', linestyle='-',  color='green')\n",
        "\n",
        "plt.title('VIB Stock Price Over Time')\n",
        "plt.xlabel('Date')\n",
        "plt.ylabel('Close Price')\n",
        "plt.legend()\n",
        "plt.grid(True)\n",
        "plt.show()"
      ],
      "metadata": {
        "colab": {
          "base_uri": "https://localhost:8080/",
          "height": 564
        },
        "id": "UhchWMyWXCf2",
        "outputId": "b875574d-0a24-4570-cfb9-fe5cb4c95344"
      },
      "execution_count": null,
      "outputs": [
        {
          "output_type": "display_data",
          "data": {
            "text/plain": [
              "<Figure size 1200x600 with 1 Axes>"
            ],
            "image/png": "[encoded data removed]"
          },
          "metadata": {}
        }
      ]
    },
    {
      "cell_type": "code",
      "source": [
        "from sklearn.metrics import mean_squared_error, mean_absolute_error\n",
        "\n",
        "y_pred_future_flat = y_pred_future.flatten()\n",
        "\n",
        "rmse = np.sqrt(mean_squared_error(Test_data['Price'].iloc[14:], y_pred_future_flat))\n",
        "\n",
        "mae = mean_absolute_error(Test_data['Price'].iloc[14:], y_pred_future_flat)\n",
        "\n",
        "mape = np.mean(np.abs((Test_data['Price'].iloc[14:] - y_pred_future_flat) / Test_data['Price'].iloc[14:]))*100\n",
        "\n",
        "print(f\"RMSE: {rmse}\")\n",
        "print(f\"MAE: {mae}\")\n",
        "print(f\"MAPE: {mape}\")\n"
      ],
      "metadata": {
        "colab": {
          "base_uri": "https://localhost:8080/"
        },
        "id": "OuJlqdVqH7QV",
        "outputId": "18227094-23ce-42c6-d881-5842402d5a09"
      },
      "execution_count": null,
      "outputs": [
        {
          "output_type": "stream",
          "name": "stdout",
          "text": [
            "RMSE: 1845.3595567385198\n",
            "MAE: 1371.1078895246478\n",
            "MAPE: 5.357518341494143\n"
          ]
        }
      ]
    }
  ]
}