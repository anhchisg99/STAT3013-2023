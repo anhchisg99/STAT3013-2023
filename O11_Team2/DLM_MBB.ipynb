{
  "cells": [
    {
      "cell_type": "code",
      "source": [
        "from google.colab import drive\n",
        "drive.mount('/content/drive')"
      ],
      "metadata": {
        "colab": {
          "base_uri": "https://localhost:8080/"
        },
        "id": "tBX3xHd7qyjQ",
        "outputId": "d41cc627-b4e9-4f90-c301-5de26759e8c3"
      },
      "id": "tBX3xHd7qyjQ",
      "execution_count": 1,
      "outputs": [
        {
          "output_type": "stream",
          "name": "stdout",
          "text": [
            "Mounted at /content/drive\n"
          ]
        }
      ]
    },
    {
      "cell_type": "code",
      "source": [
        "pip install pydlm"
      ],
      "metadata": {
        "colab": {
          "base_uri": "https://localhost:8080/"
        },
        "id": "ZWsqa1vr_vwB",
        "outputId": "0809fcef-4133-402f-d299-f059d1a424e2"
      },
      "id": "ZWsqa1vr_vwB",
      "execution_count": 2,
      "outputs": [
        {
          "output_type": "stream",
          "name": "stdout",
          "text": [
            "Collecting pydlm\n",
            "  Downloading pydlm-0.1.1.12-py2.py3-none-any.whl (63 kB)\n",
            "\u001b[2K     \u001b[90m━━━━━━━━━━━━━━━━━━━━━━━━━━━━━━━━━━━━━━━━\u001b[0m \u001b[32m63.8/63.8 kB\u001b[0m \u001b[31m635.4 kB/s\u001b[0m eta \u001b[36m0:00:00\u001b[0m\n",
            "\u001b[?25hRequirement already satisfied: numpy in /usr/local/lib/python3.10/dist-packages (from pydlm) (1.23.5)\n",
            "Requirement already satisfied: matplotlib in /usr/local/lib/python3.10/dist-packages (from pydlm) (3.7.1)\n",
            "Requirement already satisfied: contourpy>=1.0.1 in /usr/local/lib/python3.10/dist-packages (from matplotlib->pydlm) (1.2.0)\n",
            "Requirement already satisfied: cycler>=0.10 in /usr/local/lib/python3.10/dist-packages (from matplotlib->pydlm) (0.12.1)\n",
            "Requirement already satisfied: fonttools>=4.22.0 in /usr/local/lib/python3.10/dist-packages (from matplotlib->pydlm) (4.46.0)\n",
            "Requirement already satisfied: kiwisolver>=1.0.1 in /usr/local/lib/python3.10/dist-packages (from matplotlib->pydlm) (1.4.5)\n",
            "Requirement already satisfied: packaging>=20.0 in /usr/local/lib/python3.10/dist-packages (from matplotlib->pydlm) (23.2)\n",
            "Requirement already satisfied: pillow>=6.2.0 in /usr/local/lib/python3.10/dist-packages (from matplotlib->pydlm) (9.4.0)\n",
            "Requirement already satisfied: pyparsing>=2.3.1 in /usr/local/lib/python3.10/dist-packages (from matplotlib->pydlm) (3.1.1)\n",
            "Requirement already satisfied: python-dateutil>=2.7 in /usr/local/lib/python3.10/dist-packages (from matplotlib->pydlm) (2.8.2)\n",
            "Requirement already satisfied: six>=1.5 in /usr/local/lib/python3.10/dist-packages (from python-dateutil>=2.7->matplotlib->pydlm) (1.16.0)\n",
            "Installing collected packages: pydlm\n",
            "Successfully installed pydlm-0.1.1.12\n"
          ]
        }
      ]
    },
    {
      "cell_type": "code",
      "execution_count": 3,
      "id": "f31f95d2-e4ba-4ca4-b22a-90baecffd351",
      "metadata": {
        "id": "f31f95d2-e4ba-4ca4-b22a-90baecffd351"
      },
      "outputs": [],
      "source": [
        "# 1. Các thư viện cần thiết\n",
        "import pandas as pd\n",
        "import numpy as np\n",
        "from sklearn.ensemble import RandomForestRegressor\n",
        "import matplotlib.pyplot as plt\n",
        "from pydlm import dlm, trend, dynamic\n",
        "import matplotlib.pyplot as plt\n",
        "from pydlm import dlm, trend, seasonality, dynamic, autoReg, longSeason"
      ]
    },
    {
      "cell_type": "code",
      "execution_count": 34,
      "id": "c6eb57eb-7eca-4ec0-b8b0-fe3e36e7c1fb",
      "metadata": {
        "colab": {
          "base_uri": "https://localhost:8080/",
          "height": 455
        },
        "id": "c6eb57eb-7eca-4ec0-b8b0-fe3e36e7c1fb",
        "outputId": "b5c836c0-6f27-4ce9-fd3e-1b7db4d53074"
      },
      "outputs": [
        {
          "output_type": "execute_result",
          "data": {
            "text/plain": [
              "              Price     Open     High      Low     Vol.  Change %\n",
              "Date                                                             \n",
              "2016-01-05   4894.0   4894.0   4964.0   4894.0    1.07M       0.0\n",
              "2016-01-06   4929.0   4894.0   4929.0   4894.0  670.50K       0.0\n",
              "2016-01-07   4859.0   4929.0   4929.0   4859.0    1.61M       0.0\n",
              "2016-01-08   4824.0   4824.0   4859.0   4789.0    1.73M       0.0\n",
              "2016-01-11   4789.0   4824.0   4859.0   4789.0    1.12M       0.0\n",
              "...             ...      ...      ...      ...      ...       ...\n",
              "2023-12-21  18150.0  18100.0  18150.0  18000.0    3.98M       0.0\n",
              "2023-12-22  18300.0  18150.0  18450.0  18100.0    8.55M       0.0\n",
              "2023-12-25  18400.0  18350.0  18550.0  18300.0    6.59M       0.0\n",
              "2023-12-26  18450.0  18400.0  18500.0  18300.0    4.26M       0.0\n",
              "2023-12-27  18400.0  18500.0  18500.0  18350.0    5.78M       0.0\n",
              "\n",
              "[1996 rows x 6 columns]"
            ],
            "text/html": [
              "\n",
              "  <div id=\"df-d9ce9a25-dcf5-4646-bb3f-94fe92f22bb0\" class=\"colab-df-container\">\n",
              "    <div>\n",
              "<style scoped>\n",
              "    .dataframe tbody tr th:only-of-type {\n",
              "        vertical-align: middle;\n",
              "    }\n",
              "\n",
              "    .dataframe tbody tr th {\n",
              "        vertical-align: top;\n",
              "    }\n",
              "\n",
              "    .dataframe thead th {\n",
              "        text-align: right;\n",
              "    }\n",
              "</style>\n",
              "<table border=\"1\" class=\"dataframe\">\n",
              "  <thead>\n",
              "    <tr style=\"text-align: right;\">\n",
              "      <th></th>\n",
              "      <th>Price</th>\n",
              "      <th>Open</th>\n",
              "      <th>High</th>\n",
              "      <th>Low</th>\n",
              "      <th>Vol.</th>\n",
              "      <th>Change %</th>\n",
              "    </tr>\n",
              "    <tr>\n",
              "      <th>Date</th>\n",
              "      <th></th>\n",
              "      <th></th>\n",
              "      <th></th>\n",
              "      <th></th>\n",
              "      <th></th>\n",
              "      <th></th>\n",
              "    </tr>\n",
              "  </thead>\n",
              "  <tbody>\n",
              "    <tr>\n",
              "      <th>2016-01-05</th>\n",
              "      <td>4894.0</td>\n",
              "      <td>4894.0</td>\n",
              "      <td>4964.0</td>\n",
              "      <td>4894.0</td>\n",
              "      <td>1.07M</td>\n",
              "      <td>0.0</td>\n",
              "    </tr>\n",
              "    <tr>\n",
              "      <th>2016-01-06</th>\n",
              "      <td>4929.0</td>\n",
              "      <td>4894.0</td>\n",
              "      <td>4929.0</td>\n",
              "      <td>4894.0</td>\n",
              "      <td>670.50K</td>\n",
              "      <td>0.0</td>\n",
              "    </tr>\n",
              "    <tr>\n",
              "      <th>2016-01-07</th>\n",
              "      <td>4859.0</td>\n",
              "      <td>4929.0</td>\n",
              "      <td>4929.0</td>\n",
              "      <td>4859.0</td>\n",
              "      <td>1.61M</td>\n",
              "      <td>0.0</td>\n",
              "    </tr>\n",
              "    <tr>\n",
              "      <th>2016-01-08</th>\n",
              "      <td>4824.0</td>\n",
              "      <td>4824.0</td>\n",
              "      <td>4859.0</td>\n",
              "      <td>4789.0</td>\n",
              "      <td>1.73M</td>\n",
              "      <td>0.0</td>\n",
              "    </tr>\n",
              "    <tr>\n",
              "      <th>2016-01-11</th>\n",
              "      <td>4789.0</td>\n",
              "      <td>4824.0</td>\n",
              "      <td>4859.0</td>\n",
              "      <td>4789.0</td>\n",
              "      <td>1.12M</td>\n",
              "      <td>0.0</td>\n",
              "    </tr>\n",
              "    <tr>\n",
              "      <th>...</th>\n",
              "      <td>...</td>\n",
              "      <td>...</td>\n",
              "      <td>...</td>\n",
              "      <td>...</td>\n",
              "      <td>...</td>\n",
              "      <td>...</td>\n",
              "    </tr>\n",
              "    <tr>\n",
              "      <th>2023-12-21</th>\n",
              "      <td>18150.0</td>\n",
              "      <td>18100.0</td>\n",
              "      <td>18150.0</td>\n",
              "      <td>18000.0</td>\n",
              "      <td>3.98M</td>\n",
              "      <td>0.0</td>\n",
              "    </tr>\n",
              "    <tr>\n",
              "      <th>2023-12-22</th>\n",
              "      <td>18300.0</td>\n",
              "      <td>18150.0</td>\n",
              "      <td>18450.0</td>\n",
              "      <td>18100.0</td>\n",
              "      <td>8.55M</td>\n",
              "      <td>0.0</td>\n",
              "    </tr>\n",
              "    <tr>\n",
              "      <th>2023-12-25</th>\n",
              "      <td>18400.0</td>\n",
              "      <td>18350.0</td>\n",
              "      <td>18550.0</td>\n",
              "      <td>18300.0</td>\n",
              "      <td>6.59M</td>\n",
              "      <td>0.0</td>\n",
              "    </tr>\n",
              "    <tr>\n",
              "      <th>2023-12-26</th>\n",
              "      <td>18450.0</td>\n",
              "      <td>18400.0</td>\n",
              "      <td>18500.0</td>\n",
              "      <td>18300.0</td>\n",
              "      <td>4.26M</td>\n",
              "      <td>0.0</td>\n",
              "    </tr>\n",
              "    <tr>\n",
              "      <th>2023-12-27</th>\n",
              "      <td>18400.0</td>\n",
              "      <td>18500.0</td>\n",
              "      <td>18500.0</td>\n",
              "      <td>18350.0</td>\n",
              "      <td>5.78M</td>\n",
              "      <td>0.0</td>\n",
              "    </tr>\n",
              "  </tbody>\n",
              "</table>\n",
              "<p>1996 rows × 6 columns</p>\n",
              "</div>\n",
              "    <div class=\"colab-df-buttons\">\n",
              "\n",
              "  <div class=\"colab-df-container\">\n",
              "    <button class=\"colab-df-convert\" onclick=\"convertToInteractive('df-d9ce9a25-dcf5-4646-bb3f-94fe92f22bb0')\"\n",
              "            title=\"Convert this dataframe to an interactive table.\"\n",
              "            style=\"display:none;\">\n",
              "\n",
              "  <svg xmlns=\"http://www.w3.org/2000/svg\" height=\"24px\" viewBox=\"0 -960 960 960\">\n",
              "    <path d=\"M120-120v-720h720v720H120Zm60-500h600v-160H180v160Zm220 220h160v-160H400v160Zm0 220h160v-160H400v160ZM180-400h160v-160H180v160Zm440 0h160v-160H620v160ZM180-180h160v-160H180v160Zm440 0h160v-160H620v160Z\"/>\n",
              "  </svg>\n",
              "    </button>\n",
              "\n",
              "  <style>\n",
              "    .colab-df-container {\n",
              "      display:flex;\n",
              "      gap: 12px;\n",
              "    }\n",
              "\n",
              "    .colab-df-convert {\n",
              "      background-color: #E8F0FE;\n",
              "      border: none;\n",
              "      border-radius: 50%;\n",
              "      cursor: pointer;\n",
              "      display: none;\n",
              "      fill: #1967D2;\n",
              "      height: 32px;\n",
              "      padding: 0 0 0 0;\n",
              "      width: 32px;\n",
              "    }\n",
              "\n",
              "    .colab-df-convert:hover {\n",
              "      background-color: #E2EBFA;\n",
              "      box-shadow: 0px 1px 2px rgba(60, 64, 67, 0.3), 0px 1px 3px 1px rgba(60, 64, 67, 0.15);\n",
              "      fill: #174EA6;\n",
              "    }\n",
              "\n",
              "    .colab-df-buttons div {\n",
              "      margin-bottom: 4px;\n",
              "    }\n",
              "\n",
              "    [theme=dark] .colab-df-convert {\n",
              "      background-color: #3B4455;\n",
              "      fill: #D2E3FC;\n",
              "    }\n",
              "\n",
              "    [theme=dark] .colab-df-convert:hover {\n",
              "      background-color: #434B5C;\n",
              "      box-shadow: 0px 1px 3px 1px rgba(0, 0, 0, 0.15);\n",
              "      filter: drop-shadow(0px 1px 2px rgba(0, 0, 0, 0.3));\n",
              "      fill: #FFFFFF;\n",
              "    }\n",
              "  </style>\n",
              "\n",
              "    <script>\n",
              "      const buttonEl =\n",
              "        document.querySelector('#df-d9ce9a25-dcf5-4646-bb3f-94fe92f22bb0 button.colab-df-convert');\n",
              "      buttonEl.style.display =\n",
              "        google.colab.kernel.accessAllowed ? 'block' : 'none';\n",
              "\n",
              "      async function convertToInteractive(key) {\n",
              "        const element = document.querySelector('#df-d9ce9a25-dcf5-4646-bb3f-94fe92f22bb0');\n",
              "        const dataTable =\n",
              "          await google.colab.kernel.invokeFunction('convertToInteractive',\n",
              "                                                    [key], {});\n",
              "        if (!dataTable) return;\n",
              "\n",
              "        const docLinkHtml = 'Like what you see? Visit the ' +\n",
              "          '<a target=\"_blank\" href=https://colab.research.google.com/notebooks/data_table.ipynb>data table notebook</a>'\n",
              "          + ' to learn more about interactive tables.';\n",
              "        element.innerHTML = '';\n",
              "        dataTable['output_type'] = 'display_data';\n",
              "        await google.colab.output.renderOutput(dataTable, element);\n",
              "        const docLink = document.createElement('div');\n",
              "        docLink.innerHTML = docLinkHtml;\n",
              "        element.appendChild(docLink);\n",
              "      }\n",
              "    </script>\n",
              "  </div>\n",
              "\n",
              "\n",
              "<div id=\"df-aae86001-2e57-4f59-992e-dd6755541427\">\n",
              "  <button class=\"colab-df-quickchart\" onclick=\"quickchart('df-aae86001-2e57-4f59-992e-dd6755541427')\"\n",
              "            title=\"Suggest charts\"\n",
              "            style=\"display:none;\">\n",
              "\n",
              "<svg xmlns=\"http://www.w3.org/2000/svg\" height=\"24px\"viewBox=\"0 0 24 24\"\n",
              "     width=\"24px\">\n",
              "    <g>\n",
              "        <path d=\"M19 3H5c-1.1 0-2 .9-2 2v14c0 1.1.9 2 2 2h14c1.1 0 2-.9 2-2V5c0-1.1-.9-2-2-2zM9 17H7v-7h2v7zm4 0h-2V7h2v10zm4 0h-2v-4h2v4z\"/>\n",
              "    </g>\n",
              "</svg>\n",
              "  </button>\n",
              "\n",
              "<style>\n",
              "  .colab-df-quickchart {\n",
              "      --bg-color: #E8F0FE;\n",
              "      --fill-color: #1967D2;\n",
              "      --hover-bg-color: #E2EBFA;\n",
              "      --hover-fill-color: #174EA6;\n",
              "      --disabled-fill-color: #AAA;\n",
              "      --disabled-bg-color: #DDD;\n",
              "  }\n",
              "\n",
              "  [theme=dark] .colab-df-quickchart {\n",
              "      --bg-color: #3B4455;\n",
              "      --fill-color: #D2E3FC;\n",
              "      --hover-bg-color: #434B5C;\n",
              "      --hover-fill-color: #FFFFFF;\n",
              "      --disabled-bg-color: #3B4455;\n",
              "      --disabled-fill-color: #666;\n",
              "  }\n",
              "\n",
              "  .colab-df-quickchart {\n",
              "    background-color: var(--bg-color);\n",
              "    border: none;\n",
              "    border-radius: 50%;\n",
              "    cursor: pointer;\n",
              "    display: none;\n",
              "    fill: var(--fill-color);\n",
              "    height: 32px;\n",
              "    padding: 0;\n",
              "    width: 32px;\n",
              "  }\n",
              "\n",
              "  .colab-df-quickchart:hover {\n",
              "    background-color: var(--hover-bg-color);\n",
              "    box-shadow: 0 1px 2px rgba(60, 64, 67, 0.3), 0 1px 3px 1px rgba(60, 64, 67, 0.15);\n",
              "    fill: var(--button-hover-fill-color);\n",
              "  }\n",
              "\n",
              "  .colab-df-quickchart-complete:disabled,\n",
              "  .colab-df-quickchart-complete:disabled:hover {\n",
              "    background-color: var(--disabled-bg-color);\n",
              "    fill: var(--disabled-fill-color);\n",
              "    box-shadow: none;\n",
              "  }\n",
              "\n",
              "  .colab-df-spinner {\n",
              "    border: 2px solid var(--fill-color);\n",
              "    border-color: transparent;\n",
              "    border-bottom-color: var(--fill-color);\n",
              "    animation:\n",
              "      spin 1s steps(1) infinite;\n",
              "  }\n",
              "\n",
              "  @keyframes spin {\n",
              "    0% {\n",
              "      border-color: transparent;\n",
              "      border-bottom-color: var(--fill-color);\n",
              "      border-left-color: var(--fill-color);\n",
              "    }\n",
              "    20% {\n",
              "      border-color: transparent;\n",
              "      border-left-color: var(--fill-color);\n",
              "      border-top-color: var(--fill-color);\n",
              "    }\n",
              "    30% {\n",
              "      border-color: transparent;\n",
              "      border-left-color: var(--fill-color);\n",
              "      border-top-color: var(--fill-color);\n",
              "      border-right-color: var(--fill-color);\n",
              "    }\n",
              "    40% {\n",
              "      border-color: transparent;\n",
              "      border-right-color: var(--fill-color);\n",
              "      border-top-color: var(--fill-color);\n",
              "    }\n",
              "    60% {\n",
              "      border-color: transparent;\n",
              "      border-right-color: var(--fill-color);\n",
              "    }\n",
              "    80% {\n",
              "      border-color: transparent;\n",
              "      border-right-color: var(--fill-color);\n",
              "      border-bottom-color: var(--fill-color);\n",
              "    }\n",
              "    90% {\n",
              "      border-color: transparent;\n",
              "      border-bottom-color: var(--fill-color);\n",
              "    }\n",
              "  }\n",
              "</style>\n",
              "\n",
              "  <script>\n",
              "    async function quickchart(key) {\n",
              "      const quickchartButtonEl =\n",
              "        document.querySelector('#' + key + ' button');\n",
              "      quickchartButtonEl.disabled = true;  // To prevent multiple clicks.\n",
              "      quickchartButtonEl.classList.add('colab-df-spinner');\n",
              "      try {\n",
              "        const charts = await google.colab.kernel.invokeFunction(\n",
              "            'suggestCharts', [key], {});\n",
              "      } catch (error) {\n",
              "        console.error('Error during call to suggestCharts:', error);\n",
              "      }\n",
              "      quickchartButtonEl.classList.remove('colab-df-spinner');\n",
              "      quickchartButtonEl.classList.add('colab-df-quickchart-complete');\n",
              "    }\n",
              "    (() => {\n",
              "      let quickchartButtonEl =\n",
              "        document.querySelector('#df-aae86001-2e57-4f59-992e-dd6755541427 button');\n",
              "      quickchartButtonEl.style.display =\n",
              "        google.colab.kernel.accessAllowed ? 'block' : 'none';\n",
              "    })();\n",
              "  </script>\n",
              "</div>\n",
              "    </div>\n",
              "  </div>\n"
            ]
          },
          "metadata": {},
          "execution_count": 34
        }
      ],
      "source": [
        "#import dataset\n",
        "df = pd.read_csv('/content/drive/MyDrive/PTTK/MBB.csv')\n",
        "df['Date'] = pd.to_datetime(df['Date'], format='%m/%d/%Y')  # Use the correct format\n",
        "df.set_index('Date', inplace=True)\n",
        "df = df.dropna()\n",
        "df"
      ]
    },
    {
      "cell_type": "code",
      "execution_count": 6,
      "id": "cd0ca6c7-5e39-4c92-aa99-2753303655c7",
      "metadata": {
        "id": "cd0ca6c7-5e39-4c92-aa99-2753303655c7"
      },
      "outputs": [],
      "source": [
        "#RATIO 7:3"
      ]
    },
    {
      "cell_type": "code",
      "execution_count": 35,
      "id": "42904b2f-2f96-4914-bd19-c60eaaf8ae90",
      "metadata": {
        "id": "42904b2f-2f96-4914-bd19-c60eaaf8ae90"
      },
      "outputs": [],
      "source": [
        "# split data ratio 7:3\n",
        "train_size73 = int(0.7 * len(df))\n",
        "test_size73 = int(0.3 * len(df))\n",
        "\n",
        "train_data73 = df[:train_size73]\n",
        "test_data73 = df[train_size73:train_size73+test_size73]"
      ]
    },
    {
      "cell_type": "code",
      "execution_count": 36,
      "id": "8c5e5960-b322-4492-a34f-610699c2ea57",
      "metadata": {
        "id": "8c5e5960-b322-4492-a34f-610699c2ea57"
      },
      "outputs": [],
      "source": [
        "import statsmodels.api as sm\n",
        "acf = sm.tsa.stattools.acf(train_data73['Price'], nlags= 700)"
      ]
    },
    {
      "cell_type": "code",
      "execution_count": 37,
      "id": "926c17df-cea8-4af6-ab7d-f063b2a51c68",
      "metadata": {
        "colab": {
          "base_uri": "https://localhost:8080/"
        },
        "id": "926c17df-cea8-4af6-ab7d-f063b2a51c68",
        "outputId": "d0dd47c3-cf17-4e07-bc2c-6ca567dbaf03"
      },
      "outputs": [
        {
          "output_type": "stream",
          "name": "stdout",
          "text": [
            "Initializing models...\n",
            "Initialization finished.\n",
            "Starting forward filtering...\n",
            "Forward filtering completed.\n",
            "Starting backward smoothing...\n",
            "Backward smoothing completed.\n"
          ]
        }
      ],
      "source": [
        "# training 7:3\n",
        "y_train73 = np.array(train_data73['Price'])\n",
        "\n",
        "x_train73 = []\n",
        "for data in train_data73['High']:\n",
        "  x_train73.append([data])\n",
        "\n",
        "model73 = dlm(y_train73)\n",
        "model73 = model73 + trend(1, discount=0.99, name='Trend', w=1e7)\n",
        "model73 = model73 + dynamic(features=x_train73, discount=1, name='High')\n",
        "model73 = model73 + autoReg(degree=3, discount=0.99, name='ar', w=1e7)\n",
        "model73 = model73 + longSeason(period=12, stay=30, data=y_train73, name='season', w=1e7)\n",
        "\n",
        "model73.fit()"
      ]
    },
    {
      "cell_type": "code",
      "execution_count": 38,
      "id": "a9c83ee0-813d-4a02-b0c8-ad89af7c1fde",
      "metadata": {
        "id": "a9c83ee0-813d-4a02-b0c8-ad89af7c1fde"
      },
      "outputs": [],
      "source": [
        "# testing 7:3\n",
        "x_test73 = []\n",
        "for data in test_data73['High']:\n",
        "  x_test73.append([data])\n",
        "\n",
        "y_test73 = np.array(test_data73['Price'])\n",
        "\n",
        "y_pred73 = model73.predictN(date = model73.n-1, N=len(x_test73),featureDict={'High': x_test73})\n",
        "y_pred73 = y_pred73[0]\n"
      ]
    },
    {
      "cell_type": "code",
      "execution_count": 39,
      "id": "8d75bb16-1609-41da-a32a-a51b5156e0ce",
      "metadata": {
        "colab": {
          "base_uri": "https://localhost:8080/"
        },
        "id": "8d75bb16-1609-41da-a32a-a51b5156e0ce",
        "outputId": "eee5aef6-bf5b-4f3d-b199-e404f10fade1"
      },
      "outputs": [
        {
          "output_type": "stream",
          "name": "stdout",
          "text": [
            "            Predicted_High\n",
            "Date                      \n",
            "2021-08-07    16332.446880\n",
            "2021-08-08    16340.959418\n",
            "2021-08-09    16349.471956\n",
            "2021-08-10    16357.984495\n",
            "2021-08-11    16366.497033\n",
            "2021-08-12    16375.009572\n",
            "2021-08-13    16383.522110\n",
            "2021-08-14    16392.034648\n",
            "2021-08-15    16400.547187\n",
            "2021-08-16    16409.059725\n",
            "2021-08-17    16417.572264\n",
            "2021-08-18    16426.084802\n",
            "2021-08-19    16434.597340\n",
            "2021-08-20    16443.109879\n",
            "2021-08-21    16451.622417\n",
            "2021-08-22    16460.134956\n",
            "2021-08-23    16468.647494\n",
            "2021-08-24    16477.160033\n",
            "2021-08-25    16485.672571\n",
            "2021-08-26    16494.185109\n",
            "2021-08-27    16502.697648\n",
            "2021-08-28    16511.210186\n",
            "2021-08-29    16519.722725\n",
            "2021-08-30    16528.235263\n",
            "2021-08-31    16536.747801\n",
            "2021-09-01    16545.260340\n",
            "2021-09-02    16553.772878\n",
            "2021-09-03    16562.285417\n",
            "2021-09-04    16570.797955\n",
            "2021-09-05    16579.310493\n"
          ]
        }
      ],
      "source": [
        "from sklearn.linear_model import LinearRegression\n",
        "import numpy as np\n",
        "import pandas as pd\n",
        "\n",
        "# Assuming train_data73 is a DataFrame with 'Price' column and 'Date' as the index\n",
        "# Make sure 'Date' is in datetime format\n",
        "train_data73.index = pd.to_datetime(train_data73.index)\n",
        "\n",
        "ln_model73 = LinearRegression()\n",
        "\n",
        "# Use the datetime index for training\n",
        "ln_model73.fit(np.arange(len(train_data73)).reshape(-1, 1), train_data73['High'])\n",
        "\n",
        "# Predict the prices for the next 30 days\n",
        "last_index73 = train_data73.index[-1]\n",
        "next_30_days_indices73 = np.arange(len(train_data73), len(train_data73) + 30).reshape(-1, 1)\n",
        "\n",
        "# Use the model to predict the high prices for the next 30 days\n",
        "high_next_30_days73 = ln_model73.predict(next_30_days_indices73)\n",
        "\n",
        "# Generate the next 30 days date indices\n",
        "next_30_days_dates73 = pd.date_range(start=last_index73 + pd.DateOffset(1), periods=30)\n",
        "\n",
        "# Combine the predicted dates and prices into a DataFrame\n",
        "predicted_df73 = pd.DataFrame({'Date': next_30_days_dates73, 'Predicted_High': high_next_30_days73})\n",
        "predicted_df73.set_index('Date', inplace=True)\n",
        "\n",
        "print(predicted_df73)\n"
      ]
    },
    {
      "cell_type": "code",
      "execution_count": 40,
      "id": "107ed7e3-52e7-425c-9645-0a22c7b51a72",
      "metadata": {
        "colab": {
          "base_uri": "https://localhost:8080/"
        },
        "id": "107ed7e3-52e7-425c-9645-0a22c7b51a72",
        "outputId": "1762b4ad-2468-436c-fac9-abf95d45043f"
      },
      "outputs": [
        {
          "output_type": "stream",
          "name": "stdout",
          "text": [
            "[24738.291863926774, 24742.698792652624, 24746.67362645478, 24763.264908426616, 24778.54451461983, 24794.746330516136, 24811.411580860327, 24828.081531191616, 24844.827144152576, 24861.593301381577, 24878.36506186289, 24895.141694902923, 24911.91962262286, 23654.297304673393, 23682.55354231573, 23605.302566885577, 23566.35823023917, 23577.22594253877, 23585.714879608266, 23599.62235739915, 23615.549915208885, 23631.751468125403, 23648.34356202085, 23665.043344242982, 23681.783284872214, 23698.54839592612, 23715.321091792146, 23732.09738374448, 23748.87533634276, 23765.653880747177]\n"
          ]
        }
      ],
      "source": [
        "# Dự báo giá cổ phiếu 30 ngày tiếp theo 7:3\n",
        "x_next_30_days73 = []\n",
        "for data in high_next_30_days73:\n",
        "  x_next_30_days73.append([data])\n",
        "\n",
        "y_next_30_days73 = model73.predictN(N = 30, featureDict={'High': x_next_30_days73})\n",
        "y_next_30_days73 = y_next_30_days73[0]\n",
        "print(y_next_30_days73)\n"
      ]
    },
    {
      "cell_type": "code",
      "execution_count": 41,
      "id": "fd2dc09b-9caa-4261-b933-8b365349e900",
      "metadata": {
        "colab": {
          "base_uri": "https://localhost:8080/",
          "height": 430
        },
        "id": "fd2dc09b-9caa-4261-b933-8b365349e900",
        "outputId": "601786ed-d79e-4ca6-d982-b713f6d91e13"
      },
      "outputs": [
        {
          "output_type": "display_data",
          "data": {
            "text/plain": [
              "<Figure size 640x480 with 1 Axes>"
            ],
            "image/png": "[encoded data removed]"
          },
          "metadata": {}
        }
      ],
      "source": [
        "# Generating the next 30 days date indices\n",
        "last_test_date73 = test_data73.index[-1]\n",
        "next_30_days_dates73 = pd.date_range(start=last_test_date73 + pd.DateOffset(1), periods=30)\n",
        "\n",
        "# 10. Vẽ hình 7:3\n",
        "plt.plot(train_data73.index, train_data73['Price'])\n",
        "plt.plot(test_data73.index, test_data73['Price'])\n",
        "plt.plot(test_data73.index, y_pred73)\n",
        "plt.plot(next_30_days_dates73,y_next_30_days73)\n",
        "plt.legend(['Train', 'Test', 'Predictions','Next30Day'])\n",
        "plt.show()"
      ]
    },
    {
      "cell_type": "code",
      "execution_count": 13,
      "id": "391a9d12-98f6-4d59-aa84-196554d48404",
      "metadata": {
        "id": "391a9d12-98f6-4d59-aa84-196554d48404"
      },
      "outputs": [],
      "source": [
        "#RATIO 8:2"
      ]
    },
    {
      "cell_type": "code",
      "execution_count": 42,
      "id": "7fc0075a-a172-4df2-ad5e-cafa861d9d81",
      "metadata": {
        "id": "7fc0075a-a172-4df2-ad5e-cafa861d9d81"
      },
      "outputs": [],
      "source": [
        "# Split the data into training, testing, and validating sets\n",
        "train_size82 = int(0.8 * len(df))\n",
        "test_size82 = int(0.2 * len(df))\n",
        "\n",
        "train_data82 = df[:train_size82]\n",
        "test_data82 = df[train_size82:train_size82+test_size82]"
      ]
    },
    {
      "cell_type": "code",
      "execution_count": 43,
      "id": "f2b128de-bd7b-4a39-959d-791d816aa645",
      "metadata": {
        "id": "f2b128de-bd7b-4a39-959d-791d816aa645"
      },
      "outputs": [],
      "source": [
        "import statsmodels.api as sm\n",
        "acf = sm.tsa.stattools.acf(train_data82['Price'], nlags= 700)"
      ]
    },
    {
      "cell_type": "code",
      "execution_count": 44,
      "id": "c48fbf63-71b0-419d-8ee2-febc47efa8c5",
      "metadata": {
        "colab": {
          "base_uri": "https://localhost:8080/"
        },
        "id": "c48fbf63-71b0-419d-8ee2-febc47efa8c5",
        "outputId": "cece0e43-a5da-45a2-895a-67736f5ec09e"
      },
      "outputs": [
        {
          "output_type": "stream",
          "name": "stdout",
          "text": [
            "Initializing models...\n",
            "Initialization finished.\n",
            "Starting forward filtering...\n",
            "Forward filtering completed.\n",
            "Starting backward smoothing...\n",
            "Backward smoothing completed.\n"
          ]
        }
      ],
      "source": [
        "# training\n",
        "y_train82 = np.array(train_data82['Price'])\n",
        "\n",
        "x_train82 = []\n",
        "for data in train_data82['High']:\n",
        "  x_train82.append([data])\n",
        "\n",
        "model82 = dlm(y_train82)\n",
        "model82 = model82 + trend(1, discount=0.99, name='Trend', w=1e7)\n",
        "model82 = model82 + dynamic(features=x_train82, discount=1, name='High')\n",
        "model82 = model82 + autoReg(degree=3, discount=0.99, name='ar', w=1e7)\n",
        "model82 = model82 + longSeason(period=12, stay=30, data=y_train82, name='season', w=1e7)\n",
        "\n",
        "model82.fit()"
      ]
    },
    {
      "cell_type": "code",
      "execution_count": 45,
      "id": "dee68269-ad52-4916-9d5b-6bc2edfdac3d",
      "metadata": {
        "id": "dee68269-ad52-4916-9d5b-6bc2edfdac3d"
      },
      "outputs": [],
      "source": [
        "# testing\n",
        "x_test82= []\n",
        "for data in test_data82['High']:\n",
        "  x_test82.append([data])\n",
        "\n",
        "y_test82 = np.array(test_data82['High'])\n",
        "\n",
        "y_pred82 = model82.predictN(date = model82.n-1, N=len(x_test82),featureDict={'High': x_test82})\n",
        "y_pred82 = y_pred82[0]\n"
      ]
    },
    {
      "cell_type": "code",
      "execution_count": 46,
      "id": "78d31f65-ed87-42c0-817c-2fccfb6800fb",
      "metadata": {
        "colab": {
          "base_uri": "https://localhost:8080/"
        },
        "id": "78d31f65-ed87-42c0-817c-2fccfb6800fb",
        "outputId": "b70e8de2-99b3-49e9-f069-5a0c00b2688e"
      },
      "outputs": [
        {
          "output_type": "stream",
          "name": "stdout",
          "text": [
            "            Predicted_High\n",
            "Date                      \n",
            "2022-05-28    21595.460309\n",
            "2022-05-29    21607.211849\n",
            "2022-05-30    21618.963388\n",
            "2022-05-31    21630.714928\n",
            "2022-06-01    21642.466468\n",
            "2022-06-02    21654.218007\n",
            "2022-06-03    21665.969547\n",
            "2022-06-04    21677.721087\n",
            "2022-06-05    21689.472626\n",
            "2022-06-06    21701.224166\n",
            "2022-06-07    21712.975706\n",
            "2022-06-08    21724.727245\n",
            "2022-06-09    21736.478785\n",
            "2022-06-10    21748.230325\n",
            "2022-06-11    21759.981864\n",
            "2022-06-12    21771.733404\n",
            "2022-06-13    21783.484944\n",
            "2022-06-14    21795.236483\n",
            "2022-06-15    21806.988023\n",
            "2022-06-16    21818.739563\n",
            "2022-06-17    21830.491102\n",
            "2022-06-18    21842.242642\n",
            "2022-06-19    21853.994182\n",
            "2022-06-20    21865.745721\n",
            "2022-06-21    21877.497261\n",
            "2022-06-22    21889.248801\n",
            "2022-06-23    21901.000340\n",
            "2022-06-24    21912.751880\n",
            "2022-06-25    21924.503420\n",
            "2022-06-26    21936.254959\n"
          ]
        }
      ],
      "source": [
        "from sklearn.linear_model import LinearRegression\n",
        "import numpy as np\n",
        "import pandas as pd\n",
        "\n",
        "# Make sure 'Date' is in datetime format\n",
        "train_data82.index = pd.to_datetime(train_data82.index)\n",
        "\n",
        "ln_model82 = LinearRegression()\n",
        "\n",
        "# Use the datetime index for training\n",
        "ln_model82.fit(np.arange(len(train_data82)).reshape(-1, 1), train_data82['High'])\n",
        "\n",
        "# Predict the prices for the next 30 days\n",
        "last_index82 = train_data82.index[-1]\n",
        "next_30_days_indices82 = np.arange(len(train_data82), len(train_data82) + 30).reshape(-1, 1)\n",
        "\n",
        "# Use the model to predict the high prices for the next 30 days\n",
        "high_next_30_days82 = ln_model82.predict(next_30_days_indices82)\n",
        "\n",
        "# Generate the next 30 days date indices\n",
        "next_30_days_dates82 = pd.date_range(start=last_index82 + pd.DateOffset(1), periods=30)\n",
        "\n",
        "# Combine the predicted dates and prices into a DataFrame\n",
        "predicted_df82 = pd.DataFrame({'Date': next_30_days_dates82, 'Predicted_High': high_next_30_days82})\n",
        "predicted_df82.set_index('Date', inplace=True)\n",
        "\n",
        "print(predicted_df82)\n"
      ]
    },
    {
      "cell_type": "code",
      "execution_count": 47,
      "id": "5f485930-6eb8-458b-9e55-b89336a830b4",
      "metadata": {
        "colab": {
          "base_uri": "https://localhost:8080/"
        },
        "id": "5f485930-6eb8-458b-9e55-b89336a830b4",
        "outputId": "66bc88bf-1b50-4449-9761-5d3b1ef1528d"
      },
      "outputs": [
        {
          "output_type": "stream",
          "name": "stdout",
          "text": [
            "[23473.9871119695, 23425.521122013077, 23423.641597921927, 23455.076335506128, 23470.5010254852, 23480.503417415053, 23494.891691750207, 23509.879173920275, 23523.782567066133, 23537.704509152205, 23551.870193673923, 23565.996788199, 23580.07355903242, 23594.1663418478, 23608.268161266344, 23622.365048096326, 23636.460586033394, 23650.55743825421, 23664.654409156523, 23678.751064298573, 23692.847737620712, 23706.94448012686, 23721.041208605104, 23735.13792336153, 22556.52250544102, 22488.78709683852, 22732.316245050308, 22720.897101219714, 22684.091975232175, 22710.763176848966]\n"
          ]
        }
      ],
      "source": [
        "# Dự báo giá cổ phiếu 30 ngày tiếp theo\n",
        "x_next_30_days82 = []\n",
        "for data in high_next_30_days82:\n",
        "  x_next_30_days82.append([data])\n",
        "\n",
        "y_next_30_days82 = model82.predictN(N = 30, featureDict={'High': x_next_30_days82})\n",
        "y_next_30_days82 = y_next_30_days82[0]\n",
        "print(y_next_30_days82)\n"
      ]
    },
    {
      "cell_type": "code",
      "execution_count": 48,
      "id": "52c56057-eef4-48c1-9291-41578149cb1b",
      "metadata": {
        "colab": {
          "base_uri": "https://localhost:8080/",
          "height": 430
        },
        "id": "52c56057-eef4-48c1-9291-41578149cb1b",
        "outputId": "a9d0b105-dba1-4b3a-a3b0-77a0e9a927de"
      },
      "outputs": [
        {
          "output_type": "display_data",
          "data": {
            "text/plain": [
              "<Figure size 640x480 with 1 Axes>"
            ],
            "image/png": "[encoded data removed]"
          },
          "metadata": {}
        }
      ],
      "source": [
        "# Generating the next 30 days date indices\n",
        "last_test_date82 = test_data82.index[-1]\n",
        "next_30_days_dates82 = pd.date_range(start=last_test_date82 + pd.DateOffset(1), periods=30)\n",
        "# 10. Vẽ hình\n",
        "plt.plot(train_data82.index, train_data82['Price'])\n",
        "plt.plot(test_data82.index, test_data82['Price'])\n",
        "plt.plot(test_data82.index, y_pred82)\n",
        "plt.plot(next_30_days_dates82,y_next_30_days82)\n",
        "plt.legend(['Train', 'Test', 'Predictions','Next30Day'])\n",
        "plt.show()"
      ]
    },
    {
      "cell_type": "code",
      "execution_count": 21,
      "id": "a90042c5-34e1-400b-b452-87633da53e3a",
      "metadata": {
        "id": "a90042c5-34e1-400b-b452-87633da53e3a"
      },
      "outputs": [],
      "source": [
        "#RATIO 9:1"
      ]
    },
    {
      "cell_type": "code",
      "execution_count": 49,
      "id": "0776c856-e4a5-4a3d-9c61-869c2a91605c",
      "metadata": {
        "id": "0776c856-e4a5-4a3d-9c61-869c2a91605c"
      },
      "outputs": [],
      "source": [
        "# Split the data into training, testing, and validating sets\n",
        "train_size91 = int(0.9 * len(df))\n",
        "test_size91 = int(0.1 * len(df))\n",
        "\n",
        "train_data91 = df[:train_size91]\n",
        "test_data91 = df[train_size91:train_size91+test_size91]"
      ]
    },
    {
      "cell_type": "code",
      "execution_count": 50,
      "id": "550bd48c-2f8c-46bb-910b-3ef693ae3e7a",
      "metadata": {
        "id": "550bd48c-2f8c-46bb-910b-3ef693ae3e7a"
      },
      "outputs": [],
      "source": [
        "import statsmodels.api as sm\n",
        "acf = sm.tsa.stattools.acf(train_data91['Price'], nlags= 700)"
      ]
    },
    {
      "cell_type": "code",
      "execution_count": 51,
      "id": "e816083c-7926-4361-bded-6b3dcdea34a9",
      "metadata": {
        "colab": {
          "base_uri": "https://localhost:8080/"
        },
        "id": "e816083c-7926-4361-bded-6b3dcdea34a9",
        "outputId": "603f2f51-70c9-4f5b-b1c6-1823e21904ff"
      },
      "outputs": [
        {
          "output_type": "stream",
          "name": "stdout",
          "text": [
            "Initializing models...\n",
            "Initialization finished.\n",
            "Starting forward filtering...\n",
            "Forward filtering completed.\n",
            "Starting backward smoothing...\n",
            "Backward smoothing completed.\n"
          ]
        }
      ],
      "source": [
        "# 4. Quá trình training\n",
        "y_train91 = np.array(train_data91['Price'])\n",
        "\n",
        "x_train91 = []\n",
        "for data in train_data91['High']:\n",
        "  x_train91.append([data])\n",
        "\n",
        "model91 = dlm(y_train91)\n",
        "model91 = model91 + trend(1, discount=0.99, name='Trend', w=1e7)\n",
        "model91 = model91 + dynamic(features=x_train91, discount=1, name='High')\n",
        "model91 = model91 + autoReg(degree=3, discount=0.99, name='ar', w=1e7)\n",
        "model91 = model91 + longSeason(period=12, stay=30, data=y_train91, name='season', w=1e7)\n",
        "\n",
        "model91.fit()"
      ]
    },
    {
      "cell_type": "code",
      "execution_count": 52,
      "id": "2071346d-01db-41a0-9d1b-5c2a897660f1",
      "metadata": {
        "id": "2071346d-01db-41a0-9d1b-5c2a897660f1"
      },
      "outputs": [],
      "source": [
        "# 5. Quá trình testing\n",
        "x_test91= []\n",
        "for data in test_data91['High']:\n",
        "  x_test91.append([data])\n",
        "\n",
        "y_test91 = np.array(test_data91['Price'])\n",
        "\n",
        "y_pred91 = model91.predictN(date = model91.n-1, N=len(x_test91),featureDict={'High': x_test91})\n",
        "y_pred91 = y_pred91[0]\n"
      ]
    },
    {
      "cell_type": "code",
      "execution_count": 53,
      "id": "550bfec2-2924-4196-8c62-20c20af4da6a",
      "metadata": {
        "colab": {
          "base_uri": "https://localhost:8080/"
        },
        "id": "550bfec2-2924-4196-8c62-20c20af4da6a",
        "outputId": "4454646e-0edf-4905-b855-ea8ad48bae95"
      },
      "outputs": [
        {
          "output_type": "stream",
          "name": "stdout",
          "text": [
            "            Predicted_High\n",
            "Date                      \n",
            "2023-03-16    22669.958335\n",
            "2023-03-17    22680.662402\n",
            "2023-03-18    22691.366469\n",
            "2023-03-19    22702.070536\n",
            "2023-03-20    22712.774603\n",
            "2023-03-21    22723.478670\n",
            "2023-03-22    22734.182737\n",
            "2023-03-23    22744.886804\n",
            "2023-03-24    22755.590871\n",
            "2023-03-25    22766.294938\n",
            "2023-03-26    22776.999005\n",
            "2023-03-27    22787.703072\n",
            "2023-03-28    22798.407139\n",
            "2023-03-29    22809.111206\n",
            "2023-03-30    22819.815273\n",
            "2023-03-31    22830.519340\n",
            "2023-04-01    22841.223407\n",
            "2023-04-02    22851.927474\n",
            "2023-04-03    22862.631541\n",
            "2023-04-04    22873.335608\n",
            "2023-04-05    22884.039675\n",
            "2023-04-06    22894.743742\n",
            "2023-04-07    22905.447809\n",
            "2023-04-08    22916.151876\n",
            "2023-04-09    22926.855943\n",
            "2023-04-10    22937.560010\n",
            "2023-04-11    22948.264077\n",
            "2023-04-12    22958.968144\n",
            "2023-04-13    22969.672211\n",
            "2023-04-14    22980.376278\n"
          ]
        }
      ],
      "source": [
        "from sklearn.linear_model import LinearRegression\n",
        "import numpy as np\n",
        "import pandas as pd\n",
        "\n",
        "# Make sure 'Date' is in datetime format\n",
        "train_data91.index = pd.to_datetime(train_data91.index)\n",
        "\n",
        "ln_model91 = LinearRegression()\n",
        "\n",
        "# Use the datetime index for training\n",
        "ln_model91.fit(np.arange(len(train_data91)).reshape(-1, 1), train_data91['High'])\n",
        "\n",
        "# Predict the prices for the next 30 days\n",
        "last_index91 = train_data91.index[-1]\n",
        "next_30_days_indices91 = np.arange(len(train_data91), len(train_data91) + 30).reshape(-1, 1)\n",
        "\n",
        "# Use the model to predict the high prices for the next 30 days\n",
        "high_next_30_days91 = ln_model91.predict(next_30_days_indices91)\n",
        "\n",
        "# Generate the next 30 days date indices\n",
        "next_30_days_dates91 = pd.date_range(start=last_index91 + pd.DateOffset(1), periods=30)\n",
        "\n",
        "# Combine the predicted dates and prices into a DataFrame\n",
        "predicted_df91 = pd.DataFrame({'Date': next_30_days_dates91, 'Predicted_High': high_next_30_days91})\n",
        "predicted_df91.set_index('Date', inplace=True)\n",
        "\n",
        "print(predicted_df91)\n"
      ]
    },
    {
      "cell_type": "code",
      "execution_count": 54,
      "id": "24e11bab-b32c-465e-a73a-65e3aa3d50d4",
      "metadata": {
        "colab": {
          "base_uri": "https://localhost:8080/"
        },
        "id": "24e11bab-b32c-465e-a73a-65e3aa3d50d4",
        "outputId": "59c738ee-96f6-428a-9baf-2a1008993061"
      },
      "outputs": [
        {
          "output_type": "stream",
          "name": "stdout",
          "text": [
            "[17877.329824414323, 17805.6829999553, 17826.92587365164, 17849.20256884746, 18166.253044882986, 18179.1662852502, 18152.25230128858, 18172.010766656807, 18186.586647169195, 18194.03706021129, 18203.65336863493, 18213.98190456943, 18223.80794695909, 18233.616608433775, 18243.510916916868, 18253.39090414767, 18263.259700235583, 18273.133079912564, 18283.00737781939, 18292.880740444663, 18302.75413946967, 18312.627684577157, 18322.501194508935, 18332.374687519015, 18342.24818968017, 18352.12169278652, 18361.995194203333, 18371.868695802947, 18381.74219764305, 18391.6156994051]\n"
          ]
        }
      ],
      "source": [
        "# 9. Dự báo giá cổ phiếu 30 ngày tiếp theo\n",
        "x_next_30_days91 = []\n",
        "for data in high_next_30_days91:\n",
        "  x_next_30_days91.append([data])\n",
        "\n",
        "y_next_30_days91 = model91.predictN(N = 30, featureDict={'High': x_next_30_days91})\n",
        "y_next_30_days91 = y_next_30_days91[0]\n",
        "print(y_next_30_days91)\n"
      ]
    },
    {
      "cell_type": "code",
      "execution_count": 55,
      "id": "5ad45ad8-a22c-4b8e-aa7b-8205e3c40420",
      "metadata": {
        "colab": {
          "base_uri": "https://localhost:8080/",
          "height": 430
        },
        "id": "5ad45ad8-a22c-4b8e-aa7b-8205e3c40420",
        "outputId": "02aac294-caef-407a-ec93-2889f01d4a62"
      },
      "outputs": [
        {
          "output_type": "display_data",
          "data": {
            "text/plain": [
              "<Figure size 640x480 with 1 Axes>"
            ],
            "image/png": "[encoded data removed]"
          },
          "metadata": {}
        }
      ],
      "source": [
        "# Generating the next 30 days date indices\n",
        "last_test_date91 = test_data91.index[-1]\n",
        "next_30_days_dates91 = pd.date_range(start=last_test_date91 + pd.DateOffset(1), periods=30)\n",
        "# 10. Vẽ hình\n",
        "plt.plot(train_data91.index, train_data91['Price'])\n",
        "plt.plot(test_data91.index, test_data91['Price'])\n",
        "plt.plot(test_data91.index, y_pred91)\n",
        "plt.plot(next_30_days_dates91,y_next_30_days91)\n",
        "plt.legend(['Train', 'Test', 'Predictions','Next30Day'])\n",
        "plt.show()"
      ]
    },
    {
      "cell_type": "code",
      "execution_count": 29,
      "id": "f3982e58-1cfa-4671-81f3-e78c3d61be27",
      "metadata": {
        "id": "f3982e58-1cfa-4671-81f3-e78c3d61be27"
      },
      "outputs": [],
      "source": [
        "#ACCURACY EVALUATION"
      ]
    },
    {
      "cell_type": "code",
      "execution_count": 56,
      "id": "0b490206-790d-4b9f-8769-27b89fbb70f1",
      "metadata": {
        "id": "0b490206-790d-4b9f-8769-27b89fbb70f1"
      },
      "outputs": [],
      "source": [
        "#method to calculate mape\n",
        "def calc_mape(actual, predicted):\n",
        "\n",
        "    # Convert to numpy arrays\n",
        "    actual = np.array(actual)\n",
        "    predicted = np.array(predicted)\n",
        "\n",
        "    # Calculate absolute percentage error\n",
        "    absolute_error = np.abs((actual - predicted) / actual)\n",
        "\n",
        "    # Handle division by zero cases\n",
        "    absolute_error[np.isinf(absolute_error)] = 0.0\n",
        "\n",
        "    # Calculate mean absolute percentage error\n",
        "    mape = np.mean(absolute_error) * 100\n",
        "\n",
        "    return mape"
      ]
    },
    {
      "cell_type": "code",
      "execution_count": 57,
      "id": "dc12d3d4-ec86-412b-a21e-c7f424da9f97",
      "metadata": {
        "colab": {
          "base_uri": "https://localhost:8080/"
        },
        "id": "dc12d3d4-ec86-412b-a21e-c7f424da9f97",
        "outputId": "054e9713-ad3f-46d9-fd32-37c1b1797f50"
      },
      "outputs": [
        {
          "output_type": "stream",
          "name": "stdout",
          "text": [
            "9428.530720926388\n",
            "41.48294512304119\n",
            "0.15442345039976307\n"
          ]
        }
      ],
      "source": [
        "#accuracy evaluate 7:3\n",
        "from sklearn.metrics import mean_absolute_error as mae\n",
        "from sklearn.metrics import mean_squared_log_error as msle\n",
        "test_rmse73 = np.sqrt(np.mean((y_pred73 - y_test73)**2))\n",
        "test_mape73 = calc_mape(y_test73, y_pred73)\n",
        "test_msle73 = msle(y_test73, y_pred73)\n",
        "\n",
        "print(test_rmse73)\n",
        "print(test_mape73)\n",
        "print(test_msle73)"
      ]
    },
    {
      "cell_type": "code",
      "execution_count": 58,
      "id": "4b47c035-eaa8-4b25-ae15-0b12f1a2234f",
      "metadata": {
        "colab": {
          "base_uri": "https://localhost:8080/"
        },
        "id": "4b47c035-eaa8-4b25-ae15-0b12f1a2234f",
        "outputId": "b48972db-cbc7-44b2-becb-480308e81d3b"
      },
      "outputs": [
        {
          "output_type": "stream",
          "name": "stdout",
          "text": [
            "6851.00493479045\n",
            "33.17596129390189\n",
            "0.09525332658607358\n"
          ]
        }
      ],
      "source": [
        "#accuracy evaluate 8:2\n",
        "from sklearn.metrics import mean_absolute_error as mae\n",
        "from sklearn.metrics import mean_squared_log_error as msle\n",
        "test_rmse82 = np.sqrt(np.mean((y_pred82 - y_test82)**2))\n",
        "test_mape82 = calc_mape(y_test82, y_pred82)\n",
        "test_msle82 = msle(y_test82, y_pred82)\n",
        "\n",
        "print(test_rmse82)\n",
        "print(test_mape82)\n",
        "print(test_msle82)"
      ]
    },
    {
      "cell_type": "code",
      "execution_count": 59,
      "id": "b4957217-841b-436f-ad02-b0ca3add1d6b",
      "metadata": {
        "colab": {
          "base_uri": "https://localhost:8080/"
        },
        "id": "b4957217-841b-436f-ad02-b0ca3add1d6b",
        "outputId": "e41eb90d-0652-435c-88ce-b7ecdb899b96"
      },
      "outputs": [
        {
          "output_type": "stream",
          "name": "stdout",
          "text": [
            "1297.30147386767\n",
            "5.744176887694312\n",
            "0.0046582954731057245\n"
          ]
        }
      ],
      "source": [
        "#accuracy evaluate 9:1\n",
        "from sklearn.metrics import mean_absolute_error as mae\n",
        "from sklearn.metrics import mean_squared_log_error as msle\n",
        "\n",
        "test_rmse91 = np.sqrt(np.mean((y_pred91 - y_test91)**2))\n",
        "test_mape91 = calc_mape(y_test91, y_pred91)\n",
        "test_msle91 = msle(y_test91, y_pred91)\n",
        "\n",
        "print(test_rmse91)\n",
        "print(test_mape91)\n",
        "print(test_msle91)\n"
      ]
    }
  ],
  "metadata": {
    "kernelspec": {
      "display_name": "Python 3 (ipykernel)",
      "language": "python",
      "name": "python3"
    },
    "language_info": {
      "codemirror_mode": {
        "name": "ipython",
        "version": 3
      },
      "file_extension": ".py",
      "mimetype": "text/x-python",
      "name": "python",
      "nbconvert_exporter": "python",
      "pygments_lexer": "ipython3",
      "version": "3.12.0"
    },
    "colab": {
      "provenance": []
    }
  },
  "nbformat": 4,
  "nbformat_minor": 5
}