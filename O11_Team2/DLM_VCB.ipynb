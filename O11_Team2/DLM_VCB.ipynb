{
  "cells": [
    {
      "cell_type": "code",
      "source": [
        "from google.colab import drive\n",
        "drive.mount('/content/drive')"
      ],
      "metadata": {
        "colab": {
          "base_uri": "https://localhost:8080/"
        },
        "id": "tBX3xHd7qyjQ",
        "outputId": "d41cc627-b4e9-4f90-c301-5de26759e8c3"
      },
      "id": "tBX3xHd7qyjQ",
      "execution_count": 1,
      "outputs": [
        {
          "output_type": "stream",
          "name": "stdout",
          "text": [
            "Mounted at /content/drive\n"
          ]
        }
      ]
    },
    {
      "cell_type": "code",
      "source": [
        "pip install pydlm"
      ],
      "metadata": {
        "colab": {
          "base_uri": "https://localhost:8080/"
        },
        "id": "ZWsqa1vr_vwB",
        "outputId": "0809fcef-4133-402f-d299-f059d1a424e2"
      },
      "id": "ZWsqa1vr_vwB",
      "execution_count": 2,
      "outputs": [
        {
          "output_type": "stream",
          "name": "stdout",
          "text": [
            "Collecting pydlm\n",
            "  Downloading pydlm-0.1.1.12-py2.py3-none-any.whl (63 kB)\n",
            "\u001b[2K     \u001b[90m━━━━━━━━━━━━━━━━━━━━━━━━━━━━━━━━━━━━━━━━\u001b[0m \u001b[32m63.8/63.8 kB\u001b[0m \u001b[31m635.4 kB/s\u001b[0m eta \u001b[36m0:00:00\u001b[0m\n",
            "\u001b[?25hRequirement already satisfied: numpy in /usr/local/lib/python3.10/dist-packages (from pydlm) (1.23.5)\n",
            "Requirement already satisfied: matplotlib in /usr/local/lib/python3.10/dist-packages (from pydlm) (3.7.1)\n",
            "Requirement already satisfied: contourpy>=1.0.1 in /usr/local/lib/python3.10/dist-packages (from matplotlib->pydlm) (1.2.0)\n",
            "Requirement already satisfied: cycler>=0.10 in /usr/local/lib/python3.10/dist-packages (from matplotlib->pydlm) (0.12.1)\n",
            "Requirement already satisfied: fonttools>=4.22.0 in /usr/local/lib/python3.10/dist-packages (from matplotlib->pydlm) (4.46.0)\n",
            "Requirement already satisfied: kiwisolver>=1.0.1 in /usr/local/lib/python3.10/dist-packages (from matplotlib->pydlm) (1.4.5)\n",
            "Requirement already satisfied: packaging>=20.0 in /usr/local/lib/python3.10/dist-packages (from matplotlib->pydlm) (23.2)\n",
            "Requirement already satisfied: pillow>=6.2.0 in /usr/local/lib/python3.10/dist-packages (from matplotlib->pydlm) (9.4.0)\n",
            "Requirement already satisfied: pyparsing>=2.3.1 in /usr/local/lib/python3.10/dist-packages (from matplotlib->pydlm) (3.1.1)\n",
            "Requirement already satisfied: python-dateutil>=2.7 in /usr/local/lib/python3.10/dist-packages (from matplotlib->pydlm) (2.8.2)\n",
            "Requirement already satisfied: six>=1.5 in /usr/local/lib/python3.10/dist-packages (from python-dateutil>=2.7->matplotlib->pydlm) (1.16.0)\n",
            "Installing collected packages: pydlm\n",
            "Successfully installed pydlm-0.1.1.12\n"
          ]
        }
      ]
    },
    {
      "cell_type": "code",
      "execution_count": 3,
      "id": "f31f95d2-e4ba-4ca4-b22a-90baecffd351",
      "metadata": {
        "id": "f31f95d2-e4ba-4ca4-b22a-90baecffd351"
      },
      "outputs": [],
      "source": [
        "# 1. Các thư viện cần thiết\n",
        "import pandas as pd\n",
        "import numpy as np\n",
        "from sklearn.ensemble import RandomForestRegressor\n",
        "import matplotlib.pyplot as plt\n",
        "from pydlm import dlm, trend, dynamic\n",
        "import matplotlib.pyplot as plt\n",
        "from pydlm import dlm, trend, seasonality, dynamic, autoReg, longSeason"
      ]
    },
    {
      "cell_type": "code",
      "execution_count": 60,
      "id": "c6eb57eb-7eca-4ec0-b8b0-fe3e36e7c1fb",
      "metadata": {
        "colab": {
          "base_uri": "https://localhost:8080/",
          "height": 455
        },
        "id": "c6eb57eb-7eca-4ec0-b8b0-fe3e36e7c1fb",
        "outputId": "de9c0ba0-e78a-4abc-e084-7e9e27322db8"
      },
      "outputs": [
        {
          "output_type": "execute_result",
          "data": {
            "text/plain": [
              "              Price     Open     High      Low     Vol.  Change %\n",
              "Date                                                             \n",
              "2016-01-04  23277.0  23600.0  23708.0  22953.0    1.31M       0.0\n",
              "2016-01-05  22899.0  23115.0  23384.0  22846.0    1.95M       0.0\n",
              "2016-01-06  23169.0  22899.0  23277.0  22899.0    1.20M       0.0\n",
              "2016-01-07  22899.0  23061.0  23115.0  22630.0    1.61M       0.0\n",
              "2016-01-08  22738.0  22792.0  22953.0  22468.0    1.17M       0.0\n",
              "...             ...      ...      ...      ...      ...       ...\n",
              "2023-12-21  80900.0  81000.0  81000.0  80300.0    2.03M       0.0\n",
              "2023-12-22  80900.0  80900.0  81100.0  80400.0    1.58M       0.0\n",
              "2023-12-25  81800.0  80900.0  81800.0  80700.0    1.30M       0.0\n",
              "2023-12-26  82800.0  82000.0  82800.0  82000.0  971.20K       0.0\n",
              "2023-12-27  82700.0  82900.0  83200.0  82500.0  899.60K       0.0\n",
              "\n",
              "[1997 rows x 6 columns]"
            ],
            "text/html": [
              "\n",
              "  <div id=\"df-4247c21b-7947-483b-96ef-d98514797e65\" class=\"colab-df-container\">\n",
              "    <div>\n",
              "<style scoped>\n",
              "    .dataframe tbody tr th:only-of-type {\n",
              "        vertical-align: middle;\n",
              "    }\n",
              "\n",
              "    .dataframe tbody tr th {\n",
              "        vertical-align: top;\n",
              "    }\n",
              "\n",
              "    .dataframe thead th {\n",
              "        text-align: right;\n",
              "    }\n",
              "</style>\n",
              "<table border=\"1\" class=\"dataframe\">\n",
              "  <thead>\n",
              "    <tr style=\"text-align: right;\">\n",
              "      <th></th>\n",
              "      <th>Price</th>\n",
              "      <th>Open</th>\n",
              "      <th>High</th>\n",
              "      <th>Low</th>\n",
              "      <th>Vol.</th>\n",
              "      <th>Change %</th>\n",
              "    </tr>\n",
              "    <tr>\n",
              "      <th>Date</th>\n",
              "      <th></th>\n",
              "      <th></th>\n",
              "      <th></th>\n",
              "      <th></th>\n",
              "      <th></th>\n",
              "      <th></th>\n",
              "    </tr>\n",
              "  </thead>\n",
              "  <tbody>\n",
              "    <tr>\n",
              "      <th>2016-01-04</th>\n",
              "      <td>23277.0</td>\n",
              "      <td>23600.0</td>\n",
              "      <td>23708.0</td>\n",
              "      <td>22953.0</td>\n",
              "      <td>1.31M</td>\n",
              "      <td>0.0</td>\n",
              "    </tr>\n",
              "    <tr>\n",
              "      <th>2016-01-05</th>\n",
              "      <td>22899.0</td>\n",
              "      <td>23115.0</td>\n",
              "      <td>23384.0</td>\n",
              "      <td>22846.0</td>\n",
              "      <td>1.95M</td>\n",
              "      <td>0.0</td>\n",
              "    </tr>\n",
              "    <tr>\n",
              "      <th>2016-01-06</th>\n",
              "      <td>23169.0</td>\n",
              "      <td>22899.0</td>\n",
              "      <td>23277.0</td>\n",
              "      <td>22899.0</td>\n",
              "      <td>1.20M</td>\n",
              "      <td>0.0</td>\n",
              "    </tr>\n",
              "    <tr>\n",
              "      <th>2016-01-07</th>\n",
              "      <td>22899.0</td>\n",
              "      <td>23061.0</td>\n",
              "      <td>23115.0</td>\n",
              "      <td>22630.0</td>\n",
              "      <td>1.61M</td>\n",
              "      <td>0.0</td>\n",
              "    </tr>\n",
              "    <tr>\n",
              "      <th>2016-01-08</th>\n",
              "      <td>22738.0</td>\n",
              "      <td>22792.0</td>\n",
              "      <td>22953.0</td>\n",
              "      <td>22468.0</td>\n",
              "      <td>1.17M</td>\n",
              "      <td>0.0</td>\n",
              "    </tr>\n",
              "    <tr>\n",
              "      <th>...</th>\n",
              "      <td>...</td>\n",
              "      <td>...</td>\n",
              "      <td>...</td>\n",
              "      <td>...</td>\n",
              "      <td>...</td>\n",
              "      <td>...</td>\n",
              "    </tr>\n",
              "    <tr>\n",
              "      <th>2023-12-21</th>\n",
              "      <td>80900.0</td>\n",
              "      <td>81000.0</td>\n",
              "      <td>81000.0</td>\n",
              "      <td>80300.0</td>\n",
              "      <td>2.03M</td>\n",
              "      <td>0.0</td>\n",
              "    </tr>\n",
              "    <tr>\n",
              "      <th>2023-12-22</th>\n",
              "      <td>80900.0</td>\n",
              "      <td>80900.0</td>\n",
              "      <td>81100.0</td>\n",
              "      <td>80400.0</td>\n",
              "      <td>1.58M</td>\n",
              "      <td>0.0</td>\n",
              "    </tr>\n",
              "    <tr>\n",
              "      <th>2023-12-25</th>\n",
              "      <td>81800.0</td>\n",
              "      <td>80900.0</td>\n",
              "      <td>81800.0</td>\n",
              "      <td>80700.0</td>\n",
              "      <td>1.30M</td>\n",
              "      <td>0.0</td>\n",
              "    </tr>\n",
              "    <tr>\n",
              "      <th>2023-12-26</th>\n",
              "      <td>82800.0</td>\n",
              "      <td>82000.0</td>\n",
              "      <td>82800.0</td>\n",
              "      <td>82000.0</td>\n",
              "      <td>971.20K</td>\n",
              "      <td>0.0</td>\n",
              "    </tr>\n",
              "    <tr>\n",
              "      <th>2023-12-27</th>\n",
              "      <td>82700.0</td>\n",
              "      <td>82900.0</td>\n",
              "      <td>83200.0</td>\n",
              "      <td>82500.0</td>\n",
              "      <td>899.60K</td>\n",
              "      <td>0.0</td>\n",
              "    </tr>\n",
              "  </tbody>\n",
              "</table>\n",
              "<p>1997 rows × 6 columns</p>\n",
              "</div>\n",
              "    <div class=\"colab-df-buttons\">\n",
              "\n",
              "  <div class=\"colab-df-container\">\n",
              "    <button class=\"colab-df-convert\" onclick=\"convertToInteractive('df-4247c21b-7947-483b-96ef-d98514797e65')\"\n",
              "            title=\"Convert this dataframe to an interactive table.\"\n",
              "            style=\"display:none;\">\n",
              "\n",
              "  <svg xmlns=\"http://www.w3.org/2000/svg\" height=\"24px\" viewBox=\"0 -960 960 960\">\n",
              "    <path d=\"M120-120v-720h720v720H120Zm60-500h600v-160H180v160Zm220 220h160v-160H400v160Zm0 220h160v-160H400v160ZM180-400h160v-160H180v160Zm440 0h160v-160H620v160ZM180-180h160v-160H180v160Zm440 0h160v-160H620v160Z\"/>\n",
              "  </svg>\n",
              "    </button>\n",
              "\n",
              "  <style>\n",
              "    .colab-df-container {\n",
              "      display:flex;\n",
              "      gap: 12px;\n",
              "    }\n",
              "\n",
              "    .colab-df-convert {\n",
              "      background-color: #E8F0FE;\n",
              "      border: none;\n",
              "      border-radius: 50%;\n",
              "      cursor: pointer;\n",
              "      display: none;\n",
              "      fill: #1967D2;\n",
              "      height: 32px;\n",
              "      padding: 0 0 0 0;\n",
              "      width: 32px;\n",
              "    }\n",
              "\n",
              "    .colab-df-convert:hover {\n",
              "      background-color: #E2EBFA;\n",
              "      box-shadow: 0px 1px 2px rgba(60, 64, 67, 0.3), 0px 1px 3px 1px rgba(60, 64, 67, 0.15);\n",
              "      fill: #174EA6;\n",
              "    }\n",
              "\n",
              "    .colab-df-buttons div {\n",
              "      margin-bottom: 4px;\n",
              "    }\n",
              "\n",
              "    [theme=dark] .colab-df-convert {\n",
              "      background-color: #3B4455;\n",
              "      fill: #D2E3FC;\n",
              "    }\n",
              "\n",
              "    [theme=dark] .colab-df-convert:hover {\n",
              "      background-color: #434B5C;\n",
              "      box-shadow: 0px 1px 3px 1px rgba(0, 0, 0, 0.15);\n",
              "      filter: drop-shadow(0px 1px 2px rgba(0, 0, 0, 0.3));\n",
              "      fill: #FFFFFF;\n",
              "    }\n",
              "  </style>\n",
              "\n",
              "    <script>\n",
              "      const buttonEl =\n",
              "        document.querySelector('#df-4247c21b-7947-483b-96ef-d98514797e65 button.colab-df-convert');\n",
              "      buttonEl.style.display =\n",
              "        google.colab.kernel.accessAllowed ? 'block' : 'none';\n",
              "\n",
              "      async function convertToInteractive(key) {\n",
              "        const element = document.querySelector('#df-4247c21b-7947-483b-96ef-d98514797e65');\n",
              "        const dataTable =\n",
              "          await google.colab.kernel.invokeFunction('convertToInteractive',\n",
              "                                                    [key], {});\n",
              "        if (!dataTable) return;\n",
              "\n",
              "        const docLinkHtml = 'Like what you see? Visit the ' +\n",
              "          '<a target=\"_blank\" href=https://colab.research.google.com/notebooks/data_table.ipynb>data table notebook</a>'\n",
              "          + ' to learn more about interactive tables.';\n",
              "        element.innerHTML = '';\n",
              "        dataTable['output_type'] = 'display_data';\n",
              "        await google.colab.output.renderOutput(dataTable, element);\n",
              "        const docLink = document.createElement('div');\n",
              "        docLink.innerHTML = docLinkHtml;\n",
              "        element.appendChild(docLink);\n",
              "      }\n",
              "    </script>\n",
              "  </div>\n",
              "\n",
              "\n",
              "<div id=\"df-15fddb10-7905-46a9-a1c3-b0d6659175c8\">\n",
              "  <button class=\"colab-df-quickchart\" onclick=\"quickchart('df-15fddb10-7905-46a9-a1c3-b0d6659175c8')\"\n",
              "            title=\"Suggest charts\"\n",
              "            style=\"display:none;\">\n",
              "\n",
              "<svg xmlns=\"http://www.w3.org/2000/svg\" height=\"24px\"viewBox=\"0 0 24 24\"\n",
              "     width=\"24px\">\n",
              "    <g>\n",
              "        <path d=\"M19 3H5c-1.1 0-2 .9-2 2v14c0 1.1.9 2 2 2h14c1.1 0 2-.9 2-2V5c0-1.1-.9-2-2-2zM9 17H7v-7h2v7zm4 0h-2V7h2v10zm4 0h-2v-4h2v4z\"/>\n",
              "    </g>\n",
              "</svg>\n",
              "  </button>\n",
              "\n",
              "<style>\n",
              "  .colab-df-quickchart {\n",
              "      --bg-color: #E8F0FE;\n",
              "      --fill-color: #1967D2;\n",
              "      --hover-bg-color: #E2EBFA;\n",
              "      --hover-fill-color: #174EA6;\n",
              "      --disabled-fill-color: #AAA;\n",
              "      --disabled-bg-color: #DDD;\n",
              "  }\n",
              "\n",
              "  [theme=dark] .colab-df-quickchart {\n",
              "      --bg-color: #3B4455;\n",
              "      --fill-color: #D2E3FC;\n",
              "      --hover-bg-color: #434B5C;\n",
              "      --hover-fill-color: #FFFFFF;\n",
              "      --disabled-bg-color: #3B4455;\n",
              "      --disabled-fill-color: #666;\n",
              "  }\n",
              "\n",
              "  .colab-df-quickchart {\n",
              "    background-color: var(--bg-color);\n",
              "    border: none;\n",
              "    border-radius: 50%;\n",
              "    cursor: pointer;\n",
              "    display: none;\n",
              "    fill: var(--fill-color);\n",
              "    height: 32px;\n",
              "    padding: 0;\n",
              "    width: 32px;\n",
              "  }\n",
              "\n",
              "  .colab-df-quickchart:hover {\n",
              "    background-color: var(--hover-bg-color);\n",
              "    box-shadow: 0 1px 2px rgba(60, 64, 67, 0.3), 0 1px 3px 1px rgba(60, 64, 67, 0.15);\n",
              "    fill: var(--button-hover-fill-color);\n",
              "  }\n",
              "\n",
              "  .colab-df-quickchart-complete:disabled,\n",
              "  .colab-df-quickchart-complete:disabled:hover {\n",
              "    background-color: var(--disabled-bg-color);\n",
              "    fill: var(--disabled-fill-color);\n",
              "    box-shadow: none;\n",
              "  }\n",
              "\n",
              "  .colab-df-spinner {\n",
              "    border: 2px solid var(--fill-color);\n",
              "    border-color: transparent;\n",
              "    border-bottom-color: var(--fill-color);\n",
              "    animation:\n",
              "      spin 1s steps(1) infinite;\n",
              "  }\n",
              "\n",
              "  @keyframes spin {\n",
              "    0% {\n",
              "      border-color: transparent;\n",
              "      border-bottom-color: var(--fill-color);\n",
              "      border-left-color: var(--fill-color);\n",
              "    }\n",
              "    20% {\n",
              "      border-color: transparent;\n",
              "      border-left-color: var(--fill-color);\n",
              "      border-top-color: var(--fill-color);\n",
              "    }\n",
              "    30% {\n",
              "      border-color: transparent;\n",
              "      border-left-color: var(--fill-color);\n",
              "      border-top-color: var(--fill-color);\n",
              "      border-right-color: var(--fill-color);\n",
              "    }\n",
              "    40% {\n",
              "      border-color: transparent;\n",
              "      border-right-color: var(--fill-color);\n",
              "      border-top-color: var(--fill-color);\n",
              "    }\n",
              "    60% {\n",
              "      border-color: transparent;\n",
              "      border-right-color: var(--fill-color);\n",
              "    }\n",
              "    80% {\n",
              "      border-color: transparent;\n",
              "      border-right-color: var(--fill-color);\n",
              "      border-bottom-color: var(--fill-color);\n",
              "    }\n",
              "    90% {\n",
              "      border-color: transparent;\n",
              "      border-bottom-color: var(--fill-color);\n",
              "    }\n",
              "  }\n",
              "</style>\n",
              "\n",
              "  <script>\n",
              "    async function quickchart(key) {\n",
              "      const quickchartButtonEl =\n",
              "        document.querySelector('#' + key + ' button');\n",
              "      quickchartButtonEl.disabled = true;  // To prevent multiple clicks.\n",
              "      quickchartButtonEl.classList.add('colab-df-spinner');\n",
              "      try {\n",
              "        const charts = await google.colab.kernel.invokeFunction(\n",
              "            'suggestCharts', [key], {});\n",
              "      } catch (error) {\n",
              "        console.error('Error during call to suggestCharts:', error);\n",
              "      }\n",
              "      quickchartButtonEl.classList.remove('colab-df-spinner');\n",
              "      quickchartButtonEl.classList.add('colab-df-quickchart-complete');\n",
              "    }\n",
              "    (() => {\n",
              "      let quickchartButtonEl =\n",
              "        document.querySelector('#df-15fddb10-7905-46a9-a1c3-b0d6659175c8 button');\n",
              "      quickchartButtonEl.style.display =\n",
              "        google.colab.kernel.accessAllowed ? 'block' : 'none';\n",
              "    })();\n",
              "  </script>\n",
              "</div>\n",
              "    </div>\n",
              "  </div>\n"
            ]
          },
          "metadata": {},
          "execution_count": 60
        }
      ],
      "source": [
        "#import dataset\n",
        "df = pd.read_csv('/content/drive/MyDrive/PTTK/VCB.csv')\n",
        "df['Date'] = pd.to_datetime(df['Date'], format='%m/%d/%Y')  # Use the correct format\n",
        "df.set_index('Date', inplace=True)\n",
        "df = df.dropna()\n",
        "df"
      ]
    },
    {
      "cell_type": "code",
      "execution_count": 6,
      "id": "cd0ca6c7-5e39-4c92-aa99-2753303655c7",
      "metadata": {
        "id": "cd0ca6c7-5e39-4c92-aa99-2753303655c7"
      },
      "outputs": [],
      "source": [
        "#RATIO 7:3"
      ]
    },
    {
      "cell_type": "code",
      "execution_count": 61,
      "id": "42904b2f-2f96-4914-bd19-c60eaaf8ae90",
      "metadata": {
        "id": "42904b2f-2f96-4914-bd19-c60eaaf8ae90"
      },
      "outputs": [],
      "source": [
        "# split data ratio 7:3\n",
        "train_size73 = int(0.7 * len(df))\n",
        "test_size73 = int(0.3 * len(df))\n",
        "\n",
        "train_data73 = df[:train_size73]\n",
        "test_data73 = df[train_size73:train_size73+test_size73]"
      ]
    },
    {
      "cell_type": "code",
      "execution_count": 62,
      "id": "8c5e5960-b322-4492-a34f-610699c2ea57",
      "metadata": {
        "id": "8c5e5960-b322-4492-a34f-610699c2ea57"
      },
      "outputs": [],
      "source": [
        "import statsmodels.api as sm\n",
        "acf = sm.tsa.stattools.acf(train_data73['Price'], nlags= 700)"
      ]
    },
    {
      "cell_type": "code",
      "execution_count": 63,
      "id": "926c17df-cea8-4af6-ab7d-f063b2a51c68",
      "metadata": {
        "colab": {
          "base_uri": "https://localhost:8080/"
        },
        "id": "926c17df-cea8-4af6-ab7d-f063b2a51c68",
        "outputId": "27e75a86-4867-40d7-f505-e6f252950e00"
      },
      "outputs": [
        {
          "output_type": "stream",
          "name": "stdout",
          "text": [
            "Initializing models...\n",
            "Initialization finished.\n",
            "Starting forward filtering...\n",
            "Forward filtering completed.\n",
            "Starting backward smoothing...\n",
            "Backward smoothing completed.\n"
          ]
        }
      ],
      "source": [
        "# training 7:3\n",
        "y_train73 = np.array(train_data73['Price'])\n",
        "\n",
        "x_train73 = []\n",
        "for data in train_data73['High']:\n",
        "  x_train73.append([data])\n",
        "\n",
        "model73 = dlm(y_train73)\n",
        "model73 = model73 + trend(1, discount=0.99, name='Trend', w=1e7)\n",
        "model73 = model73 + dynamic(features=x_train73, discount=1, name='High')\n",
        "model73 = model73 + autoReg(degree=3, discount=0.99, name='ar', w=1e7)\n",
        "model73 = model73 + longSeason(period=12, stay=30, data=y_train73, name='season', w=1e7)\n",
        "\n",
        "model73.fit()"
      ]
    },
    {
      "cell_type": "code",
      "execution_count": 64,
      "id": "a9c83ee0-813d-4a02-b0c8-ad89af7c1fde",
      "metadata": {
        "id": "a9c83ee0-813d-4a02-b0c8-ad89af7c1fde"
      },
      "outputs": [],
      "source": [
        "# testing 7:3\n",
        "x_test73 = []\n",
        "for data in test_data73['High']:\n",
        "  x_test73.append([data])\n",
        "\n",
        "y_test73 = np.array(test_data73['Price'])\n",
        "\n",
        "y_pred73 = model73.predictN(date = model73.n-1, N=len(x_test73),featureDict={'High': x_test73})\n",
        "y_pred73 = y_pred73[0]\n"
      ]
    },
    {
      "cell_type": "code",
      "execution_count": 65,
      "id": "8d75bb16-1609-41da-a32a-a51b5156e0ce",
      "metadata": {
        "colab": {
          "base_uri": "https://localhost:8080/"
        },
        "id": "8d75bb16-1609-41da-a32a-a51b5156e0ce",
        "outputId": "1db3c870-8c7c-4d54-f487-2d8d0742af7e"
      },
      "outputs": [
        {
          "output_type": "stream",
          "name": "stdout",
          "text": [
            "            Predicted_High\n",
            "Date                      \n",
            "2021-08-06    78847.046389\n",
            "2021-08-07    78890.612251\n",
            "2021-08-08    78934.178113\n",
            "2021-08-09    78977.743974\n",
            "2021-08-10    79021.309836\n",
            "2021-08-11    79064.875698\n",
            "2021-08-12    79108.441560\n",
            "2021-08-13    79152.007422\n",
            "2021-08-14    79195.573284\n",
            "2021-08-15    79239.139146\n",
            "2021-08-16    79282.705007\n",
            "2021-08-17    79326.270869\n",
            "2021-08-18    79369.836731\n",
            "2021-08-19    79413.402593\n",
            "2021-08-20    79456.968455\n",
            "2021-08-21    79500.534317\n",
            "2021-08-22    79544.100179\n",
            "2021-08-23    79587.666040\n",
            "2021-08-24    79631.231902\n",
            "2021-08-25    79674.797764\n",
            "2021-08-26    79718.363626\n",
            "2021-08-27    79761.929488\n",
            "2021-08-28    79805.495350\n",
            "2021-08-29    79849.061212\n",
            "2021-08-30    79892.627073\n",
            "2021-08-31    79936.192935\n",
            "2021-09-01    79979.758797\n",
            "2021-09-02    80023.324659\n",
            "2021-09-03    80066.890521\n",
            "2021-09-04    80110.456383\n"
          ]
        }
      ],
      "source": [
        "from sklearn.linear_model import LinearRegression\n",
        "import numpy as np\n",
        "import pandas as pd\n",
        "\n",
        "# Assuming train_data73 is a DataFrame with 'Price' column and 'Date' as the index\n",
        "# Make sure 'Date' is in datetime format\n",
        "train_data73.index = pd.to_datetime(train_data73.index)\n",
        "\n",
        "ln_model73 = LinearRegression()\n",
        "\n",
        "# Use the datetime index for training\n",
        "ln_model73.fit(np.arange(len(train_data73)).reshape(-1, 1), train_data73['High'])\n",
        "\n",
        "# Predict the prices for the next 30 days\n",
        "last_index73 = train_data73.index[-1]\n",
        "next_30_days_indices73 = np.arange(len(train_data73), len(train_data73) + 30).reshape(-1, 1)\n",
        "\n",
        "# Use the model to predict the high prices for the next 30 days\n",
        "high_next_30_days73 = ln_model73.predict(next_30_days_indices73)\n",
        "\n",
        "# Generate the next 30 days date indices\n",
        "next_30_days_dates73 = pd.date_range(start=last_index73 + pd.DateOffset(1), periods=30)\n",
        "\n",
        "# Combine the predicted dates and prices into a DataFrame\n",
        "predicted_df73 = pd.DataFrame({'Date': next_30_days_dates73, 'Predicted_High': high_next_30_days73})\n",
        "predicted_df73.set_index('Date', inplace=True)\n",
        "\n",
        "print(predicted_df73)\n"
      ]
    },
    {
      "cell_type": "code",
      "execution_count": 66,
      "id": "107ed7e3-52e7-425c-9645-0a22c7b51a72",
      "metadata": {
        "colab": {
          "base_uri": "https://localhost:8080/"
        },
        "id": "107ed7e3-52e7-425c-9645-0a22c7b51a72",
        "outputId": "030a44e7-0f5e-42eb-fc90-0b463a673a4a"
      },
      "outputs": [
        {
          "output_type": "stream",
          "name": "stdout",
          "text": [
            "[76843.03634724574, 77010.17290178704, 76986.4212886154, 77072.5959762808, 77107.24362146696, 77173.69894656533, 77223.27678981902, 77281.81325824559, 77335.22187006554, 77391.36425310349, 77446.0073506035, 77501.48061606656, 77556.50490480325, 77832.79561337017, 77880.57467427099, 77964.38120792352, 77999.13921424175, 78059.2946848235, 78109.29477274387, 78166.99980941502, 78221.01802410155, 78276.99808846631, 78331.79443968795, 78387.1907132559, 78442.25082187116, 78497.49824106548, 78552.64604509721, 78607.8493545603, 78663.02234631631, 78718.21181249389]\n"
          ]
        }
      ],
      "source": [
        "# Dự báo giá cổ phiếu 30 ngày tiếp theo 7:3\n",
        "x_next_30_days73 = []\n",
        "for data in high_next_30_days73:\n",
        "  x_next_30_days73.append([data])\n",
        "\n",
        "y_next_30_days73 = model73.predictN(N = 30, featureDict={'High': x_next_30_days73})\n",
        "y_next_30_days73 = y_next_30_days73[0]\n",
        "print(y_next_30_days73)\n"
      ]
    },
    {
      "cell_type": "code",
      "execution_count": 67,
      "id": "fd2dc09b-9caa-4261-b933-8b365349e900",
      "metadata": {
        "colab": {
          "base_uri": "https://localhost:8080/",
          "height": 430
        },
        "id": "fd2dc09b-9caa-4261-b933-8b365349e900",
        "outputId": "0f61176f-a1db-4afc-c3c4-e78b5c639f1f"
      },
      "outputs": [
        {
          "output_type": "display_data",
          "data": {
            "text/plain": [
              "<Figure size 640x480 with 1 Axes>"
            ],
            "image/png": "[encoded data removed]"
          },
          "metadata": {}
        }
      ],
      "source": [
        "# Generating the next 30 days date indices\n",
        "last_test_date73 = test_data73.index[-1]\n",
        "next_30_days_dates73 = pd.date_range(start=last_test_date73 + pd.DateOffset(1), periods=30)\n",
        "\n",
        "# 10. Vẽ hình 7:3\n",
        "plt.plot(train_data73.index, train_data73['Price'])\n",
        "plt.plot(test_data73.index, test_data73['Price'])\n",
        "plt.plot(test_data73.index, y_pred73)\n",
        "plt.plot(next_30_days_dates73,y_next_30_days73)\n",
        "plt.legend(['Train', 'Test', 'Predictions','Next30Day'])\n",
        "plt.show()"
      ]
    },
    {
      "cell_type": "code",
      "execution_count": 13,
      "id": "391a9d12-98f6-4d59-aa84-196554d48404",
      "metadata": {
        "id": "391a9d12-98f6-4d59-aa84-196554d48404"
      },
      "outputs": [],
      "source": [
        "#RATIO 8:2"
      ]
    },
    {
      "cell_type": "code",
      "execution_count": 68,
      "id": "7fc0075a-a172-4df2-ad5e-cafa861d9d81",
      "metadata": {
        "id": "7fc0075a-a172-4df2-ad5e-cafa861d9d81"
      },
      "outputs": [],
      "source": [
        "# Split the data into training, testing, and validating sets\n",
        "train_size82 = int(0.8 * len(df))\n",
        "test_size82 = int(0.2 * len(df))\n",
        "\n",
        "train_data82 = df[:train_size82]\n",
        "test_data82 = df[train_size82:train_size82+test_size82]"
      ]
    },
    {
      "cell_type": "code",
      "execution_count": 69,
      "id": "f2b128de-bd7b-4a39-959d-791d816aa645",
      "metadata": {
        "id": "f2b128de-bd7b-4a39-959d-791d816aa645"
      },
      "outputs": [],
      "source": [
        "import statsmodels.api as sm\n",
        "acf = sm.tsa.stattools.acf(train_data82['Price'], nlags= 700)"
      ]
    },
    {
      "cell_type": "code",
      "execution_count": 70,
      "id": "c48fbf63-71b0-419d-8ee2-febc47efa8c5",
      "metadata": {
        "colab": {
          "base_uri": "https://localhost:8080/"
        },
        "id": "c48fbf63-71b0-419d-8ee2-febc47efa8c5",
        "outputId": "96938344-4272-40de-a253-f8b9b24dfcba"
      },
      "outputs": [
        {
          "output_type": "stream",
          "name": "stdout",
          "text": [
            "Initializing models...\n",
            "Initialization finished.\n",
            "Starting forward filtering...\n",
            "Forward filtering completed.\n",
            "Starting backward smoothing...\n",
            "Backward smoothing completed.\n"
          ]
        }
      ],
      "source": [
        "# training\n",
        "y_train82 = np.array(train_data82['Price'])\n",
        "\n",
        "x_train82 = []\n",
        "for data in train_data82['High']:\n",
        "  x_train82.append([data])\n",
        "\n",
        "model82 = dlm(y_train82)\n",
        "model82 = model82 + trend(1, discount=0.99, name='Trend', w=1e7)\n",
        "model82 = model82 + dynamic(features=x_train82, discount=1, name='High')\n",
        "model82 = model82 + autoReg(degree=3, discount=0.99, name='ar', w=1e7)\n",
        "model82 = model82 + longSeason(period=12, stay=30, data=y_train82, name='season', w=1e7)\n",
        "\n",
        "model82.fit()"
      ]
    },
    {
      "cell_type": "code",
      "execution_count": 71,
      "id": "dee68269-ad52-4916-9d5b-6bc2edfdac3d",
      "metadata": {
        "id": "dee68269-ad52-4916-9d5b-6bc2edfdac3d"
      },
      "outputs": [],
      "source": [
        "# testing\n",
        "x_test82= []\n",
        "for data in test_data82['High']:\n",
        "  x_test82.append([data])\n",
        "\n",
        "y_test82 = np.array(test_data82['High'])\n",
        "\n",
        "y_pred82 = model82.predictN(date = model82.n-1, N=len(x_test82),featureDict={'High': x_test82})\n",
        "y_pred82 = y_pred82[0]\n"
      ]
    },
    {
      "cell_type": "code",
      "execution_count": 72,
      "id": "78d31f65-ed87-42c0-817c-2fccfb6800fb",
      "metadata": {
        "colab": {
          "base_uri": "https://localhost:8080/"
        },
        "id": "78d31f65-ed87-42c0-817c-2fccfb6800fb",
        "outputId": "4f500c6c-045e-452c-8632-f761a7c1c36d"
      },
      "outputs": [
        {
          "output_type": "stream",
          "name": "stdout",
          "text": [
            "            Predicted_High\n",
            "Date                      \n",
            "2022-05-28    86291.709886\n",
            "2022-05-29    86334.124310\n",
            "2022-05-30    86376.538735\n",
            "2022-05-31    86418.953159\n",
            "2022-06-01    86461.367583\n",
            "2022-06-02    86503.782008\n",
            "2022-06-03    86546.196432\n",
            "2022-06-04    86588.610856\n",
            "2022-06-05    86631.025281\n",
            "2022-06-06    86673.439705\n",
            "2022-06-07    86715.854129\n",
            "2022-06-08    86758.268554\n",
            "2022-06-09    86800.682978\n",
            "2022-06-10    86843.097402\n",
            "2022-06-11    86885.511827\n",
            "2022-06-12    86927.926251\n",
            "2022-06-13    86970.340675\n",
            "2022-06-14    87012.755100\n",
            "2022-06-15    87055.169524\n",
            "2022-06-16    87097.583948\n",
            "2022-06-17    87139.998373\n",
            "2022-06-18    87182.412797\n",
            "2022-06-19    87224.827221\n",
            "2022-06-20    87267.241646\n",
            "2022-06-21    87309.656070\n",
            "2022-06-22    87352.070494\n",
            "2022-06-23    87394.484919\n",
            "2022-06-24    87436.899343\n",
            "2022-06-25    87479.313767\n",
            "2022-06-26    87521.728192\n"
          ]
        }
      ],
      "source": [
        "from sklearn.linear_model import LinearRegression\n",
        "import numpy as np\n",
        "import pandas as pd\n",
        "\n",
        "# Make sure 'Date' is in datetime format\n",
        "train_data82.index = pd.to_datetime(train_data82.index)\n",
        "\n",
        "ln_model82 = LinearRegression()\n",
        "\n",
        "# Use the datetime index for training\n",
        "ln_model82.fit(np.arange(len(train_data82)).reshape(-1, 1), train_data82['High'])\n",
        "\n",
        "# Predict the prices for the next 30 days\n",
        "last_index82 = train_data82.index[-1]\n",
        "next_30_days_indices82 = np.arange(len(train_data82), len(train_data82) + 30).reshape(-1, 1)\n",
        "\n",
        "# Use the model to predict the high prices for the next 30 days\n",
        "high_next_30_days82 = ln_model82.predict(next_30_days_indices82)\n",
        "\n",
        "# Generate the next 30 days date indices\n",
        "next_30_days_dates82 = pd.date_range(start=last_index82 + pd.DateOffset(1), periods=30)\n",
        "\n",
        "# Combine the predicted dates and prices into a DataFrame\n",
        "predicted_df82 = pd.DataFrame({'Date': next_30_days_dates82, 'Predicted_High': high_next_30_days82})\n",
        "predicted_df82.set_index('Date', inplace=True)\n",
        "\n",
        "print(predicted_df82)\n"
      ]
    },
    {
      "cell_type": "code",
      "execution_count": 73,
      "id": "5f485930-6eb8-458b-9e55-b89336a830b4",
      "metadata": {
        "colab": {
          "base_uri": "https://localhost:8080/"
        },
        "id": "5f485930-6eb8-458b-9e55-b89336a830b4",
        "outputId": "f687c1c6-235a-406d-8830-1d0106498e49"
      },
      "outputs": [
        {
          "output_type": "stream",
          "name": "stdout",
          "text": [
            "[77448.55658369215, 77444.4394232016, 77439.620064901, 77490.92119947005, 77549.65159996996, 77602.08318927164, 77648.95412552136, 77695.69074051031, 77743.57376670644, 77791.9658202108, 77840.25949952775, 77888.39814235308, 77936.50061963749, 77984.6272394604, 78032.7715125962, 78080.91667186632, 78129.05790197983, 78177.19744332926, 78225.3372926048, 78273.47766475694, 78321.61815962895, 78369.75857494483, 78417.89893074299, 78153.22629770805, 78182.8687740343, 78267.77246359769, 78344.23255300475, 78391.01214305342, 78432.8350602425, 78478.60216752856]\n"
          ]
        }
      ],
      "source": [
        "# Dự báo giá cổ phiếu 30 ngày tiếp theo\n",
        "x_next_30_days82 = []\n",
        "for data in high_next_30_days82:\n",
        "  x_next_30_days82.append([data])\n",
        "\n",
        "y_next_30_days82 = model82.predictN(N = 30, featureDict={'High': x_next_30_days82})\n",
        "y_next_30_days82 = y_next_30_days82[0]\n",
        "print(y_next_30_days82)\n"
      ]
    },
    {
      "cell_type": "code",
      "execution_count": 74,
      "id": "52c56057-eef4-48c1-9291-41578149cb1b",
      "metadata": {
        "colab": {
          "base_uri": "https://localhost:8080/",
          "height": 430
        },
        "id": "52c56057-eef4-48c1-9291-41578149cb1b",
        "outputId": "eb28e171-60de-4c09-a2b9-a6c9ab817093"
      },
      "outputs": [
        {
          "output_type": "display_data",
          "data": {
            "text/plain": [
              "<Figure size 640x480 with 1 Axes>"
            ],
            "image/png": "[encoded data removed]"
          },
          "metadata": {}
        }
      ],
      "source": [
        "# Generating the next 30 days date indices\n",
        "last_test_date82 = test_data82.index[-1]\n",
        "next_30_days_dates82 = pd.date_range(start=last_test_date82 + pd.DateOffset(1), periods=30)\n",
        "# 10. Vẽ hình\n",
        "plt.plot(train_data82.index, train_data82['Price'])\n",
        "plt.plot(test_data82.index, test_data82['Price'])\n",
        "plt.plot(test_data82.index, y_pred82)\n",
        "plt.plot(next_30_days_dates82,y_next_30_days82)\n",
        "plt.legend(['Train', 'Test', 'Predictions','Next30Day'])\n",
        "plt.show()"
      ]
    },
    {
      "cell_type": "code",
      "execution_count": 21,
      "id": "a90042c5-34e1-400b-b452-87633da53e3a",
      "metadata": {
        "id": "a90042c5-34e1-400b-b452-87633da53e3a"
      },
      "outputs": [],
      "source": [
        "#RATIO 9:1"
      ]
    },
    {
      "cell_type": "code",
      "execution_count": 75,
      "id": "0776c856-e4a5-4a3d-9c61-869c2a91605c",
      "metadata": {
        "id": "0776c856-e4a5-4a3d-9c61-869c2a91605c"
      },
      "outputs": [],
      "source": [
        "# Split the data into training, testing, and validating sets\n",
        "train_size91 = int(0.9 * len(df))\n",
        "test_size91 = int(0.1 * len(df))\n",
        "\n",
        "train_data91 = df[:train_size91]\n",
        "test_data91 = df[train_size91:train_size91+test_size91]"
      ]
    },
    {
      "cell_type": "code",
      "execution_count": 76,
      "id": "550bd48c-2f8c-46bb-910b-3ef693ae3e7a",
      "metadata": {
        "id": "550bd48c-2f8c-46bb-910b-3ef693ae3e7a"
      },
      "outputs": [],
      "source": [
        "import statsmodels.api as sm\n",
        "acf = sm.tsa.stattools.acf(train_data91['Price'], nlags= 700)"
      ]
    },
    {
      "cell_type": "code",
      "execution_count": 77,
      "id": "e816083c-7926-4361-bded-6b3dcdea34a9",
      "metadata": {
        "colab": {
          "base_uri": "https://localhost:8080/"
        },
        "id": "e816083c-7926-4361-bded-6b3dcdea34a9",
        "outputId": "14f0c9aa-2c5f-4858-9a20-99cd830af695"
      },
      "outputs": [
        {
          "output_type": "stream",
          "name": "stdout",
          "text": [
            "Initializing models...\n",
            "Initialization finished.\n",
            "Starting forward filtering...\n",
            "Forward filtering completed.\n",
            "Starting backward smoothing...\n",
            "Backward smoothing completed.\n"
          ]
        }
      ],
      "source": [
        "# 4. Quá trình training\n",
        "y_train91 = np.array(train_data91['Price'])\n",
        "\n",
        "x_train91 = []\n",
        "for data in train_data91['High']:\n",
        "  x_train91.append([data])\n",
        "\n",
        "model91 = dlm(y_train91)\n",
        "model91 = model91 + trend(1, discount=0.99, name='Trend', w=1e7)\n",
        "model91 = model91 + dynamic(features=x_train91, discount=1, name='High')\n",
        "model91 = model91 + autoReg(degree=3, discount=0.99, name='ar', w=1e7)\n",
        "model91 = model91 + longSeason(period=12, stay=30, data=y_train91, name='season', w=1e7)\n",
        "\n",
        "model91.fit()"
      ]
    },
    {
      "cell_type": "code",
      "execution_count": 78,
      "id": "2071346d-01db-41a0-9d1b-5c2a897660f1",
      "metadata": {
        "id": "2071346d-01db-41a0-9d1b-5c2a897660f1"
      },
      "outputs": [],
      "source": [
        "# 5. Quá trình testing\n",
        "x_test91= []\n",
        "for data in test_data91['High']:\n",
        "  x_test91.append([data])\n",
        "\n",
        "y_test91 = np.array(test_data91['Price'])\n",
        "\n",
        "y_pred91 = model91.predictN(date = model91.n-1, N=len(x_test91),featureDict={'High': x_test91})\n",
        "y_pred91 = y_pred91[0]\n"
      ]
    },
    {
      "cell_type": "code",
      "execution_count": 79,
      "id": "550bfec2-2924-4196-8c62-20c20af4da6a",
      "metadata": {
        "colab": {
          "base_uri": "https://localhost:8080/"
        },
        "id": "550bfec2-2924-4196-8c62-20c20af4da6a",
        "outputId": "4a231d8b-14c4-4603-ce83-711dcab9aaff"
      },
      "outputs": [
        {
          "output_type": "stream",
          "name": "stdout",
          "text": [
            "            Predicted_High\n",
            "Date                      \n",
            "2023-03-16    90852.025046\n",
            "2023-03-17    90891.280040\n",
            "2023-03-18    90930.535035\n",
            "2023-03-19    90969.790029\n",
            "2023-03-20    91009.045023\n",
            "2023-03-21    91048.300017\n",
            "2023-03-22    91087.555012\n",
            "2023-03-23    91126.810006\n",
            "2023-03-24    91166.065000\n",
            "2023-03-25    91205.319995\n",
            "2023-03-26    91244.574989\n",
            "2023-03-27    91283.829983\n",
            "2023-03-28    91323.084977\n",
            "2023-03-29    91362.339972\n",
            "2023-03-30    91401.594966\n",
            "2023-03-31    91440.849960\n",
            "2023-04-01    91480.104954\n",
            "2023-04-02    91519.359949\n",
            "2023-04-03    91558.614943\n",
            "2023-04-04    91597.869937\n",
            "2023-04-05    91637.124931\n",
            "2023-04-06    91676.379926\n",
            "2023-04-07    91715.634920\n",
            "2023-04-08    91754.889914\n",
            "2023-04-09    91794.144909\n",
            "2023-04-10    91833.399903\n",
            "2023-04-11    91872.654897\n",
            "2023-04-12    91911.909891\n",
            "2023-04-13    91951.164886\n",
            "2023-04-14    91990.419880\n"
          ]
        }
      ],
      "source": [
        "from sklearn.linear_model import LinearRegression\n",
        "import numpy as np\n",
        "import pandas as pd\n",
        "\n",
        "# Make sure 'Date' is in datetime format\n",
        "train_data91.index = pd.to_datetime(train_data91.index)\n",
        "\n",
        "ln_model91 = LinearRegression()\n",
        "\n",
        "# Use the datetime index for training\n",
        "ln_model91.fit(np.arange(len(train_data91)).reshape(-1, 1), train_data91['High'])\n",
        "\n",
        "# Predict the prices for the next 30 days\n",
        "last_index91 = train_data91.index[-1]\n",
        "next_30_days_indices91 = np.arange(len(train_data91), len(train_data91) + 30).reshape(-1, 1)\n",
        "\n",
        "# Use the model to predict the high prices for the next 30 days\n",
        "high_next_30_days91 = ln_model91.predict(next_30_days_indices91)\n",
        "\n",
        "# Generate the next 30 days date indices\n",
        "next_30_days_dates91 = pd.date_range(start=last_index91 + pd.DateOffset(1), periods=30)\n",
        "\n",
        "# Combine the predicted dates and prices into a DataFrame\n",
        "predicted_df91 = pd.DataFrame({'Date': next_30_days_dates91, 'Predicted_High': high_next_30_days91})\n",
        "predicted_df91.set_index('Date', inplace=True)\n",
        "\n",
        "print(predicted_df91)\n"
      ]
    },
    {
      "cell_type": "code",
      "execution_count": 80,
      "id": "24e11bab-b32c-465e-a73a-65e3aa3d50d4",
      "metadata": {
        "colab": {
          "base_uri": "https://localhost:8080/"
        },
        "id": "24e11bab-b32c-465e-a73a-65e3aa3d50d4",
        "outputId": "d68eb721-e2c3-4187-8260-8490b9f0185b"
      },
      "outputs": [
        {
          "output_type": "stream",
          "name": "stdout",
          "text": [
            "[91467.82169296182, 91551.40342556061, 91592.12745418896, 93349.3893075314, 93450.80005147065, 93552.8074755666, 93543.6637881972, 93593.89801641383, 93642.76183033797, 93697.44801848491, 93750.02157321363, 93802.74707054936, 93855.19780006412, 93907.72457797374, 93960.24018462341, 94012.76797953542, 94065.2929456704, 94117.81859109557, 94170.34371650402, 94222.86895252772, 94275.3941516039, 94327.9193723501, 94380.44458852039, 94432.96980655825, 94485.4950237037, 94538.02024104803, 94590.54545830266, 94643.07067559398, 94695.59589287634, 94748.12111016284]\n"
          ]
        }
      ],
      "source": [
        "# 9. Dự báo giá cổ phiếu 30 ngày tiếp theo\n",
        "x_next_30_days91 = []\n",
        "for data in high_next_30_days91:\n",
        "  x_next_30_days91.append([data])\n",
        "\n",
        "y_next_30_days91 = model91.predictN(N = 30, featureDict={'High': x_next_30_days91})\n",
        "y_next_30_days91 = y_next_30_days91[0]\n",
        "print(y_next_30_days91)\n"
      ]
    },
    {
      "cell_type": "code",
      "execution_count": 81,
      "id": "5ad45ad8-a22c-4b8e-aa7b-8205e3c40420",
      "metadata": {
        "colab": {
          "base_uri": "https://localhost:8080/",
          "height": 430
        },
        "id": "5ad45ad8-a22c-4b8e-aa7b-8205e3c40420",
        "outputId": "6fc9fbf3-f776-4b0f-8012-3e7751f8e84d"
      },
      "outputs": [
        {
          "output_type": "display_data",
          "data": {
            "text/plain": [
              "<Figure size 640x480 with 1 Axes>"
            ],
            "image/png": "[encoded data removed]"
          },
          "metadata": {}
        }
      ],
      "source": [
        "# Generating the next 30 days date indices\n",
        "last_test_date91 = test_data91.index[-1]\n",
        "next_30_days_dates91 = pd.date_range(start=last_test_date91 + pd.DateOffset(1), periods=30)\n",
        "# 10. Vẽ hình\n",
        "plt.plot(train_data91.index, train_data91['Price'])\n",
        "plt.plot(test_data91.index, test_data91['Price'])\n",
        "plt.plot(test_data91.index, y_pred91)\n",
        "plt.plot(next_30_days_dates91,y_next_30_days91)\n",
        "plt.legend(['Train', 'Test', 'Predictions','Next30Day'])\n",
        "plt.show()"
      ]
    },
    {
      "cell_type": "code",
      "execution_count": 29,
      "id": "f3982e58-1cfa-4671-81f3-e78c3d61be27",
      "metadata": {
        "id": "f3982e58-1cfa-4671-81f3-e78c3d61be27"
      },
      "outputs": [],
      "source": [
        "#ACCURACY EVALUATION"
      ]
    },
    {
      "cell_type": "code",
      "execution_count": 82,
      "id": "0b490206-790d-4b9f-8769-27b89fbb70f1",
      "metadata": {
        "id": "0b490206-790d-4b9f-8769-27b89fbb70f1"
      },
      "outputs": [],
      "source": [
        "#method to calculate mape\n",
        "def calc_mape(actual, predicted):\n",
        "\n",
        "    # Convert to numpy arrays\n",
        "    actual = np.array(actual)\n",
        "    predicted = np.array(predicted)\n",
        "\n",
        "    # Calculate absolute percentage error\n",
        "    absolute_error = np.abs((actual - predicted) / actual)\n",
        "\n",
        "    # Handle division by zero cases\n",
        "    absolute_error[np.isinf(absolute_error)] = 0.0\n",
        "\n",
        "    # Calculate mean absolute percentage error\n",
        "    mape = np.mean(absolute_error) * 100\n",
        "\n",
        "    return mape"
      ]
    },
    {
      "cell_type": "code",
      "execution_count": 83,
      "id": "dc12d3d4-ec86-412b-a21e-c7f424da9f97",
      "metadata": {
        "colab": {
          "base_uri": "https://localhost:8080/"
        },
        "id": "dc12d3d4-ec86-412b-a21e-c7f424da9f97",
        "outputId": "07b78887-4b57-41a2-c7d7-a56034649b8e"
      },
      "outputs": [
        {
          "output_type": "stream",
          "name": "stdout",
          "text": [
            "13156.830661578986\n",
            "13.33631238113631\n",
            "0.021877628996085995\n"
          ]
        }
      ],
      "source": [
        "#accuracy evaluate 7:3\n",
        "from sklearn.metrics import mean_absolute_error as mae\n",
        "from sklearn.metrics import mean_squared_log_error as msle\n",
        "test_rmse73 = np.sqrt(np.mean((y_pred73 - y_test73)**2))\n",
        "test_mape73 = calc_mape(y_test73, y_pred73)\n",
        "test_msle73 = msle(y_test73, y_pred73)\n",
        "\n",
        "print(test_rmse73)\n",
        "print(test_mape73)\n",
        "print(test_msle73)"
      ]
    },
    {
      "cell_type": "code",
      "execution_count": 84,
      "id": "4b47c035-eaa8-4b25-ae15-0b12f1a2234f",
      "metadata": {
        "colab": {
          "base_uri": "https://localhost:8080/"
        },
        "id": "4b47c035-eaa8-4b25-ae15-0b12f1a2234f",
        "outputId": "8c4ac73f-f296-444c-f75d-041dbdfaae63"
      },
      "outputs": [
        {
          "output_type": "stream",
          "name": "stdout",
          "text": [
            "7118.159604235095\n",
            "6.8178408413425595\n",
            "0.006637099152509802\n"
          ]
        }
      ],
      "source": [
        "#accuracy evaluate 8:2\n",
        "from sklearn.metrics import mean_absolute_error as mae\n",
        "from sklearn.metrics import mean_squared_log_error as msle\n",
        "test_rmse82 = np.sqrt(np.mean((y_pred82 - y_test82)**2))\n",
        "test_mape82 = calc_mape(y_test82, y_pred82)\n",
        "test_msle82 = msle(y_test82, y_pred82)\n",
        "\n",
        "print(test_rmse82)\n",
        "print(test_mape82)\n",
        "print(test_msle82)"
      ]
    },
    {
      "cell_type": "code",
      "execution_count": 85,
      "id": "b4957217-841b-436f-ad02-b0ca3add1d6b",
      "metadata": {
        "colab": {
          "base_uri": "https://localhost:8080/"
        },
        "id": "b4957217-841b-436f-ad02-b0ca3add1d6b",
        "outputId": "a3b5e1aa-764e-4cca-8ba0-2d814fc779cf"
      },
      "outputs": [
        {
          "output_type": "stream",
          "name": "stdout",
          "text": [
            "11945.33764556218\n",
            "11.444445812194916\n",
            "0.01608352524717106\n"
          ]
        }
      ],
      "source": [
        "#accuracy evaluate 9:1\n",
        "from sklearn.metrics import mean_absolute_error as mae\n",
        "from sklearn.metrics import mean_squared_log_error as msle\n",
        "\n",
        "test_rmse91 = np.sqrt(np.mean((y_pred91 - y_test91)**2))\n",
        "test_mape91 = calc_mape(y_test91, y_pred91)\n",
        "test_msle91 = msle(y_test91, y_pred91)\n",
        "\n",
        "print(test_rmse91)\n",
        "print(test_mape91)\n",
        "print(test_msle91)\n"
      ]
    }
  ],
  "metadata": {
    "kernelspec": {
      "display_name": "Python 3 (ipykernel)",
      "language": "python",
      "name": "python3"
    },
    "language_info": {
      "codemirror_mode": {
        "name": "ipython",
        "version": 3
      },
      "file_extension": ".py",
      "mimetype": "text/x-python",
      "name": "python",
      "nbconvert_exporter": "python",
      "pygments_lexer": "ipython3",
      "version": "3.12.0"
    },
    "colab": {
      "provenance": []
    }
  },
  "nbformat": 4,
  "nbformat_minor": 5
}