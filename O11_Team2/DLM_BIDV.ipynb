{
  "cells": [
    {
      "cell_type": "code",
      "source": [
        "from google.colab import drive\n",
        "drive.mount('/content/drive')"
      ],
      "metadata": {
        "colab": {
          "base_uri": "https://localhost:8080/"
        },
        "id": "tBX3xHd7qyjQ",
        "outputId": "d41cc627-b4e9-4f90-c301-5de26759e8c3"
      },
      "id": "tBX3xHd7qyjQ",
      "execution_count": 1,
      "outputs": [
        {
          "output_type": "stream",
          "name": "stdout",
          "text": [
            "Mounted at /content/drive\n"
          ]
        }
      ]
    },
    {
      "cell_type": "code",
      "source": [
        "pip install pydlm"
      ],
      "metadata": {
        "colab": {
          "base_uri": "https://localhost:8080/"
        },
        "id": "ZWsqa1vr_vwB",
        "outputId": "0809fcef-4133-402f-d299-f059d1a424e2"
      },
      "id": "ZWsqa1vr_vwB",
      "execution_count": 2,
      "outputs": [
        {
          "output_type": "stream",
          "name": "stdout",
          "text": [
            "Collecting pydlm\n",
            "  Downloading pydlm-0.1.1.12-py2.py3-none-any.whl (63 kB)\n",
            "\u001b[2K     \u001b[90m━━━━━━━━━━━━━━━━━━━━━━━━━━━━━━━━━━━━━━━━\u001b[0m \u001b[32m63.8/63.8 kB\u001b[0m \u001b[31m635.4 kB/s\u001b[0m eta \u001b[36m0:00:00\u001b[0m\n",
            "\u001b[?25hRequirement already satisfied: numpy in /usr/local/lib/python3.10/dist-packages (from pydlm) (1.23.5)\n",
            "Requirement already satisfied: matplotlib in /usr/local/lib/python3.10/dist-packages (from pydlm) (3.7.1)\n",
            "Requirement already satisfied: contourpy>=1.0.1 in /usr/local/lib/python3.10/dist-packages (from matplotlib->pydlm) (1.2.0)\n",
            "Requirement already satisfied: cycler>=0.10 in /usr/local/lib/python3.10/dist-packages (from matplotlib->pydlm) (0.12.1)\n",
            "Requirement already satisfied: fonttools>=4.22.0 in /usr/local/lib/python3.10/dist-packages (from matplotlib->pydlm) (4.46.0)\n",
            "Requirement already satisfied: kiwisolver>=1.0.1 in /usr/local/lib/python3.10/dist-packages (from matplotlib->pydlm) (1.4.5)\n",
            "Requirement already satisfied: packaging>=20.0 in /usr/local/lib/python3.10/dist-packages (from matplotlib->pydlm) (23.2)\n",
            "Requirement already satisfied: pillow>=6.2.0 in /usr/local/lib/python3.10/dist-packages (from matplotlib->pydlm) (9.4.0)\n",
            "Requirement already satisfied: pyparsing>=2.3.1 in /usr/local/lib/python3.10/dist-packages (from matplotlib->pydlm) (3.1.1)\n",
            "Requirement already satisfied: python-dateutil>=2.7 in /usr/local/lib/python3.10/dist-packages (from matplotlib->pydlm) (2.8.2)\n",
            "Requirement already satisfied: six>=1.5 in /usr/local/lib/python3.10/dist-packages (from python-dateutil>=2.7->matplotlib->pydlm) (1.16.0)\n",
            "Installing collected packages: pydlm\n",
            "Successfully installed pydlm-0.1.1.12\n"
          ]
        }
      ]
    },
    {
      "cell_type": "code",
      "execution_count": 3,
      "id": "f31f95d2-e4ba-4ca4-b22a-90baecffd351",
      "metadata": {
        "id": "f31f95d2-e4ba-4ca4-b22a-90baecffd351"
      },
      "outputs": [],
      "source": [
        "# 1. Các thư viện cần thiết\n",
        "import pandas as pd\n",
        "import numpy as np\n",
        "from sklearn.ensemble import RandomForestRegressor\n",
        "import matplotlib.pyplot as plt\n",
        "from pydlm import dlm, trend, dynamic\n",
        "import matplotlib.pyplot as plt\n",
        "from pydlm import dlm, trend, seasonality, dynamic, autoReg, longSeason"
      ]
    },
    {
      "cell_type": "code",
      "execution_count": 4,
      "id": "c6eb57eb-7eca-4ec0-b8b0-fe3e36e7c1fb",
      "metadata": {
        "colab": {
          "base_uri": "https://localhost:8080/",
          "height": 455
        },
        "id": "c6eb57eb-7eca-4ec0-b8b0-fe3e36e7c1fb",
        "outputId": "9139a3bd-814c-4cd8-ffab-bc197218595b"
      },
      "outputs": [
        {
          "output_type": "execute_result",
          "data": {
            "text/plain": [
              "              Price     Open     High      Low     Vol.  Change %\n",
              "Date                                                             \n",
              "2016-01-05  14155.0  14225.0  14366.0  14085.0    1.39M       0.0\n",
              "2016-01-06  14225.0  14085.0  14296.0  14085.0    1.13M       0.0\n",
              "2016-01-07  13592.0  14155.0  14225.0  13380.0    3.25M       0.0\n",
              "2016-01-08  13240.0  13592.0  13592.0  12887.0    1.53M       0.0\n",
              "2016-01-11  13380.0  13380.0  13592.0  13310.0    1.14M       0.0\n",
              "...             ...      ...      ...      ...      ...       ...\n",
              "2023-12-21  41800.0  40900.0  41900.0  40900.0    1.14M       0.0\n",
              "2023-12-22  42450.0  41800.0  42450.0  41400.0    1.19M       0.0\n",
              "2023-12-25  43200.0  42500.0  43300.0  42000.0    1.17M       0.0\n",
              "2023-12-26  43000.0  43200.0  43550.0  42700.0    1.16M       0.0\n",
              "2023-12-27  43000.0  42800.0  43200.0  42800.0  938.90K       0.0\n",
              "\n",
              "[1996 rows x 6 columns]"
            ],
            "text/html": [
              "\n",
              "  <div id=\"df-30065c1f-bb9a-4aa5-9917-09f01a2c7637\" class=\"colab-df-container\">\n",
              "    <div>\n",
              "<style scoped>\n",
              "    .dataframe tbody tr th:only-of-type {\n",
              "        vertical-align: middle;\n",
              "    }\n",
              "\n",
              "    .dataframe tbody tr th {\n",
              "        vertical-align: top;\n",
              "    }\n",
              "\n",
              "    .dataframe thead th {\n",
              "        text-align: right;\n",
              "    }\n",
              "</style>\n",
              "<table border=\"1\" class=\"dataframe\">\n",
              "  <thead>\n",
              "    <tr style=\"text-align: right;\">\n",
              "      <th></th>\n",
              "      <th>Price</th>\n",
              "      <th>Open</th>\n",
              "      <th>High</th>\n",
              "      <th>Low</th>\n",
              "      <th>Vol.</th>\n",
              "      <th>Change %</th>\n",
              "    </tr>\n",
              "    <tr>\n",
              "      <th>Date</th>\n",
              "      <th></th>\n",
              "      <th></th>\n",
              "      <th></th>\n",
              "      <th></th>\n",
              "      <th></th>\n",
              "      <th></th>\n",
              "    </tr>\n",
              "  </thead>\n",
              "  <tbody>\n",
              "    <tr>\n",
              "      <th>2016-01-05</th>\n",
              "      <td>14155.0</td>\n",
              "      <td>14225.0</td>\n",
              "      <td>14366.0</td>\n",
              "      <td>14085.0</td>\n",
              "      <td>1.39M</td>\n",
              "      <td>0.0</td>\n",
              "    </tr>\n",
              "    <tr>\n",
              "      <th>2016-01-06</th>\n",
              "      <td>14225.0</td>\n",
              "      <td>14085.0</td>\n",
              "      <td>14296.0</td>\n",
              "      <td>14085.0</td>\n",
              "      <td>1.13M</td>\n",
              "      <td>0.0</td>\n",
              "    </tr>\n",
              "    <tr>\n",
              "      <th>2016-01-07</th>\n",
              "      <td>13592.0</td>\n",
              "      <td>14155.0</td>\n",
              "      <td>14225.0</td>\n",
              "      <td>13380.0</td>\n",
              "      <td>3.25M</td>\n",
              "      <td>0.0</td>\n",
              "    </tr>\n",
              "    <tr>\n",
              "      <th>2016-01-08</th>\n",
              "      <td>13240.0</td>\n",
              "      <td>13592.0</td>\n",
              "      <td>13592.0</td>\n",
              "      <td>12887.0</td>\n",
              "      <td>1.53M</td>\n",
              "      <td>0.0</td>\n",
              "    </tr>\n",
              "    <tr>\n",
              "      <th>2016-01-11</th>\n",
              "      <td>13380.0</td>\n",
              "      <td>13380.0</td>\n",
              "      <td>13592.0</td>\n",
              "      <td>13310.0</td>\n",
              "      <td>1.14M</td>\n",
              "      <td>0.0</td>\n",
              "    </tr>\n",
              "    <tr>\n",
              "      <th>...</th>\n",
              "      <td>...</td>\n",
              "      <td>...</td>\n",
              "      <td>...</td>\n",
              "      <td>...</td>\n",
              "      <td>...</td>\n",
              "      <td>...</td>\n",
              "    </tr>\n",
              "    <tr>\n",
              "      <th>2023-12-21</th>\n",
              "      <td>41800.0</td>\n",
              "      <td>40900.0</td>\n",
              "      <td>41900.0</td>\n",
              "      <td>40900.0</td>\n",
              "      <td>1.14M</td>\n",
              "      <td>0.0</td>\n",
              "    </tr>\n",
              "    <tr>\n",
              "      <th>2023-12-22</th>\n",
              "      <td>42450.0</td>\n",
              "      <td>41800.0</td>\n",
              "      <td>42450.0</td>\n",
              "      <td>41400.0</td>\n",
              "      <td>1.19M</td>\n",
              "      <td>0.0</td>\n",
              "    </tr>\n",
              "    <tr>\n",
              "      <th>2023-12-25</th>\n",
              "      <td>43200.0</td>\n",
              "      <td>42500.0</td>\n",
              "      <td>43300.0</td>\n",
              "      <td>42000.0</td>\n",
              "      <td>1.17M</td>\n",
              "      <td>0.0</td>\n",
              "    </tr>\n",
              "    <tr>\n",
              "      <th>2023-12-26</th>\n",
              "      <td>43000.0</td>\n",
              "      <td>43200.0</td>\n",
              "      <td>43550.0</td>\n",
              "      <td>42700.0</td>\n",
              "      <td>1.16M</td>\n",
              "      <td>0.0</td>\n",
              "    </tr>\n",
              "    <tr>\n",
              "      <th>2023-12-27</th>\n",
              "      <td>43000.0</td>\n",
              "      <td>42800.0</td>\n",
              "      <td>43200.0</td>\n",
              "      <td>42800.0</td>\n",
              "      <td>938.90K</td>\n",
              "      <td>0.0</td>\n",
              "    </tr>\n",
              "  </tbody>\n",
              "</table>\n",
              "<p>1996 rows × 6 columns</p>\n",
              "</div>\n",
              "    <div class=\"colab-df-buttons\">\n",
              "\n",
              "  <div class=\"colab-df-container\">\n",
              "    <button class=\"colab-df-convert\" onclick=\"convertToInteractive('df-30065c1f-bb9a-4aa5-9917-09f01a2c7637')\"\n",
              "            title=\"Convert this dataframe to an interactive table.\"\n",
              "            style=\"display:none;\">\n",
              "\n",
              "  <svg xmlns=\"http://www.w3.org/2000/svg\" height=\"24px\" viewBox=\"0 -960 960 960\">\n",
              "    <path d=\"M120-120v-720h720v720H120Zm60-500h600v-160H180v160Zm220 220h160v-160H400v160Zm0 220h160v-160H400v160ZM180-400h160v-160H180v160Zm440 0h160v-160H620v160ZM180-180h160v-160H180v160Zm440 0h160v-160H620v160Z\"/>\n",
              "  </svg>\n",
              "    </button>\n",
              "\n",
              "  <style>\n",
              "    .colab-df-container {\n",
              "      display:flex;\n",
              "      gap: 12px;\n",
              "    }\n",
              "\n",
              "    .colab-df-convert {\n",
              "      background-color: #E8F0FE;\n",
              "      border: none;\n",
              "      border-radius: 50%;\n",
              "      cursor: pointer;\n",
              "      display: none;\n",
              "      fill: #1967D2;\n",
              "      height: 32px;\n",
              "      padding: 0 0 0 0;\n",
              "      width: 32px;\n",
              "    }\n",
              "\n",
              "    .colab-df-convert:hover {\n",
              "      background-color: #E2EBFA;\n",
              "      box-shadow: 0px 1px 2px rgba(60, 64, 67, 0.3), 0px 1px 3px 1px rgba(60, 64, 67, 0.15);\n",
              "      fill: #174EA6;\n",
              "    }\n",
              "\n",
              "    .colab-df-buttons div {\n",
              "      margin-bottom: 4px;\n",
              "    }\n",
              "\n",
              "    [theme=dark] .colab-df-convert {\n",
              "      background-color: #3B4455;\n",
              "      fill: #D2E3FC;\n",
              "    }\n",
              "\n",
              "    [theme=dark] .colab-df-convert:hover {\n",
              "      background-color: #434B5C;\n",
              "      box-shadow: 0px 1px 3px 1px rgba(0, 0, 0, 0.15);\n",
              "      filter: drop-shadow(0px 1px 2px rgba(0, 0, 0, 0.3));\n",
              "      fill: #FFFFFF;\n",
              "    }\n",
              "  </style>\n",
              "\n",
              "    <script>\n",
              "      const buttonEl =\n",
              "        document.querySelector('#df-30065c1f-bb9a-4aa5-9917-09f01a2c7637 button.colab-df-convert');\n",
              "      buttonEl.style.display =\n",
              "        google.colab.kernel.accessAllowed ? 'block' : 'none';\n",
              "\n",
              "      async function convertToInteractive(key) {\n",
              "        const element = document.querySelector('#df-30065c1f-bb9a-4aa5-9917-09f01a2c7637');\n",
              "        const dataTable =\n",
              "          await google.colab.kernel.invokeFunction('convertToInteractive',\n",
              "                                                    [key], {});\n",
              "        if (!dataTable) return;\n",
              "\n",
              "        const docLinkHtml = 'Like what you see? Visit the ' +\n",
              "          '<a target=\"_blank\" href=https://colab.research.google.com/notebooks/data_table.ipynb>data table notebook</a>'\n",
              "          + ' to learn more about interactive tables.';\n",
              "        element.innerHTML = '';\n",
              "        dataTable['output_type'] = 'display_data';\n",
              "        await google.colab.output.renderOutput(dataTable, element);\n",
              "        const docLink = document.createElement('div');\n",
              "        docLink.innerHTML = docLinkHtml;\n",
              "        element.appendChild(docLink);\n",
              "      }\n",
              "    </script>\n",
              "  </div>\n",
              "\n",
              "\n",
              "<div id=\"df-9c3b5e76-dc40-4b4a-9890-256e4410815f\">\n",
              "  <button class=\"colab-df-quickchart\" onclick=\"quickchart('df-9c3b5e76-dc40-4b4a-9890-256e4410815f')\"\n",
              "            title=\"Suggest charts\"\n",
              "            style=\"display:none;\">\n",
              "\n",
              "<svg xmlns=\"http://www.w3.org/2000/svg\" height=\"24px\"viewBox=\"0 0 24 24\"\n",
              "     width=\"24px\">\n",
              "    <g>\n",
              "        <path d=\"M19 3H5c-1.1 0-2 .9-2 2v14c0 1.1.9 2 2 2h14c1.1 0 2-.9 2-2V5c0-1.1-.9-2-2-2zM9 17H7v-7h2v7zm4 0h-2V7h2v10zm4 0h-2v-4h2v4z\"/>\n",
              "    </g>\n",
              "</svg>\n",
              "  </button>\n",
              "\n",
              "<style>\n",
              "  .colab-df-quickchart {\n",
              "      --bg-color: #E8F0FE;\n",
              "      --fill-color: #1967D2;\n",
              "      --hover-bg-color: #E2EBFA;\n",
              "      --hover-fill-color: #174EA6;\n",
              "      --disabled-fill-color: #AAA;\n",
              "      --disabled-bg-color: #DDD;\n",
              "  }\n",
              "\n",
              "  [theme=dark] .colab-df-quickchart {\n",
              "      --bg-color: #3B4455;\n",
              "      --fill-color: #D2E3FC;\n",
              "      --hover-bg-color: #434B5C;\n",
              "      --hover-fill-color: #FFFFFF;\n",
              "      --disabled-bg-color: #3B4455;\n",
              "      --disabled-fill-color: #666;\n",
              "  }\n",
              "\n",
              "  .colab-df-quickchart {\n",
              "    background-color: var(--bg-color);\n",
              "    border: none;\n",
              "    border-radius: 50%;\n",
              "    cursor: pointer;\n",
              "    display: none;\n",
              "    fill: var(--fill-color);\n",
              "    height: 32px;\n",
              "    padding: 0;\n",
              "    width: 32px;\n",
              "  }\n",
              "\n",
              "  .colab-df-quickchart:hover {\n",
              "    background-color: var(--hover-bg-color);\n",
              "    box-shadow: 0 1px 2px rgba(60, 64, 67, 0.3), 0 1px 3px 1px rgba(60, 64, 67, 0.15);\n",
              "    fill: var(--button-hover-fill-color);\n",
              "  }\n",
              "\n",
              "  .colab-df-quickchart-complete:disabled,\n",
              "  .colab-df-quickchart-complete:disabled:hover {\n",
              "    background-color: var(--disabled-bg-color);\n",
              "    fill: var(--disabled-fill-color);\n",
              "    box-shadow: none;\n",
              "  }\n",
              "\n",
              "  .colab-df-spinner {\n",
              "    border: 2px solid var(--fill-color);\n",
              "    border-color: transparent;\n",
              "    border-bottom-color: var(--fill-color);\n",
              "    animation:\n",
              "      spin 1s steps(1) infinite;\n",
              "  }\n",
              "\n",
              "  @keyframes spin {\n",
              "    0% {\n",
              "      border-color: transparent;\n",
              "      border-bottom-color: var(--fill-color);\n",
              "      border-left-color: var(--fill-color);\n",
              "    }\n",
              "    20% {\n",
              "      border-color: transparent;\n",
              "      border-left-color: var(--fill-color);\n",
              "      border-top-color: var(--fill-color);\n",
              "    }\n",
              "    30% {\n",
              "      border-color: transparent;\n",
              "      border-left-color: var(--fill-color);\n",
              "      border-top-color: var(--fill-color);\n",
              "      border-right-color: var(--fill-color);\n",
              "    }\n",
              "    40% {\n",
              "      border-color: transparent;\n",
              "      border-right-color: var(--fill-color);\n",
              "      border-top-color: var(--fill-color);\n",
              "    }\n",
              "    60% {\n",
              "      border-color: transparent;\n",
              "      border-right-color: var(--fill-color);\n",
              "    }\n",
              "    80% {\n",
              "      border-color: transparent;\n",
              "      border-right-color: var(--fill-color);\n",
              "      border-bottom-color: var(--fill-color);\n",
              "    }\n",
              "    90% {\n",
              "      border-color: transparent;\n",
              "      border-bottom-color: var(--fill-color);\n",
              "    }\n",
              "  }\n",
              "</style>\n",
              "\n",
              "  <script>\n",
              "    async function quickchart(key) {\n",
              "      const quickchartButtonEl =\n",
              "        document.querySelector('#' + key + ' button');\n",
              "      quickchartButtonEl.disabled = true;  // To prevent multiple clicks.\n",
              "      quickchartButtonEl.classList.add('colab-df-spinner');\n",
              "      try {\n",
              "        const charts = await google.colab.kernel.invokeFunction(\n",
              "            'suggestCharts', [key], {});\n",
              "      } catch (error) {\n",
              "        console.error('Error during call to suggestCharts:', error);\n",
              "      }\n",
              "      quickchartButtonEl.classList.remove('colab-df-spinner');\n",
              "      quickchartButtonEl.classList.add('colab-df-quickchart-complete');\n",
              "    }\n",
              "    (() => {\n",
              "      let quickchartButtonEl =\n",
              "        document.querySelector('#df-9c3b5e76-dc40-4b4a-9890-256e4410815f button');\n",
              "      quickchartButtonEl.style.display =\n",
              "        google.colab.kernel.accessAllowed ? 'block' : 'none';\n",
              "    })();\n",
              "  </script>\n",
              "</div>\n",
              "    </div>\n",
              "  </div>\n"
            ]
          },
          "metadata": {},
          "execution_count": 4
        }
      ],
      "source": [
        "#import dataset\n",
        "df = pd.read_csv('/content/drive/MyDrive/PTTK/BIDV.csv')\n",
        "df['Date'] = pd.to_datetime(df['Date'], format='%m/%d/%Y')  # Use the correct format\n",
        "df.set_index('Date', inplace=True)\n",
        "df = df.dropna()\n",
        "df"
      ]
    },
    {
      "cell_type": "code",
      "execution_count": 6,
      "id": "cd0ca6c7-5e39-4c92-aa99-2753303655c7",
      "metadata": {
        "id": "cd0ca6c7-5e39-4c92-aa99-2753303655c7"
      },
      "outputs": [],
      "source": [
        "#RATIO 7:3"
      ]
    },
    {
      "cell_type": "code",
      "execution_count": 5,
      "id": "42904b2f-2f96-4914-bd19-c60eaaf8ae90",
      "metadata": {
        "id": "42904b2f-2f96-4914-bd19-c60eaaf8ae90"
      },
      "outputs": [],
      "source": [
        "# split data ratio 7:3\n",
        "train_size73 = int(0.7 * len(df))\n",
        "test_size73 = int(0.3 * len(df))\n",
        "\n",
        "train_data73 = df[:train_size73]\n",
        "test_data73 = df[train_size73:train_size73+test_size73]"
      ]
    },
    {
      "cell_type": "code",
      "execution_count": 7,
      "id": "8c5e5960-b322-4492-a34f-610699c2ea57",
      "metadata": {
        "id": "8c5e5960-b322-4492-a34f-610699c2ea57"
      },
      "outputs": [],
      "source": [
        "import statsmodels.api as sm\n",
        "acf = sm.tsa.stattools.acf(train_data73['Price'], nlags= 700)"
      ]
    },
    {
      "cell_type": "code",
      "execution_count": 8,
      "id": "926c17df-cea8-4af6-ab7d-f063b2a51c68",
      "metadata": {
        "colab": {
          "base_uri": "https://localhost:8080/"
        },
        "id": "926c17df-cea8-4af6-ab7d-f063b2a51c68",
        "outputId": "b1f01e02-63df-40d9-fed1-e1c8099d2f58"
      },
      "outputs": [
        {
          "output_type": "stream",
          "name": "stdout",
          "text": [
            "Initializing models...\n",
            "Initialization finished.\n",
            "Starting forward filtering...\n",
            "Forward filtering completed.\n",
            "Starting backward smoothing...\n",
            "Backward smoothing completed.\n"
          ]
        }
      ],
      "source": [
        "# training 7:3\n",
        "y_train73 = np.array(train_data73['Price'])\n",
        "\n",
        "x_train73 = []\n",
        "for data in train_data73['High']:\n",
        "  x_train73.append([data])\n",
        "\n",
        "model73 = dlm(y_train73)\n",
        "model73 = model73 + trend(1, discount=0.99, name='Trend', w=1e7)\n",
        "model73 = model73 + dynamic(features=x_train73, discount=1, name='High')\n",
        "model73 = model73 + autoReg(degree=3, discount=0.99, name='ar', w=1e7)\n",
        "model73 = model73 + longSeason(period=12, stay=30, data=y_train73, name='season', w=1e7)\n",
        "\n",
        "model73.fit()"
      ]
    },
    {
      "cell_type": "code",
      "execution_count": 9,
      "id": "a9c83ee0-813d-4a02-b0c8-ad89af7c1fde",
      "metadata": {
        "id": "a9c83ee0-813d-4a02-b0c8-ad89af7c1fde"
      },
      "outputs": [],
      "source": [
        "# testing 7:3\n",
        "x_test73 = []\n",
        "for data in test_data73['High']:\n",
        "  x_test73.append([data])\n",
        "\n",
        "y_test73 = np.array(test_data73['Price'])\n",
        "\n",
        "y_pred73 = model73.predictN(date = model73.n-1, N=len(x_test73),featureDict={'High': x_test73})\n",
        "y_pred73 = y_pred73[0]\n"
      ]
    },
    {
      "cell_type": "code",
      "execution_count": 10,
      "id": "8d75bb16-1609-41da-a32a-a51b5156e0ce",
      "metadata": {
        "colab": {
          "base_uri": "https://localhost:8080/"
        },
        "id": "8d75bb16-1609-41da-a32a-a51b5156e0ce",
        "outputId": "3d9ef0be-0f46-4a1c-ca9a-63829381dc86"
      },
      "outputs": [
        {
          "output_type": "stream",
          "name": "stdout",
          "text": [
            "            Predicted_High\n",
            "Date                      \n",
            "2021-08-07    38249.298148\n",
            "2021-08-08    38269.579113\n",
            "2021-08-09    38289.860079\n",
            "2021-08-10    38310.141044\n",
            "2021-08-11    38330.422010\n",
            "2021-08-12    38350.702975\n",
            "2021-08-13    38370.983940\n",
            "2021-08-14    38391.264906\n",
            "2021-08-15    38411.545871\n",
            "2021-08-16    38431.826836\n",
            "2021-08-17    38452.107802\n",
            "2021-08-18    38472.388767\n",
            "2021-08-19    38492.669732\n",
            "2021-08-20    38512.950698\n",
            "2021-08-21    38533.231663\n",
            "2021-08-22    38553.512628\n",
            "2021-08-23    38573.793594\n",
            "2021-08-24    38594.074559\n",
            "2021-08-25    38614.355525\n",
            "2021-08-26    38634.636490\n",
            "2021-08-27    38654.917455\n",
            "2021-08-28    38675.198421\n",
            "2021-08-29    38695.479386\n",
            "2021-08-30    38715.760351\n",
            "2021-08-31    38736.041317\n",
            "2021-09-01    38756.322282\n",
            "2021-09-02    38776.603247\n",
            "2021-09-03    38796.884213\n",
            "2021-09-04    38817.165178\n",
            "2021-09-05    38837.446143\n"
          ]
        }
      ],
      "source": [
        "from sklearn.linear_model import LinearRegression\n",
        "import numpy as np\n",
        "import pandas as pd\n",
        "\n",
        "# Assuming train_data73 is a DataFrame with 'Price' column and 'Date' as the index\n",
        "# Make sure 'Date' is in datetime format\n",
        "train_data73.index = pd.to_datetime(train_data73.index)\n",
        "\n",
        "ln_model73 = LinearRegression()\n",
        "\n",
        "# Use the datetime index for training\n",
        "ln_model73.fit(np.arange(len(train_data73)).reshape(-1, 1), train_data73['High'])\n",
        "\n",
        "# Predict the prices for the next 30 days\n",
        "last_index73 = train_data73.index[-1]\n",
        "next_30_days_indices73 = np.arange(len(train_data73), len(train_data73) + 30).reshape(-1, 1)\n",
        "\n",
        "# Use the model to predict the high prices for the next 30 days\n",
        "high_next_30_days73 = ln_model73.predict(next_30_days_indices73)\n",
        "\n",
        "# Generate the next 30 days date indices\n",
        "next_30_days_dates73 = pd.date_range(start=last_index73 + pd.DateOffset(1), periods=30)\n",
        "\n",
        "# Combine the predicted dates and prices into a DataFrame\n",
        "predicted_df73 = pd.DataFrame({'Date': next_30_days_dates73, 'Predicted_High': high_next_30_days73})\n",
        "predicted_df73.set_index('Date', inplace=True)\n",
        "\n",
        "print(predicted_df73)\n"
      ]
    },
    {
      "cell_type": "code",
      "execution_count": 11,
      "id": "107ed7e3-52e7-425c-9645-0a22c7b51a72",
      "metadata": {
        "colab": {
          "base_uri": "https://localhost:8080/"
        },
        "id": "107ed7e3-52e7-425c-9645-0a22c7b51a72",
        "outputId": "366e44ca-2ba5-4394-adcb-4db31cf1e6aa"
      },
      "outputs": [
        {
          "output_type": "stream",
          "name": "stdout",
          "text": [
            "[33988.557369953065, 34016.02181749839, 34042.61768894831, 34066.3343217098, 34090.21099310927, 34114.14121279795, 34138.181735485254, 34162.22308155131, 34186.26206070799, 34210.296767691965, 34234.331181699716, 34258.36568174241, 34282.40034788704, 33899.58423977285, 33897.78835615928, 33921.73100733249, 33961.050123507295, 33987.02007117853, 34011.122901283474, 34034.5838143654, 34058.50954090011, 34082.53693934722, 34106.59299387899, 34130.633124571985, 34154.66833877058, 34178.702231378484, 34202.73665338929, 34226.771297623876, 34250.80600330187, 34274.84069226719]\n"
          ]
        }
      ],
      "source": [
        "# Dự báo giá cổ phiếu 30 ngày tiếp theo 7:3\n",
        "x_next_30_days73 = []\n",
        "for data in high_next_30_days73:\n",
        "  x_next_30_days73.append([data])\n",
        "\n",
        "y_next_30_days73 = model73.predictN(N = 30, featureDict={'High': x_next_30_days73})\n",
        "y_next_30_days73 = y_next_30_days73[0]\n",
        "print(y_next_30_days73)\n"
      ]
    },
    {
      "cell_type": "code",
      "execution_count": 12,
      "id": "fd2dc09b-9caa-4261-b933-8b365349e900",
      "metadata": {
        "colab": {
          "base_uri": "https://localhost:8080/",
          "height": 430
        },
        "id": "fd2dc09b-9caa-4261-b933-8b365349e900",
        "outputId": "4e3c8aed-8f14-4d24-95b2-4cfdcb8d8ea8"
      },
      "outputs": [
        {
          "output_type": "display_data",
          "data": {
            "text/plain": [
              "<Figure size 640x480 with 1 Axes>"
            ],
            "image/png": "[encoded data removed]"
          },
          "metadata": {}
        }
      ],
      "source": [
        "# Generating the next 30 days date indices\n",
        "last_test_date73 = test_data73.index[-1]\n",
        "next_30_days_dates73 = pd.date_range(start=last_test_date73 + pd.DateOffset(1), periods=30)\n",
        "\n",
        "# 10. Vẽ hình 7:3\n",
        "plt.plot(train_data73.index, train_data73['Price'])\n",
        "plt.plot(test_data73.index, test_data73['Price'])\n",
        "plt.plot(test_data73.index, y_pred73)\n",
        "plt.plot(next_30_days_dates73,y_next_30_days73)\n",
        "plt.legend(['Train', 'Test', 'Predictions','Next30Day'])\n",
        "plt.show()"
      ]
    },
    {
      "cell_type": "code",
      "execution_count": 13,
      "id": "391a9d12-98f6-4d59-aa84-196554d48404",
      "metadata": {
        "id": "391a9d12-98f6-4d59-aa84-196554d48404"
      },
      "outputs": [],
      "source": [
        "#RATIO 8:2"
      ]
    },
    {
      "cell_type": "code",
      "execution_count": 14,
      "id": "7fc0075a-a172-4df2-ad5e-cafa861d9d81",
      "metadata": {
        "id": "7fc0075a-a172-4df2-ad5e-cafa861d9d81"
      },
      "outputs": [],
      "source": [
        "# Split the data into training, testing, and validating sets\n",
        "train_size82 = int(0.8 * len(df))\n",
        "test_size82 = int(0.2 * len(df))\n",
        "\n",
        "train_data82 = df[:train_size82]\n",
        "test_data82 = df[train_size82:train_size82+test_size82]"
      ]
    },
    {
      "cell_type": "code",
      "execution_count": 15,
      "id": "f2b128de-bd7b-4a39-959d-791d816aa645",
      "metadata": {
        "id": "f2b128de-bd7b-4a39-959d-791d816aa645"
      },
      "outputs": [],
      "source": [
        "import statsmodels.api as sm\n",
        "acf = sm.tsa.stattools.acf(train_data82['Price'], nlags= 700)"
      ]
    },
    {
      "cell_type": "code",
      "execution_count": 16,
      "id": "c48fbf63-71b0-419d-8ee2-febc47efa8c5",
      "metadata": {
        "colab": {
          "base_uri": "https://localhost:8080/"
        },
        "id": "c48fbf63-71b0-419d-8ee2-febc47efa8c5",
        "outputId": "6756b226-1064-48b6-9386-b76e6a3810ca"
      },
      "outputs": [
        {
          "output_type": "stream",
          "name": "stdout",
          "text": [
            "Initializing models...\n",
            "Initialization finished.\n",
            "Starting forward filtering...\n",
            "Forward filtering completed.\n",
            "Starting backward smoothing...\n",
            "Backward smoothing completed.\n"
          ]
        }
      ],
      "source": [
        "# training\n",
        "y_train82 = np.array(train_data82['Price'])\n",
        "\n",
        "x_train82 = []\n",
        "for data in train_data82['High']:\n",
        "  x_train82.append([data])\n",
        "\n",
        "model82 = dlm(y_train82)\n",
        "model82 = model82 + trend(1, discount=0.99, name='Trend', w=1e7)\n",
        "model82 = model82 + dynamic(features=x_train82, discount=1, name='High')\n",
        "model82 = model82 + autoReg(degree=3, discount=0.99, name='ar', w=1e7)\n",
        "model82 = model82 + longSeason(period=12, stay=30, data=y_train82, name='season', w=1e7)\n",
        "\n",
        "model82.fit()"
      ]
    },
    {
      "cell_type": "code",
      "execution_count": 17,
      "id": "dee68269-ad52-4916-9d5b-6bc2edfdac3d",
      "metadata": {
        "id": "dee68269-ad52-4916-9d5b-6bc2edfdac3d"
      },
      "outputs": [],
      "source": [
        "# testing\n",
        "x_test82= []\n",
        "for data in test_data82['High']:\n",
        "  x_test82.append([data])\n",
        "\n",
        "y_test82 = np.array(test_data82['High'])\n",
        "\n",
        "y_pred82 = model82.predictN(date = model82.n-1, N=len(x_test82),featureDict={'High': x_test82})\n",
        "y_pred82 = y_pred82[0]\n"
      ]
    },
    {
      "cell_type": "code",
      "execution_count": 18,
      "id": "78d31f65-ed87-42c0-817c-2fccfb6800fb",
      "metadata": {
        "colab": {
          "base_uri": "https://localhost:8080/"
        },
        "id": "78d31f65-ed87-42c0-817c-2fccfb6800fb",
        "outputId": "982c447d-6e29-474a-ddeb-4de7a1ba65bb"
      },
      "outputs": [
        {
          "output_type": "stream",
          "name": "stdout",
          "text": [
            "            Predicted_High\n",
            "Date                      \n",
            "2022-05-28    41173.878149\n",
            "2022-05-29    41193.171363\n",
            "2022-05-30    41212.464577\n",
            "2022-05-31    41231.757791\n",
            "2022-06-01    41251.051005\n",
            "2022-06-02    41270.344219\n",
            "2022-06-03    41289.637432\n",
            "2022-06-04    41308.930646\n",
            "2022-06-05    41328.223860\n",
            "2022-06-06    41347.517074\n",
            "2022-06-07    41366.810288\n",
            "2022-06-08    41386.103502\n",
            "2022-06-09    41405.396716\n",
            "2022-06-10    41424.689930\n",
            "2022-06-11    41443.983143\n",
            "2022-06-12    41463.276357\n",
            "2022-06-13    41482.569571\n",
            "2022-06-14    41501.862785\n",
            "2022-06-15    41521.155999\n",
            "2022-06-16    41540.449213\n",
            "2022-06-17    41559.742427\n",
            "2022-06-18    41579.035641\n",
            "2022-06-19    41598.328854\n",
            "2022-06-20    41617.622068\n",
            "2022-06-21    41636.915282\n",
            "2022-06-22    41656.208496\n",
            "2022-06-23    41675.501710\n",
            "2022-06-24    41694.794924\n",
            "2022-06-25    41714.088138\n",
            "2022-06-26    41733.381352\n"
          ]
        }
      ],
      "source": [
        "from sklearn.linear_model import LinearRegression\n",
        "import numpy as np\n",
        "import pandas as pd\n",
        "\n",
        "# Make sure 'Date' is in datetime format\n",
        "train_data82.index = pd.to_datetime(train_data82.index)\n",
        "\n",
        "ln_model82 = LinearRegression()\n",
        "\n",
        "# Use the datetime index for training\n",
        "ln_model82.fit(np.arange(len(train_data82)).reshape(-1, 1), train_data82['High'])\n",
        "\n",
        "# Predict the prices for the next 30 days\n",
        "last_index82 = train_data82.index[-1]\n",
        "next_30_days_indices82 = np.arange(len(train_data82), len(train_data82) + 30).reshape(-1, 1)\n",
        "\n",
        "# Use the model to predict the high prices for the next 30 days\n",
        "high_next_30_days82 = ln_model82.predict(next_30_days_indices82)\n",
        "\n",
        "# Generate the next 30 days date indices\n",
        "next_30_days_dates82 = pd.date_range(start=last_index82 + pd.DateOffset(1), periods=30)\n",
        "\n",
        "# Combine the predicted dates and prices into a DataFrame\n",
        "predicted_df82 = pd.DataFrame({'Date': next_30_days_dates82, 'Predicted_High': high_next_30_days82})\n",
        "predicted_df82.set_index('Date', inplace=True)\n",
        "\n",
        "print(predicted_df82)\n"
      ]
    },
    {
      "cell_type": "code",
      "execution_count": 19,
      "id": "5f485930-6eb8-458b-9e55-b89336a830b4",
      "metadata": {
        "colab": {
          "base_uri": "https://localhost:8080/"
        },
        "id": "5f485930-6eb8-458b-9e55-b89336a830b4",
        "outputId": "9597ec69-8266-4f1d-c99e-e222b970b4a5"
      },
      "outputs": [
        {
          "output_type": "stream",
          "name": "stdout",
          "text": [
            "[35304.69027171789, 35299.0488225674, 35322.130440430454, 35348.50236767312, 35370.74563512916, 35392.24459689811, 35414.320638412384, 35436.543557014214, 35458.68839531025, 35480.806405942196, 35502.93456211183, 35525.067370525416, 35547.198930909166, 35569.329715336695, 35591.46064101974, 35613.59169209592, 35635.7227294473, 35657.85374708362, 35679.98476559984, 35702.11578713878, 35724.24680872725, 35746.3778298634, 35768.508850964834, 35790.639872132306, 35609.453223619596, 35629.94290347851, 35682.04824844668, 35706.26084565538, 35724.00061736088, 35745.553659153185]\n"
          ]
        }
      ],
      "source": [
        "# Dự báo giá cổ phiếu 30 ngày tiếp theo\n",
        "x_next_30_days82 = []\n",
        "for data in high_next_30_days82:\n",
        "  x_next_30_days82.append([data])\n",
        "\n",
        "y_next_30_days82 = model82.predictN(N = 30, featureDict={'High': x_next_30_days82})\n",
        "y_next_30_days82 = y_next_30_days82[0]\n",
        "print(y_next_30_days82)\n"
      ]
    },
    {
      "cell_type": "code",
      "execution_count": 20,
      "id": "52c56057-eef4-48c1-9291-41578149cb1b",
      "metadata": {
        "colab": {
          "base_uri": "https://localhost:8080/",
          "height": 430
        },
        "id": "52c56057-eef4-48c1-9291-41578149cb1b",
        "outputId": "ef12d541-2b75-4fd4-cd79-4c3246fe8a30"
      },
      "outputs": [
        {
          "output_type": "display_data",
          "data": {
            "text/plain": [
              "<Figure size 640x480 with 1 Axes>"
            ],
            "image/png": "[encoded data removed]"
          },
          "metadata": {}
        }
      ],
      "source": [
        "# Generating the next 30 days date indices\n",
        "last_test_date82 = test_data82.index[-1]\n",
        "next_30_days_dates82 = pd.date_range(start=last_test_date82 + pd.DateOffset(1), periods=30)\n",
        "# 10. Vẽ hình\n",
        "plt.plot(train_data82.index, train_data82['Price'])\n",
        "plt.plot(test_data82.index, test_data82['Price'])\n",
        "plt.plot(test_data82.index, y_pred82)\n",
        "plt.plot(next_30_days_dates82,y_next_30_days82)\n",
        "plt.legend(['Train', 'Test', 'Predictions','Next30Day'])\n",
        "plt.show()"
      ]
    },
    {
      "cell_type": "code",
      "execution_count": 21,
      "id": "a90042c5-34e1-400b-b452-87633da53e3a",
      "metadata": {
        "id": "a90042c5-34e1-400b-b452-87633da53e3a"
      },
      "outputs": [],
      "source": [
        "#RATIO 9:1"
      ]
    },
    {
      "cell_type": "code",
      "execution_count": 22,
      "id": "0776c856-e4a5-4a3d-9c61-869c2a91605c",
      "metadata": {
        "id": "0776c856-e4a5-4a3d-9c61-869c2a91605c"
      },
      "outputs": [],
      "source": [
        "# Split the data into training, testing, and validating sets\n",
        "train_size91 = int(0.9 * len(df))\n",
        "test_size91 = int(0.1 * len(df))\n",
        "\n",
        "train_data91 = df[:train_size91]\n",
        "test_data91 = df[train_size91:train_size91+test_size91]"
      ]
    },
    {
      "cell_type": "code",
      "execution_count": 23,
      "id": "550bd48c-2f8c-46bb-910b-3ef693ae3e7a",
      "metadata": {
        "id": "550bd48c-2f8c-46bb-910b-3ef693ae3e7a"
      },
      "outputs": [],
      "source": [
        "import statsmodels.api as sm\n",
        "acf = sm.tsa.stattools.acf(train_data91['Price'], nlags= 700)"
      ]
    },
    {
      "cell_type": "code",
      "execution_count": 24,
      "id": "e816083c-7926-4361-bded-6b3dcdea34a9",
      "metadata": {
        "colab": {
          "base_uri": "https://localhost:8080/"
        },
        "id": "e816083c-7926-4361-bded-6b3dcdea34a9",
        "outputId": "152b7ea4-88fe-47fc-f077-4150aac6e63c"
      },
      "outputs": [
        {
          "output_type": "stream",
          "name": "stdout",
          "text": [
            "Initializing models...\n",
            "Initialization finished.\n",
            "Starting forward filtering...\n",
            "Forward filtering completed.\n",
            "Starting backward smoothing...\n",
            "Backward smoothing completed.\n"
          ]
        }
      ],
      "source": [
        "# 4. Quá trình training\n",
        "y_train91 = np.array(train_data91['Price'])\n",
        "\n",
        "x_train91 = []\n",
        "for data in train_data91['High']:\n",
        "  x_train91.append([data])\n",
        "\n",
        "model91 = dlm(y_train91)\n",
        "model91 = model91 + trend(1, discount=0.99, name='Trend', w=1e7)\n",
        "model91 = model91 + dynamic(features=x_train91, discount=1, name='High')\n",
        "model91 = model91 + autoReg(degree=3, discount=0.99, name='ar', w=1e7)\n",
        "model91 = model91 + longSeason(period=12, stay=30, data=y_train91, name='season', w=1e7)\n",
        "\n",
        "model91.fit()"
      ]
    },
    {
      "cell_type": "code",
      "execution_count": 25,
      "id": "2071346d-01db-41a0-9d1b-5c2a897660f1",
      "metadata": {
        "id": "2071346d-01db-41a0-9d1b-5c2a897660f1"
      },
      "outputs": [],
      "source": [
        "# 5. Quá trình testing\n",
        "x_test91= []\n",
        "for data in test_data91['High']:\n",
        "  x_test91.append([data])\n",
        "\n",
        "y_test91 = np.array(test_data91['Price'])\n",
        "\n",
        "y_pred91 = model91.predictN(date = model91.n-1, N=len(x_test91),featureDict={'High': x_test91})\n",
        "y_pred91 = y_pred91[0]\n"
      ]
    },
    {
      "cell_type": "code",
      "execution_count": 26,
      "id": "550bfec2-2924-4196-8c62-20c20af4da6a",
      "metadata": {
        "colab": {
          "base_uri": "https://localhost:8080/"
        },
        "id": "550bfec2-2924-4196-8c62-20c20af4da6a",
        "outputId": "16641d02-8d75-4487-b41f-f7e69aa6fe05"
      },
      "outputs": [
        {
          "output_type": "stream",
          "name": "stdout",
          "text": [
            "            Predicted_High\n",
            "Date                      \n",
            "2023-03-16    43227.298979\n",
            "2023-03-17    43245.145357\n",
            "2023-03-18    43262.991734\n",
            "2023-03-19    43280.838112\n",
            "2023-03-20    43298.684490\n",
            "2023-03-21    43316.530868\n",
            "2023-03-22    43334.377246\n",
            "2023-03-23    43352.223624\n",
            "2023-03-24    43370.070001\n",
            "2023-03-25    43387.916379\n",
            "2023-03-26    43405.762757\n",
            "2023-03-27    43423.609135\n",
            "2023-03-28    43441.455513\n",
            "2023-03-29    43459.301891\n",
            "2023-03-30    43477.148268\n",
            "2023-03-31    43494.994646\n",
            "2023-04-01    43512.841024\n",
            "2023-04-02    43530.687402\n",
            "2023-04-03    43548.533780\n",
            "2023-04-04    43566.380157\n",
            "2023-04-05    43584.226535\n",
            "2023-04-06    43602.072913\n",
            "2023-04-07    43619.919291\n",
            "2023-04-08    43637.765669\n",
            "2023-04-09    43655.612047\n",
            "2023-04-10    43673.458424\n",
            "2023-04-11    43691.304802\n",
            "2023-04-12    43709.151180\n",
            "2023-04-13    43726.997558\n",
            "2023-04-14    43744.843936\n"
          ]
        }
      ],
      "source": [
        "from sklearn.linear_model import LinearRegression\n",
        "import numpy as np\n",
        "import pandas as pd\n",
        "\n",
        "# Make sure 'Date' is in datetime format\n",
        "train_data91.index = pd.to_datetime(train_data91.index)\n",
        "\n",
        "ln_model91 = LinearRegression()\n",
        "\n",
        "# Use the datetime index for training\n",
        "ln_model91.fit(np.arange(len(train_data91)).reshape(-1, 1), train_data91['High'])\n",
        "\n",
        "# Predict the prices for the next 30 days\n",
        "last_index91 = train_data91.index[-1]\n",
        "next_30_days_indices91 = np.arange(len(train_data91), len(train_data91) + 30).reshape(-1, 1)\n",
        "\n",
        "# Use the model to predict the high prices for the next 30 days\n",
        "high_next_30_days91 = ln_model91.predict(next_30_days_indices91)\n",
        "\n",
        "# Generate the next 30 days date indices\n",
        "next_30_days_dates91 = pd.date_range(start=last_index91 + pd.DateOffset(1), periods=30)\n",
        "\n",
        "# Combine the predicted dates and prices into a DataFrame\n",
        "predicted_df91 = pd.DataFrame({'Date': next_30_days_dates91, 'Predicted_High': high_next_30_days91})\n",
        "predicted_df91.set_index('Date', inplace=True)\n",
        "\n",
        "print(predicted_df91)\n"
      ]
    },
    {
      "cell_type": "code",
      "execution_count": 27,
      "id": "24e11bab-b32c-465e-a73a-65e3aa3d50d4",
      "metadata": {
        "colab": {
          "base_uri": "https://localhost:8080/"
        },
        "id": "24e11bab-b32c-465e-a73a-65e3aa3d50d4",
        "outputId": "c19b070f-350d-4693-ea86-87ea47fc34bd"
      },
      "outputs": [
        {
          "output_type": "stream",
          "name": "stdout",
          "text": [
            "[46642.28596669074, 46374.647215116776, 46635.321985520284, 46646.02755586542, 45407.22802096304, 45595.864021477064, 45734.462092068396, 45594.65745470419, 45643.133171290545, 45695.11778727265, 45697.12071916733, 45724.33161762776, 45754.44096908983, 45776.23455810572, 45801.32375749879, 45827.24036820558, 45851.830463959035, 45876.83020625184, 45902.013600244616, 45926.991992983545, 45952.01715761867, 45977.07846874215, 46002.10899552968, 46027.14406653412, 46052.18575164045, 46077.22294607317, 46102.26041841468, 46127.29904091991, 46152.337028733906, 46177.37499417443]\n"
          ]
        }
      ],
      "source": [
        "# 9. Dự báo giá cổ phiếu 30 ngày tiếp theo\n",
        "x_next_30_days91 = []\n",
        "for data in high_next_30_days91:\n",
        "  x_next_30_days91.append([data])\n",
        "\n",
        "y_next_30_days91 = model91.predictN(N = 30, featureDict={'High': x_next_30_days91})\n",
        "y_next_30_days91 = y_next_30_days91[0]\n",
        "print(y_next_30_days91)\n"
      ]
    },
    {
      "cell_type": "code",
      "execution_count": 28,
      "id": "5ad45ad8-a22c-4b8e-aa7b-8205e3c40420",
      "metadata": {
        "colab": {
          "base_uri": "https://localhost:8080/",
          "height": 430
        },
        "id": "5ad45ad8-a22c-4b8e-aa7b-8205e3c40420",
        "outputId": "a6c4292c-3225-4373-808a-ade6ca4efd11"
      },
      "outputs": [
        {
          "output_type": "display_data",
          "data": {
            "text/plain": [
              "<Figure size 640x480 with 1 Axes>"
            ],
            "image/png": "[encoded data removed]"
          },
          "metadata": {}
        }
      ],
      "source": [
        "# Generating the next 30 days date indices\n",
        "last_test_date91 = test_data91.index[-1]\n",
        "next_30_days_dates91 = pd.date_range(start=last_test_date91 + pd.DateOffset(1), periods=30)\n",
        "# 10. Vẽ hình\n",
        "plt.plot(train_data91.index, train_data91['Price'])\n",
        "plt.plot(test_data91.index, test_data91['Price'])\n",
        "plt.plot(test_data91.index, y_pred91)\n",
        "plt.plot(next_30_days_dates91,y_next_30_days91)\n",
        "plt.legend(['Train', 'Test', 'Predictions','Next30Day'])\n",
        "plt.show()"
      ]
    },
    {
      "cell_type": "code",
      "execution_count": 29,
      "id": "f3982e58-1cfa-4671-81f3-e78c3d61be27",
      "metadata": {
        "id": "f3982e58-1cfa-4671-81f3-e78c3d61be27"
      },
      "outputs": [],
      "source": [
        "#ACCURACY EVALUATION"
      ]
    },
    {
      "cell_type": "code",
      "execution_count": 30,
      "id": "0b490206-790d-4b9f-8769-27b89fbb70f1",
      "metadata": {
        "id": "0b490206-790d-4b9f-8769-27b89fbb70f1"
      },
      "outputs": [],
      "source": [
        "#method to calculate mape\n",
        "def calc_mape(actual, predicted):\n",
        "\n",
        "    # Convert to numpy arrays\n",
        "    actual = np.array(actual)\n",
        "    predicted = np.array(predicted)\n",
        "\n",
        "    # Calculate absolute percentage error\n",
        "    absolute_error = np.abs((actual - predicted) / actual)\n",
        "\n",
        "    # Handle division by zero cases\n",
        "    absolute_error[np.isinf(absolute_error)] = 0.0\n",
        "\n",
        "    # Calculate mean absolute percentage error\n",
        "    mape = np.mean(absolute_error) * 100\n",
        "\n",
        "    return mape"
      ]
    },
    {
      "cell_type": "code",
      "execution_count": 31,
      "id": "dc12d3d4-ec86-412b-a21e-c7f424da9f97",
      "metadata": {
        "colab": {
          "base_uri": "https://localhost:8080/"
        },
        "id": "dc12d3d4-ec86-412b-a21e-c7f424da9f97",
        "outputId": "ca3f8210-ee41-440d-d535-7d1bdc2a59c8"
      },
      "outputs": [
        {
          "output_type": "stream",
          "name": "stdout",
          "text": [
            "4288.679657806849\n",
            "8.640964856258956\n",
            "0.012052116949706872\n"
          ]
        }
      ],
      "source": [
        "#accuracy evaluate 7:3\n",
        "from sklearn.metrics import mean_absolute_error as mae\n",
        "from sklearn.metrics import mean_squared_log_error as msle\n",
        "test_rmse73 = np.sqrt(np.mean((y_pred73 - y_test73)**2))\n",
        "test_mape73 = calc_mape(y_test73, y_pred73)\n",
        "test_msle73 = msle(y_test73, y_pred73)\n",
        "\n",
        "print(test_rmse73)\n",
        "print(test_mape73)\n",
        "print(test_msle73)"
      ]
    },
    {
      "cell_type": "code",
      "execution_count": 32,
      "id": "4b47c035-eaa8-4b25-ae15-0b12f1a2234f",
      "metadata": {
        "colab": {
          "base_uri": "https://localhost:8080/"
        },
        "id": "4b47c035-eaa8-4b25-ae15-0b12f1a2234f",
        "outputId": "c05e82c8-6397-4a89-cdff-4602849a2fa9"
      },
      "outputs": [
        {
          "output_type": "stream",
          "name": "stdout",
          "text": [
            "3972.262534094549\n",
            "7.968551728313448\n",
            "0.009249669445439156\n"
          ]
        }
      ],
      "source": [
        "#accuracy evaluate 8:2\n",
        "from sklearn.metrics import mean_absolute_error as mae\n",
        "from sklearn.metrics import mean_squared_log_error as msle\n",
        "test_rmse82 = np.sqrt(np.mean((y_pred82 - y_test82)**2))\n",
        "test_mape82 = calc_mape(y_test82, y_pred82)\n",
        "test_msle82 = msle(y_test82, y_pred82)\n",
        "\n",
        "print(test_rmse82)\n",
        "print(test_mape82)\n",
        "print(test_msle82)"
      ]
    },
    {
      "cell_type": "code",
      "execution_count": 33,
      "id": "b4957217-841b-436f-ad02-b0ca3add1d6b",
      "metadata": {
        "colab": {
          "base_uri": "https://localhost:8080/"
        },
        "id": "b4957217-841b-436f-ad02-b0ca3add1d6b",
        "outputId": "8df2684f-2d01-4c4e-e036-90d47e8ccfd6"
      },
      "outputs": [
        {
          "output_type": "stream",
          "name": "stdout",
          "text": [
            "3617.3874854867454\n",
            "6.4455310731745445\n",
            "0.006619428520983855\n"
          ]
        }
      ],
      "source": [
        "#accuracy evaluate 9:1\n",
        "from sklearn.metrics import mean_absolute_error as mae\n",
        "from sklearn.metrics import mean_squared_log_error as msle\n",
        "\n",
        "test_rmse91 = np.sqrt(np.mean((y_pred91 - y_test91)**2))\n",
        "test_mape91 = calc_mape(y_test91, y_pred91)\n",
        "test_msle91 = msle(y_test91, y_pred91)\n",
        "\n",
        "print(test_rmse91)\n",
        "print(test_mape91)\n",
        "print(test_msle91)\n"
      ]
    }
  ],
  "metadata": {
    "kernelspec": {
      "display_name": "Python 3 (ipykernel)",
      "language": "python",
      "name": "python3"
    },
    "language_info": {
      "codemirror_mode": {
        "name": "ipython",
        "version": 3
      },
      "file_extension": ".py",
      "mimetype": "text/x-python",
      "name": "python",
      "nbconvert_exporter": "python",
      "pygments_lexer": "ipython3",
      "version": "3.12.0"
    },
    "colab": {
      "provenance": []
    }
  },
  "nbformat": 4,
  "nbformat_minor": 5
}